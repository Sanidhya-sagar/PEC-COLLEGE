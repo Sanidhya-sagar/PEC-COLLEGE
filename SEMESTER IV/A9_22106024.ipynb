{
 "cells": [
  {
   "cell_type": "markdown",
   "metadata": {},
   "source": [
    "# DAIR ASSIGNMENT IX\n",
    "\n",
    "Name:     Sanidhya \\\n",
    "SID:    22106024 \\\n",
    "Branch: Computer Science Engineering (Data Science)"
   ]
  },
  {
   "cell_type": "markdown",
   "metadata": {},
   "source": [
    "#### Q. You are tasked with creating a keyword indexing system for a collection of documents. Each document is represented as a string, and you need to create an index that maps each keyword to the documents in which it appears. Write a Python function to implement this indexing system.\n",
    "#### Your function should take a list of documents as input and return a dictionary where the keys are keywords and the values are lists of document indices where the keyword appears."
   ]
  },
  {
   "cell_type": "code",
   "execution_count": 1,
   "metadata": {},
   "outputs": [
    {
     "name": "stdout",
     "output_type": "stream",
     "text": [
      "{'This': [0, 1], 'is': [0, 1, 2], 'the': [0, 1, 2, 3], 'first': [0, 3], 'document.': [0, 1], 'document': [1], 'second': [1], 'And': [2], 'this': [2, 3], 'third': [2], 'one.': [2], 'Is': [3], 'document?': [3]}\n"
     ]
    }
   ],
   "source": [
    "def index_documents(documents):\n",
    "    index = {}\n",
    "    for i, document in enumerate(documents):\n",
    "        words = document.split()\n",
    "        for word in words:\n",
    "            if word not in index:\n",
    "                index[word] = [i]\n",
    "            else:\n",
    "                if i not in index[word]:\n",
    "                    index[word].append(i)\n",
    "    return index\n",
    "\n",
    "# Example usage:\n",
    "documents = [\n",
    "    \"This is the first document.\",\n",
    "    \"This document is the second document.\",\n",
    "    \"And this is the third one.\",\n",
    "    \"Is this the first document?\"\n",
    "]\n",
    "\n",
    "index = index_documents(documents)\n",
    "print(index)\n"
   ]
  }
 ],
 "metadata": {
  "kernelspec": {
   "display_name": "Python 3",
   "language": "python",
   "name": "python3"
  },
  "language_info": {
   "codemirror_mode": {
    "name": "ipython",
    "version": 3
   },
   "file_extension": ".py",
   "mimetype": "text/x-python",
   "name": "python",
   "nbconvert_exporter": "python",
   "pygments_lexer": "ipython3",
   "version": "3.11.0"
  }
 },
 "nbformat": 4,
 "nbformat_minor": 2
}
