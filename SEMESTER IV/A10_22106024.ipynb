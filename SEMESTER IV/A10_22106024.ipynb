{
 "cells": [
  {
   "cell_type": "markdown",
   "id": "ecdbbdc4",
   "metadata": {},
   "source": [
    "# DAIR ASSIGNMENT X\n",
    "\n",
    "Name:     Sanidhya \\\n",
    "SID:    22106024 \\\n",
    "Branch: Computer Science Engineering (Data Science)"
   ]
  },
  {
   "cell_type": "code",
   "execution_count": 1,
   "id": "458ca530-657b-47e9-9013-1e15f3e169c0",
   "metadata": {},
   "outputs": [],
   "source": [
    "import numpy as np"
   ]
  },
  {
   "cell_type": "markdown",
   "id": "6fc164a7-4946-4dad-8695-48fca1c6b040",
   "metadata": {},
   "source": [
    "### 1. Implement the PageRank algorithm in Python to compute the PageRank scores\n",
    "### for each page in the graph."
   ]
  },
  {
   "cell_type": "code",
   "execution_count": 2,
   "id": "6acc3ec1-21b8-42cb-890c-35f3b9e0442c",
   "metadata": {},
   "outputs": [],
   "source": [
    "def pagerank(adjacency_matrix, d=0.85, max_iterations=100, tol=1e-6):\n",
    "    # Initialize variables\n",
    "    N = len(adjacency_matrix)\n",
    "    pr = np.ones(N) / N\n",
    "    teleport = np.ones(N) / N\n",
    "    dangling_nodes = np.where(adjacency_matrix.sum(axis=1) == 0)[0]\n",
    "    # Iterate until convergence or max_iterations reached\n",
    "    for _ in range(max_iterations):\n",
    "        prev_pr = np.copy(pr)\n",
    "        for i in range(N):\n",
    "            if adjacency_matrix[i].sum() == 0:  # Handling dangling nodes\n",
    "                pr[i] = teleport[i]\n",
    "            else:\n",
    "                pr[i] = (1 - d) / N + d * np.sum(prev_pr * adjacency_matrix[:, i] / adjacency_matrix.sum(axis=1))\n",
    "        # Check convergence\n",
    "        if np.linalg.norm(prev_pr - pr, 1) < tol:\n",
    "            break\n",
    "    return pr"
   ]
  },
  {
   "cell_type": "code",
   "execution_count": 3,
   "id": "1c713165-10c4-44f5-b527-bf6373a7b4bc",
   "metadata": {
    "vscode": {
     "languageId": "javascript"
    }
   },
   "outputs": [
    {
     "name": "stdout",
     "output_type": "stream",
     "text": [
      "PageRank scores: [0.24592778 0.24592778 0.366736   0.14140843]\n"
     ]
    }
   ],
   "source": [
    "adjacency_matrix = np.array([[0, 1, 1, 0],\n",
    "                             [1, 0, 1, 0],\n",
    "                             [1, 1, 0, 1],\n",
    "                             [0, 0, 1, 0]])\n",
    "pagerank_scores = pagerank(adjacency_matrix)\n",
    "print(\"PageRank scores:\", pagerank_scores)"
   ]
  },
  {
   "cell_type": "markdown",
   "id": "72e0ea07-e63a-459d-a029-fdc312f1e907",
   "metadata": {},
   "source": [
    "### 2. Implement the HITS algorithm in Python to compute the hub and authority\n",
    "### scores for each page in the graph."
   ]
  },
  {
   "cell_type": "code",
   "execution_count": 4,
   "id": "ab370007-b803-4721-88cb-7361d9ff594f",
   "metadata": {},
   "outputs": [],
   "source": [
    "def hits(adjacency_matrix, max_iterations=100, tol=1e-6):\n",
    "    N = len(adjacency_matrix)\n",
    "    hubs = np.ones(N)\n",
    "    authorities = np.ones(N)\n",
    "    for _ in range(max_iterations):\n",
    "        prev_hubs = np.copy(hubs)\n",
    "        prev_authorities = np.copy(authorities)\n",
    "        for i in range(N):\n",
    "            authorities[i] = np.sum(prev_hubs * adjacency_matrix[i])\n",
    "            hubs[i] = np.sum(prev_authorities * adjacency_matrix[:, i])\n",
    "        # Normalize scores\n",
    "        authorities /= np.linalg.norm(authorities)\n",
    "        hubs /= np.linalg.norm(hubs)\n",
    "        # Check convergence\n",
    "        if (np.linalg.norm(prev_authorities - authorities, 1) < tol) and \\\n",
    "           (np.linalg.norm(prev_hubs - hubs, 1) < tol):\n",
    "            break\n",
    "    return hubs, authorities"
   ]
  },
  {
   "cell_type": "code",
   "execution_count": 5,
   "id": "56f86276-066b-4170-971a-0f93f23eb150",
   "metadata": {},
   "outputs": [
    {
     "name": "stdout",
     "output_type": "stream",
     "text": [
      "Hubs scores: [0.52272079 0.52272079 0.61162831 0.2818453 ]\n",
      "Authorities scores: [0.52272079 0.52272079 0.61162831 0.2818453 ]\n"
     ]
    }
   ],
   "source": [
    "hubs_scores, authorities_scores = hits(adjacency_matrix)\n",
    "print(\"Hubs scores:\", hubs_scores)\n",
    "print(\"Authorities scores:\", authorities_scores)"
   ]
  }
 ],
 "metadata": {
  "kernelspec": {
   "display_name": "Python 3 (ipykernel)",
   "language": "python",
   "name": "python3"
  },
  "language_info": {
   "codemirror_mode": {
    "name": "ipython",
    "version": 3
   },
   "file_extension": ".py",
   "mimetype": "text/x-python",
   "name": "python",
   "nbconvert_exporter": "python",
   "pygments_lexer": "ipython3",
   "version": "3.11.0"
  }
 },
 "nbformat": 4,
 "nbformat_minor": 5
}
