{
 "cells": [
  {
   "cell_type": "markdown",
   "metadata": {},
   "source": [
    "# DAIR ASSIGNMENT V\n",
    "\n",
    "Name:     Sanidhya \\\n",
    "SID:    22106024 \\\n",
    "Branch: Computer Science Engineering (Data Science)"
   ]
  },
  {
   "cell_type": "code",
   "execution_count": 21,
   "metadata": {},
   "outputs": [],
   "source": [
    "import sqlite3"
   ]
  },
  {
   "cell_type": "code",
   "execution_count": 22,
   "metadata": {
    "tags": []
   },
   "outputs": [],
   "source": [
    "# Create a database named BookHaven.\n",
    "con = sqlite3.connect(\"Book_haven.db\")"
   ]
  },
  {
   "cell_type": "code",
   "execution_count": 23,
   "metadata": {
    "tags": []
   },
   "outputs": [
    {
     "data": {
      "text/plain": [
       "<sqlite3.Cursor at 0x1d3024eb940>"
      ]
     },
     "execution_count": 23,
     "metadata": {},
     "output_type": "execute_result"
    }
   ],
   "source": [
    "cursor=con.cursor()\n",
    "cursor.execute('''DROP TABLE IF EXISTS Books''')\n",
    "cursor.execute('''DROP TABLE IF EXISTS Authors''')\n",
    "cursor.execute('''DROP TABLE IF EXISTS Customers''')\n",
    "cursor.execute('''DROP TABLE IF EXISTS Sales''')"
   ]
  },
  {
   "cell_type": "code",
   "execution_count": 24,
   "metadata": {
    "tags": []
   },
   "outputs": [
    {
     "data": {
      "text/plain": [
       "<sqlite3.Cursor at 0x1d3024eb940>"
      ]
     },
     "execution_count": 24,
     "metadata": {},
     "output_type": "execute_result"
    }
   ],
   "source": [
    "#Books: book_id, title, author_id, price, quantity\n",
    "cursor.execute('''CREATE TABLE Books (\n",
    "book_id INTEGER PRIMARY KEY,\n",
    "title TEXT,\n",
    "author_id INTEGER,\n",
    "price REAL,\n",
    "quantity INTEGER,\n",
    "FOREIGN KEY (author_id) REFERENCES Authors(author_id)\n",
    ")''')"
   ]
  },
  {
   "cell_type": "code",
   "execution_count": 25,
   "metadata": {
    "tags": []
   },
   "outputs": [
    {
     "data": {
      "text/plain": [
       "<sqlite3.Cursor at 0x1d3024eb940>"
      ]
     },
     "execution_count": 25,
     "metadata": {},
     "output_type": "execute_result"
    }
   ],
   "source": [
    "# Authors: author_id, author_name, country\n",
    "cursor.execute('''CREATE TABLE Authors (\n",
    "author_id INTEGER PRIMARY KEY,\n",
    "author_name TEXT,\n",
    "country TEXT              \n",
    ")''')"
   ]
  },
  {
   "cell_type": "code",
   "execution_count": 26,
   "metadata": {
    "tags": []
   },
   "outputs": [
    {
     "data": {
      "text/plain": [
       "<sqlite3.Cursor at 0x1d3024eb940>"
      ]
     },
     "execution_count": 26,
     "metadata": {},
     "output_type": "execute_result"
    }
   ],
   "source": [
    "# Customers: customer_id, customer_name, email, phone\n",
    "cursor.execute('''CREATE TABLE Customers (\n",
    "customer_id INTEGER PRIMARY KEY,\n",
    "customer_name TEXT,\n",
    "email TEXT,\n",
    "phone INTEGER              \n",
    ")''')"
   ]
  },
  {
   "cell_type": "code",
   "execution_count": 27,
   "metadata": {
    "tags": []
   },
   "outputs": [
    {
     "data": {
      "text/plain": [
       "<sqlite3.Cursor at 0x1d3024eb940>"
      ]
     },
     "execution_count": 27,
     "metadata": {},
     "output_type": "execute_result"
    }
   ],
   "source": [
    "#Sales: sale_id, customer_id, book_id, quantity_sold, total_price, sale_date\n",
    "cursor.execute('''CREATE TABLE Sales (\n",
    "sale_id INTEGER PRIMARY KEY,\n",
    "total_price INTEGER,\n",
    "customer_id INTEGER,\n",
    "quantity_sold INTEGER,\n",
    "book_id INTEGER,\n",
    "sale_date DATE,\n",
    "FOREIGN KEY (customer_id) REFERENCES Customers(customer_id),\n",
    "FOREIGN KEY (book_id) REFERENCES Books(book_id)                            \n",
    ")''')"
   ]
  },
  {
   "cell_type": "code",
   "execution_count": 28,
   "metadata": {
    "tags": []
   },
   "outputs": [
    {
     "data": {
      "text/plain": [
       "<sqlite3.Cursor at 0x1d3024eb940>"
      ]
     },
     "execution_count": 28,
     "metadata": {},
     "output_type": "execute_result"
    }
   ],
   "source": [
    "cursor.execute('''INSERT INTO Books (book_id, title, author_id, price, quantity) VALUES \n",
    "    (111,'Harry Potter and the Philosophers Stone', 1, 15.99, 100),\n",
    "    (112,'The Shining', 2, 12.50, 75),\n",
    "    (113,'Pride and Prejudice', 3, 10.99, 120),\n",
    "    (114,'To Kill a Mockingbird', 4, 11.75, 90),\n",
    "    (115,'1984', 5, 9.99, 110)''')"
   ]
  },
  {
   "cell_type": "code",
   "execution_count": 29,
   "metadata": {
    "tags": []
   },
   "outputs": [
    {
     "data": {
      "text/plain": [
       "<sqlite3.Cursor at 0x1d3024eb940>"
      ]
     },
     "execution_count": 29,
     "metadata": {},
     "output_type": "execute_result"
    }
   ],
   "source": [
    "cursor.execute('''INSERT INTO Authors (author_id,author_name, country) VALUES\n",
    "    (011,'J.K. Rowling', 'United Kingdom'),\n",
    "    (012,'Stephen King', 'United States'),\n",
    "    (013,'Jane Austen', 'United Kingdom'),\n",
    "    (014,'Harper Lee', 'United States'),\n",
    "    (015,'George Orwell', 'United Kingdom')''')"
   ]
  },
  {
   "cell_type": "code",
   "execution_count": 30,
   "metadata": {
    "tags": []
   },
   "outputs": [
    {
     "data": {
      "text/plain": [
       "<sqlite3.Cursor at 0x1d3024eb940>"
      ]
     },
     "execution_count": 30,
     "metadata": {},
     "output_type": "execute_result"
    }
   ],
   "source": [
    "cursor.execute('''INSERT INTO Customers (customer_name, email, phone) VALUES\n",
    "    ('John Doe', 'john@example.com', '123-456-7890'),\n",
    "    ('Jane Smith', 'jane@example.com', '987-654-3210'),\n",
    "    ('Alice Johnson', 'alice@example.com', '456-789-0123'),\n",
    "    ('Bob Brown', 'bob@example.com', '789-012-3456'),\n",
    "    ('Charlie Davis', 'charlie@example.com', '321-654-9870')''')"
   ]
  },
  {
   "cell_type": "code",
   "execution_count": 31,
   "metadata": {
    "tags": []
   },
   "outputs": [
    {
     "data": {
      "text/plain": [
       "<sqlite3.Cursor at 0x1d3024eb940>"
      ]
     },
     "execution_count": 31,
     "metadata": {},
     "output_type": "execute_result"
    }
   ],
   "source": [
    "cursor.execute('''INSERT INTO Sales (sale_id, customer_id, book_id, quantity_sold, total_price, sale_date) VALUES\n",
    "    (1, 1, 1, 2, 31.98, '2024-02-20'),\n",
    "    (2, 2, 2, 1, 12.50, '2024-02-19'),\n",
    "    (3, 3, 3, 3, 32.97, '2024-02-18'),\n",
    "    (4, 4, 4, 1, 11.75, '2024-02-17'),\n",
    "    (5, 5, 5, 2, 19.98, '2024-02-16')''')"
   ]
  },
  {
   "cell_type": "code",
   "execution_count": 32,
   "metadata": {
    "tags": []
   },
   "outputs": [],
   "source": [
    "def execute_query(query):\n",
    "    cursor.execute(query)\n",
    "    rows = cursor.fetchall()\n",
    "    for row in rows:\n",
    "        print(row)"
   ]
  },
  {
   "cell_type": "code",
   "execution_count": 33,
   "metadata": {},
   "outputs": [
    {
     "name": "stdout",
     "output_type": "stream",
     "text": [
      "Details of all books:\n",
      "(111, 'Harry Potter and the Philosophers Stone', 1, 15.99, 100)\n",
      "(112, 'The Shining', 2, 12.5, 75)\n",
      "(113, 'Pride and Prejudice', 3, 10.99, 120)\n",
      "(114, 'To Kill a Mockingbird', 4, 11.75, 90)\n",
      "(115, '1984', 5, 9.99, 110)\n"
     ]
    }
   ],
   "source": [
    "# a. Retrieve the details of all books\n",
    "query_a = \"SELECT * FROM Books\"\n",
    "print(\"Details of all books:\")\n",
    "execute_query(query_a)"
   ]
  },
  {
   "cell_type": "code",
   "execution_count": 34,
   "metadata": {},
   "outputs": [
    {
     "name": "stdout",
     "output_type": "stream",
     "text": [
      "Details of all Customer:\n",
      "(1, 'John Doe', 'john@example.com', '123-456-7890')\n",
      "(2, 'Jane Smith', 'jane@example.com', '987-654-3210')\n",
      "(3, 'Alice Johnson', 'alice@example.com', '456-789-0123')\n",
      "(4, 'Bob Brown', 'bob@example.com', '789-012-3456')\n",
      "(5, 'Charlie Davis', 'charlie@example.com', '321-654-9870')\n"
     ]
    }
   ],
   "source": [
    "# b. Retrieve the details of all customers.\n",
    "query_b=\"SELECT * FROM Customers\"\n",
    "print(\"Details of all Customer:\")\n",
    "execute_query(query_b)"
   ]
  },
  {
   "cell_type": "code",
   "execution_count": 35,
   "metadata": {},
   "outputs": [
    {
     "name": "stdout",
     "output_type": "stream",
     "text": [
      "Detail of All sales transactions\n",
      "(1, 31.98, 1, 2, 1, '2024-02-20')\n",
      "(2, 12.5, 2, 1, 2, '2024-02-19')\n",
      "(3, 32.97, 3, 3, 3, '2024-02-18')\n",
      "(4, 11.75, 4, 1, 4, '2024-02-17')\n",
      "(5, 19.98, 5, 2, 5, '2024-02-16')\n"
     ]
    }
   ],
   "source": [
    "# c. Retrieve the details of all sales transactions.\n",
    "query_c=\"SELECT * FROM Sales\"\n",
    "print(\"Detail of All sales transactions\")\n",
    "execute_query(query_c)"
   ]
  },
  {
   "cell_type": "code",
   "execution_count": 1,
   "metadata": {},
   "outputs": [
    {
     "name": "stdout",
     "output_type": "stream",
     "text": [
      "\n",
      "Total sales amount for each book:\n"
     ]
    },
    {
     "ename": "NameError",
     "evalue": "name 'execute_query' is not defined",
     "output_type": "error",
     "traceback": [
      "\u001b[1;31m---------------------------------------------------------------------------\u001b[0m",
      "\u001b[1;31mNameError\u001b[0m                                 Traceback (most recent call last)",
      "Cell \u001b[1;32mIn[1], line 4\u001b[0m\n\u001b[0;32m      2\u001b[0m query_d\u001b[38;5;241m=\u001b[39m\u001b[38;5;124m\"\u001b[39m\u001b[38;5;124mSELECT Books.title, SUM(Sales.total_price) AS total_sales_amount FROM Books JOIN Sales ON Books.book_id = Sales.book_id GROUP BY Books.title\u001b[39m\u001b[38;5;124m\"\u001b[39m\n\u001b[0;32m      3\u001b[0m \u001b[38;5;28mprint\u001b[39m(\u001b[38;5;124m\"\u001b[39m\u001b[38;5;130;01m\\n\u001b[39;00m\u001b[38;5;124mTotal sales amount for each book:\u001b[39m\u001b[38;5;124m\"\u001b[39m)\n\u001b[1;32m----> 4\u001b[0m \u001b[43mexecute_query\u001b[49m(query_d)\n",
      "\u001b[1;31mNameError\u001b[0m: name 'execute_query' is not defined"
     ]
    }
   ],
   "source": [
    "# d. Retrieve the total sales amount for each book.\n",
    "query_d=\"SELECT Books.title, SUM(Sales.total_price) AS total_sales_amount FROM Books JOIN Sales ON Books.book_id = Sales.book_id GROUP BY Books.title\"\n",
    "print(\"\\nTotal sales amount for each book:\")\n",
    "execute_query(query_d)"
   ]
  },
  {
   "cell_type": "code",
   "execution_count": 37,
   "metadata": {},
   "outputs": [
    {
     "name": "stdout",
     "output_type": "stream",
     "text": [
      "\n",
      "Total number of books sold:\n",
      "(9,)\n"
     ]
    }
   ],
   "source": [
    "# e. Retrieve the total number of books sold.\n",
    "query_e = \"SELECT SUM(quantity_sold) FROM Sales\"\n",
    "print(\"\\nTotal number of books sold:\")\n",
    "execute_query(query_e)"
   ]
  },
  {
   "cell_type": "code",
   "execution_count": 38,
   "metadata": {},
   "outputs": [
    {
     "name": "stdout",
     "output_type": "stream",
     "text": [
      "\n",
      "Details of books authored by a specific author:\n",
      "(111, 'Harry Potter and the Philosophers Stone', 1, 15.99, 100)\n"
     ]
    }
   ],
   "source": [
    "# f. Retrieve the details of books authored by a specific author\n",
    "query_f = \"SELECT * FROM Books WHERE author_id = 1\"  # Assuming we are retrieving books by Author1\n",
    "print(\"\\nDetails of books authored by a specific author:\")\n",
    "execute_query(query_f)"
   ]
  },
  {
   "cell_type": "code",
   "execution_count": 39,
   "metadata": {},
   "outputs": [
    {
     "name": "stdout",
     "output_type": "stream",
     "text": [
      "\n",
      "Details of sales transactions made by a specific customer:\n",
      "(1, 31.98, 1, 2, 1, '2024-02-20')\n"
     ]
    }
   ],
   "source": [
    "# g. Retrieve the details of sales transactions made by a specific customer\n",
    "query_g = \"SELECT * FROM Sales WHERE customer_id = 1\"  # Assuming we are retrieving sales made by Customer1\n",
    "print(\"\\nDetails of sales transactions made by a specific customer:\")\n",
    "execute_query(query_g)"
   ]
  },
  {
   "cell_type": "code",
   "execution_count": 40,
   "metadata": {},
   "outputs": [],
   "source": [
    "# Close the connection\n",
    "con.close()"
   ]
  }
 ],
 "metadata": {
  "kernelspec": {
   "display_name": "Python 3 (ipykernel)",
   "language": "python",
   "name": "python3"
  },
  "language_info": {
   "codemirror_mode": {
    "name": "ipython",
    "version": 3
   },
   "file_extension": ".py",
   "mimetype": "text/x-python",
   "name": "python",
   "nbconvert_exporter": "python",
   "pygments_lexer": "ipython3",
   "version": "3.11.0"
  }
 },
 "nbformat": 4,
 "nbformat_minor": 4
}
