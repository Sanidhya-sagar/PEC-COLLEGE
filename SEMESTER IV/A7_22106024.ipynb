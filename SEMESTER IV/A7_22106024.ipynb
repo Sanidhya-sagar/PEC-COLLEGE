{
 "cells": [
  {
   "cell_type": "markdown",
   "metadata": {},
   "source": [
    "# DAIR ASSIGNMENT VII\n",
    "\n",
    "Name:     Sanidhya \\\n",
    "SID:    22106024 \\\n",
    "Branch: Computer Science Engineering (Data Science)"
   ]
  },
  {
   "cell_type": "code",
   "execution_count": 1,
   "metadata": {},
   "outputs": [],
   "source": [
    "import sqlite3"
   ]
  },
  {
   "cell_type": "markdown",
   "metadata": {},
   "source": [
    "## Scenario 1:\n",
    "### Imagine a small library system where we need to keep track of books, authors, and the publishers who publish these books. Each book belongs to one author, and each author can write multiple books. Additionally, each book is published by one publisher."
   ]
  },
  {
   "cell_type": "markdown",
   "metadata": {},
   "source": [
    "1. First Normal Form (1NF): \n",
    "     Make sure every column contains atomic values, i.e., no repeating groups or arrays.\n",
    "2. Second Normal Form (2NF):\n",
    "     Ensure that there are no partial dependencies.\n",
    "3. Third Normal Form (3NF):\n",
    "     Make sure there are no transitive dependencies.\n",
    "\n",
    "Updated Data:\n",
    "\n",
    "Books:\n",
    "BookID\tTitle\tAuthorID\n",
    "1\tThe Great Gatsby\t1\n",
    "2\tTo Kill a Mockingbird\t2\n",
    "3\t1984\t3\n",
    "\n",
    "Authors:\n",
    "AuthorID\tAuthorName\n",
    "1\tF. Scott Fitzgerald\n",
    "2\tHarper Lee\n",
    "3\tGeorge Orwell\n",
    "\n",
    "Publishers:\n",
    "PublisherID\tPublisherName\n",
    "1\tScribner\n",
    "2\tHarper & Brothers\n",
    "3\tSecker & Warburg\n",
    "\n",
    "Book_Publisher:\n",
    "BookID\tPublisherID\n",
    "1\t1\n",
    "2\t2\n",
    "3\t3\n",
    "\n",
    "Now, the data is in 3NF, with no transitive dependencies.\n"
   ]
  },
  {
   "cell_type": "markdown",
   "metadata": {},
   "source": [
    "## Scenario 2:\n",
    "### Imagine a database for a university. This database needs to store information about students, courses, and their enrollment. Each student can enroll in multiple courses, and each course can have multiple students enrolled. Additionally, each course is taught by a single instructor, and each instructor can teach multiple courses."
   ]
  },
  {
   "cell_type": "code",
   "execution_count": 2,
   "metadata": {},
   "outputs": [],
   "source": [
    "connection = sqlite3.connect(\"University.db\")\n",
    "\n",
    "cursor = connection.cursor()\n",
    "\n",
    "cursor.execute('''CREATE TABLE IF NOT EXISTS Students(\n",
    "StudentID INTEGER PRIMARY KEY,\n",
    "StudentName TEXT,\n",
    "DateOfBirth TEXT,\n",
    "Gender TEXT               \n",
    ")''')\n",
    "\n",
    "cursor.execute('''CREATE TABLE IF NOT EXISTS Courses(\n",
    "CourseID INTEGER PRIMARY KEY,\n",
    "CourseName TEXT,\n",
    "InstructorID INTEGER,\n",
    "FOREIGN KEY (InstructorID) REFERENCES Instructors(InstructorID)\n",
    ")''')\n",
    "\n",
    "cursor.execute('''CREATE TABLE IF NOT EXISTS Instructors(\n",
    "InstructorID INTEGER PRIMARY KEY,\n",
    "InstructorName TEXT,\n",
    "Department TEXT\n",
    ")''')\n",
    "\n",
    "cursor.execute('''CREATE TABLE IF NOT EXISTS Enrollment(\n",
    "EnrollmentID INTEGER PRIMARY KEY,\n",
    "StudentID INTEGER,\n",
    "CourseID INTEGER,\n",
    "EnrollmentDate TEXT,\n",
    "FOREIGN KEY (StudentID) REFERENCES Students(StudentID),\n",
    "FOREIGN KEY (CourseID) REFERENCES Courses(CourseID)\n",
    ")''')\n",
    "\n",
    "connection.commit()\n",
    "connection.close()"
   ]
  },
  {
   "cell_type": "code",
   "execution_count": 3,
   "metadata": {},
   "outputs": [],
   "source": [
    "connection = sqlite3.connect(\"University.db\")\n",
    "cursor = connection.cursor()\n",
    "\n",
    "\n",
    "cursor.execute('''INSERT INTO Students (StudentID, StudentName, DateOfBirth, Gender) VALUES\n",
    "(1, 'John Doe', '2000-05-15', 'Male'),\n",
    "(2, 'Jane Smith', '2001-08-20', 'Female'),\n",
    "(3, 'Alex Johnson', '1999-11-10', 'Male')''')\n",
    "\n",
    "connection.commit()\n",
    "connection.close()"
   ]
  },
  {
   "cell_type": "code",
   "execution_count": 4,
   "metadata": {},
   "outputs": [],
   "source": [
    "connection = sqlite3.connect(\"University.db\")\n",
    "cursor = connection.cursor()\n",
    "\n",
    "\n",
    "cursor.execute('''INSERT INTO Courses (CourseID, CourseName, InstructorID) VALUES\n",
    "(101, 'Introduction to Computer Science', 1),\n",
    "(102, 'English Composition', 2),\n",
    "(103, 'Mathematics I', 3)''')\n",
    "\n",
    "connection.commit()\n",
    "connection.close()"
   ]
  },
  {
   "cell_type": "code",
   "execution_count": 5,
   "metadata": {},
   "outputs": [],
   "source": [
    "connection = sqlite3.connect(\"University.db\")\n",
    "cursor = connection.cursor()\n",
    "\n",
    "\n",
    "cursor.execute('''INSERT INTO Instructors (InstructorID, InstructorName, Department) VALUES\n",
    "(1, 'Professor Anderson', 'Computer Science'),\n",
    "(2, 'Professor Roberts', 'English'),\n",
    "(3, 'Professor Williams', 'Mathematics')''')\n",
    "\n",
    "connection.commit()\n",
    "connection.close()"
   ]
  },
  {
   "cell_type": "code",
   "execution_count": 6,
   "metadata": {},
   "outputs": [],
   "source": [
    "connection = sqlite3.connect(\"University.db\")\n",
    "cursor = connection.cursor()\n",
    "\n",
    "\n",
    "cursor.execute('''INSERT INTO Enrollment (EnrollmentID, StudentID, CourseID, EnrollmentDate) VALUES\n",
    "(1, 1, 101, '2024-01-10'),\n",
    "(2, 2, 102, '2024-01-12'),\n",
    "(3, 3, 103, '2024-01-15')''')\n",
    "\n",
    "connection.commit()\n",
    "connection.close()"
   ]
  },
  {
   "cell_type": "markdown",
   "metadata": {},
   "source": [
    "Let's analyze the given tables and ensure they conform to the First, Second, and Third Normal Forms (1NF, 2NF, and 3NF):\n",
    "\n",
    "### First Normal Form (1NF):\n",
    "1. **Students**:\n",
    "    - Already in 1NF, as each column contains atomic values and there are no repeating groups or arrays.\n",
    "   \n",
    "2. **Courses**:\n",
    "    - Already in 1NF, as each column contains atomic values and there are no repeating groups or arrays.\n",
    "   \n",
    "3. **Instructors**:\n",
    "    - Already in 1NF, as each column contains atomic values and there are no repeating groups or arrays.\n",
    "   \n",
    "4. **Enrollment**:\n",
    "    - Already in 1NF, as each column contains atomic values and there are no repeating groups or arrays.\n",
    "\n",
    "### Second Normal Form (2NF):\n",
    "1. **Students**:\n",
    "    - No partial dependencies exist as all non-key attributes (StudentName, DateOfBirth, Gender) are fully functionally dependent on the primary key (StudentID).\n",
    "\n",
    "2. **Courses**:\n",
    "    - No partial dependencies exist as all non-key attributes (CourseName, InstructorID) are fully functionally dependent on the primary key (CourseID).\n",
    "\n",
    "3. **Instructors**:\n",
    "    - No partial dependencies exist as all non-key attributes (InstructorName, Department) are fully functionally dependent on the primary key (InstructorID).\n",
    "\n",
    "4. **Enrollment**:\n",
    "    - No partial dependencies exist as all attributes (StudentID, CourseID, EnrollmentDate) are part of the composite primary key and there are no non-prime attributes.\n",
    "\n",
    "### Third Normal Form (3NF):\n",
    "1. **Students**:\n",
    "    - No transitive dependencies exist.\n",
    "\n",
    "2. **Courses**:\n",
    "    - No transitive dependencies exist.\n",
    "\n",
    "3. **Instructors**:\n",
    "    - No transitive dependencies exist.\n",
    "\n",
    "4. **Enrollment**:\n",
    "    - No transitive dependencies exist.\n",
    "\n",
    "All tables are already in 1NF, 2NF, and 3NF, so no further normalization is required. The database schema is well-structured and normalized."
   ]
  }
 ],
 "metadata": {
  "kernelspec": {
   "display_name": "Python 3",
   "language": "python",
   "name": "python3"
  },
  "language_info": {
   "codemirror_mode": {
    "name": "ipython",
    "version": 3
   },
   "file_extension": ".py",
   "mimetype": "text/x-python",
   "name": "python",
   "nbconvert_exporter": "python",
   "pygments_lexer": "ipython3",
   "version": "3.11.0"
  }
 },
 "nbformat": 4,
 "nbformat_minor": 2
}
