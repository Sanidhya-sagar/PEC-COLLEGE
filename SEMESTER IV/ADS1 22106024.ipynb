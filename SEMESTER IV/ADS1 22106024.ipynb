{
 "cells": [
  {
   "cell_type": "markdown",
   "id": "269c5254-a670-43f6-85e5-92a55fb5d065",
   "metadata": {},
   "source": [
    "#                                                               ADS LAB ASSIGNMENT I\n",
    "\n",
    "*Name:*     Sanidhya \\\n",
    "*SID:*    22106024 \\\n",
    "*Branch:* Computer Science Engineering (Data Science)"
   ]
  },
  {
   "cell_type": "code",
   "execution_count": 1,
   "id": "ee54fcbd-a95f-4294-a571-4c644daac503",
   "metadata": {},
   "outputs": [],
   "source": [
    "import numpy as np"
   ]
  },
  {
   "cell_type": "code",
   "execution_count": 2,
   "id": "730e93a7-5927-48f0-acd5-4b6e646b6737",
   "metadata": {},
   "outputs": [
    {
     "data": {
      "text/plain": [
       "array([[1, 2, 3],\n",
       "       [4, 5, 6],\n",
       "       [7, 8, 9]])"
      ]
     },
     "execution_count": 2,
     "metadata": {},
     "output_type": "execute_result"
    }
   ],
   "source": [
    "array1 = np.array([[1,2,3],[4,5,6],[7,8,9]])\n",
    "array1"
   ]
  },
  {
   "cell_type": "code",
   "execution_count": 3,
   "id": "6b2c38e9-b551-467e-8176-aa4ef088064b",
   "metadata": {},
   "outputs": [
    {
     "data": {
      "text/plain": [
       "(3, 3)"
      ]
     },
     "execution_count": 3,
     "metadata": {},
     "output_type": "execute_result"
    }
   ],
   "source": [
    "array1.shape"
   ]
  },
  {
   "cell_type": "markdown",
   "id": "5bd54c07-fdf1-4fd3-9297-9ea3d35c28e8",
   "metadata": {},
   "source": [
    "## Solution 1"
   ]
  },
  {
   "cell_type": "code",
   "execution_count": 4,
   "id": "248e79f8-75ca-42ac-9773-b442a40fa8a0",
   "metadata": {},
   "outputs": [],
   "source": [
    "height , width = array1.shape\n",
    "new_height = height + 2\n",
    "new_width = width + 2\n",
    "\n",
    "top_border = np.zeros((1, width))\n",
    "bottom_border = np.zeros((1, width))\n",
    "left_border = np.zeros((new_height, 1))\n",
    "right_border = np.zeros((new_height, 1))\n",
    "\n",
    "new_arr = np.concatenate((top_border, array1, bottom_border), axis=0)\n",
    "new_arr = np.concatenate((left_border, new_arr, right_border), axis=1 )"
   ]
  },
  {
   "cell_type": "code",
   "execution_count": 5,
   "id": "10365b77-ca02-4be3-8be2-803c63719db8",
   "metadata": {},
   "outputs": [
    {
     "data": {
      "text/plain": [
       "array([[0., 0., 0., 0., 0.],\n",
       "       [0., 1., 2., 3., 0.],\n",
       "       [0., 4., 5., 6., 0.],\n",
       "       [0., 7., 8., 9., 0.],\n",
       "       [0., 0., 0., 0., 0.]])"
      ]
     },
     "execution_count": 5,
     "metadata": {},
     "output_type": "execute_result"
    }
   ],
   "source": [
    "new_arr"
   ]
  },
  {
   "cell_type": "markdown",
   "id": "0df3bd88-3b3a-42a5-b160-26a66f8545c5",
   "metadata": {},
   "source": [
    "## Solution 2"
   ]
  },
  {
   "cell_type": "code",
   "execution_count": 6,
   "id": "5d2af1b5-dc67-47d5-acc3-f920cf0b61af",
   "metadata": {},
   "outputs": [
    {
     "data": {
      "text/plain": [
       "array([[0.49888846, 0.59644542, 0.72398498, 0.5099553 , 0.32067926],\n",
       "       [0.85587473, 0.20418263, 0.57639349, 0.26455587, 0.79887719],\n",
       "       [0.53157842, 0.04034752, 0.49607088, 0.01561915, 0.1279949 ],\n",
       "       [0.02275901, 0.10890915, 0.07683792, 0.73697624, 0.80409858],\n",
       "       [0.68420925, 0.768534  , 0.39997065, 0.40035049, 0.83240305]])"
      ]
     },
     "execution_count": 6,
     "metadata": {},
     "output_type": "execute_result"
    }
   ],
   "source": [
    "array2 = np.random.random((5,5))\n",
    "array2"
   ]
  },
  {
   "cell_type": "markdown",
   "id": "24ea0cd2-880c-46fc-b4ea-54f9985b5ced",
   "metadata": {},
   "source": [
    "## Solution 3"
   ]
  },
  {
   "cell_type": "code",
   "execution_count": 7,
   "id": "36caec62-4aab-437f-b61c-b262406e6e93",
   "metadata": {},
   "outputs": [
    {
     "data": {
      "text/plain": [
       "array([[ 38,  36],\n",
       "       [-38, -28],\n",
       "       [  1, -13],\n",
       "       [-50, -13],\n",
       "       [-34, -42],\n",
       "       [-21,  15],\n",
       "       [-29,   6],\n",
       "       [-43, -30],\n",
       "       [ 19, -10],\n",
       "       [-45, -24]])"
      ]
     },
     "execution_count": 7,
     "metadata": {},
     "output_type": "execute_result"
    }
   ],
   "source": [
    "array3 = np.random.randint(low = -50 , high = 50 , size = (10,2))\n",
    "array3"
   ]
  },
  {
   "cell_type": "code",
   "execution_count": 8,
   "id": "2713e470-a732-4093-9694-bcdc9221ec7f",
   "metadata": {},
   "outputs": [],
   "source": [
    "def convert(array):\n",
    "    temp = []\n",
    "    for i in range(len(array)):\n",
    "        x , y = tuple(array[i])\n",
    "        r = np.sqrt((x**2) + (y**2))\n",
    "        theta = np.arctan(y/x)\n",
    "        temp.append([r , theta])\n",
    "    return temp"
   ]
  },
  {
   "cell_type": "code",
   "execution_count": 9,
   "id": "d0bf266b-b34c-4cac-86f3-cc995fec9ff3",
   "metadata": {},
   "outputs": [
    {
     "data": {
      "text/plain": [
       "[[52.3450093132096, 0.7583777142101835],\n",
       " [47.20169488482379, 0.6350267353903137],\n",
       " [13.038404810405298, -1.4940244355251187],\n",
       " [51.66236541235796, 0.25436805855326594],\n",
       " [54.037024344425184, 0.8902751021276822],\n",
       " [25.80697580112788, -0.6202494859828215],\n",
       " [29.614185789921695, -0.20401797959254858],\n",
       " [52.43090691567332, 0.6091634656607725],\n",
       " [21.470910553583888, -0.4844779290370232],\n",
       " [51.0, 0.4899573262537283]]"
      ]
     },
     "execution_count": 9,
     "metadata": {},
     "output_type": "execute_result"
    }
   ],
   "source": [
    "show = convert(array3)\n",
    "show"
   ]
  },
  {
   "cell_type": "markdown",
   "id": "0c083368-ee6b-480b-807a-1b2035de5ab1",
   "metadata": {},
   "source": [
    "## Solution 4"
   ]
  },
  {
   "cell_type": "code",
   "execution_count": 10,
   "id": "c1f004b3-3aa7-4ad9-8afa-e7c7918ffc7b",
   "metadata": {},
   "outputs": [
    {
     "data": {
      "text/plain": [
       "array([[-28,  25, -30,  27, -14,  15,  25,   3, -29, -48],\n",
       "       [-18, -31,  39,   5,  37, -36,  19,  -4,  48,  -3],\n",
       "       [  8,  23, -15,  -5,  -1, -47,  16,  -5,  21, -34],\n",
       "       [ 28,  40,  16, -39,  16,  11,   5,  -7,  40,  47],\n",
       "       [ -4, -21,  -8,   6, -37, -29,   7, -33, -13, -47],\n",
       "       [ -1,  -8,  44, -48,  31,  -9,  -9, -43,  35, -16],\n",
       "       [ 39,  -4,  13,  45,  -6, -43,   6, -28,  33,  47],\n",
       "       [-15, -12, -33, -40,  11, -18,   6, -12, -13, -42],\n",
       "       [ -5,   5, -48,  26,  38,  10, -43, -31,  26,  49],\n",
       "       [ 29, -49,  31,   3, -30,   8,  44,  29, -36,  41]])"
      ]
     },
     "execution_count": 10,
     "metadata": {},
     "output_type": "execute_result"
    }
   ],
   "source": [
    "array4 = np.random.randint(low = -50 , high = 50 , size = (10,10))\n",
    "array4"
   ]
  },
  {
   "cell_type": "code",
   "execution_count": 11,
   "id": "b490af9a-1953-46e8-8005-79ef07015d1f",
   "metadata": {},
   "outputs": [],
   "source": [
    "temp = []\n",
    "for i in range(len(array4)-2):\n",
    "    for j in range(len(array4)-2):\n",
    "        \n",
    "        temp.append(array4[[i,i+1 , i+2]][:,[j,j+1,j+2]])"
   ]
  },
  {
   "cell_type": "code",
   "execution_count": 12,
   "id": "a05a16b9-b181-42a1-a613-4fea5b465d42",
   "metadata": {},
   "outputs": [
    {
     "data": {
      "text/plain": [
       "[array([[-28,  25, -30],\n",
       "        [-18, -31,  39],\n",
       "        [  8,  23, -15]]),\n",
       " array([[ 25, -30,  27],\n",
       "        [-31,  39,   5],\n",
       "        [ 23, -15,  -5]]),\n",
       " array([[-30,  27, -14],\n",
       "        [ 39,   5,  37],\n",
       "        [-15,  -5,  -1]]),\n",
       " array([[ 27, -14,  15],\n",
       "        [  5,  37, -36],\n",
       "        [ -5,  -1, -47]]),\n",
       " array([[-14,  15,  25],\n",
       "        [ 37, -36,  19],\n",
       "        [ -1, -47,  16]]),\n",
       " array([[ 15,  25,   3],\n",
       "        [-36,  19,  -4],\n",
       "        [-47,  16,  -5]]),\n",
       " array([[ 25,   3, -29],\n",
       "        [ 19,  -4,  48],\n",
       "        [ 16,  -5,  21]]),\n",
       " array([[  3, -29, -48],\n",
       "        [ -4,  48,  -3],\n",
       "        [ -5,  21, -34]]),\n",
       " array([[-18, -31,  39],\n",
       "        [  8,  23, -15],\n",
       "        [ 28,  40,  16]]),\n",
       " array([[-31,  39,   5],\n",
       "        [ 23, -15,  -5],\n",
       "        [ 40,  16, -39]]),\n",
       " array([[ 39,   5,  37],\n",
       "        [-15,  -5,  -1],\n",
       "        [ 16, -39,  16]]),\n",
       " array([[  5,  37, -36],\n",
       "        [ -5,  -1, -47],\n",
       "        [-39,  16,  11]]),\n",
       " array([[ 37, -36,  19],\n",
       "        [ -1, -47,  16],\n",
       "        [ 16,  11,   5]]),\n",
       " array([[-36,  19,  -4],\n",
       "        [-47,  16,  -5],\n",
       "        [ 11,   5,  -7]]),\n",
       " array([[19, -4, 48],\n",
       "        [16, -5, 21],\n",
       "        [ 5, -7, 40]]),\n",
       " array([[ -4,  48,  -3],\n",
       "        [ -5,  21, -34],\n",
       "        [ -7,  40,  47]]),\n",
       " array([[  8,  23, -15],\n",
       "        [ 28,  40,  16],\n",
       "        [ -4, -21,  -8]]),\n",
       " array([[ 23, -15,  -5],\n",
       "        [ 40,  16, -39],\n",
       "        [-21,  -8,   6]]),\n",
       " array([[-15,  -5,  -1],\n",
       "        [ 16, -39,  16],\n",
       "        [ -8,   6, -37]]),\n",
       " array([[ -5,  -1, -47],\n",
       "        [-39,  16,  11],\n",
       "        [  6, -37, -29]]),\n",
       " array([[ -1, -47,  16],\n",
       "        [ 16,  11,   5],\n",
       "        [-37, -29,   7]]),\n",
       " array([[-47,  16,  -5],\n",
       "        [ 11,   5,  -7],\n",
       "        [-29,   7, -33]]),\n",
       " array([[ 16,  -5,  21],\n",
       "        [  5,  -7,  40],\n",
       "        [  7, -33, -13]]),\n",
       " array([[ -5,  21, -34],\n",
       "        [ -7,  40,  47],\n",
       "        [-33, -13, -47]]),\n",
       " array([[ 28,  40,  16],\n",
       "        [ -4, -21,  -8],\n",
       "        [ -1,  -8,  44]]),\n",
       " array([[ 40,  16, -39],\n",
       "        [-21,  -8,   6],\n",
       "        [ -8,  44, -48]]),\n",
       " array([[ 16, -39,  16],\n",
       "        [ -8,   6, -37],\n",
       "        [ 44, -48,  31]]),\n",
       " array([[-39,  16,  11],\n",
       "        [  6, -37, -29],\n",
       "        [-48,  31,  -9]]),\n",
       " array([[ 16,  11,   5],\n",
       "        [-37, -29,   7],\n",
       "        [ 31,  -9,  -9]]),\n",
       " array([[ 11,   5,  -7],\n",
       "        [-29,   7, -33],\n",
       "        [ -9,  -9, -43]]),\n",
       " array([[  5,  -7,  40],\n",
       "        [  7, -33, -13],\n",
       "        [ -9, -43,  35]]),\n",
       " array([[ -7,  40,  47],\n",
       "        [-33, -13, -47],\n",
       "        [-43,  35, -16]]),\n",
       " array([[ -4, -21,  -8],\n",
       "        [ -1,  -8,  44],\n",
       "        [ 39,  -4,  13]]),\n",
       " array([[-21,  -8,   6],\n",
       "        [ -8,  44, -48],\n",
       "        [ -4,  13,  45]]),\n",
       " array([[ -8,   6, -37],\n",
       "        [ 44, -48,  31],\n",
       "        [ 13,  45,  -6]]),\n",
       " array([[  6, -37, -29],\n",
       "        [-48,  31,  -9],\n",
       "        [ 45,  -6, -43]]),\n",
       " array([[-37, -29,   7],\n",
       "        [ 31,  -9,  -9],\n",
       "        [ -6, -43,   6]]),\n",
       " array([[-29,   7, -33],\n",
       "        [ -9,  -9, -43],\n",
       "        [-43,   6, -28]]),\n",
       " array([[  7, -33, -13],\n",
       "        [ -9, -43,  35],\n",
       "        [  6, -28,  33]]),\n",
       " array([[-33, -13, -47],\n",
       "        [-43,  35, -16],\n",
       "        [-28,  33,  47]]),\n",
       " array([[ -1,  -8,  44],\n",
       "        [ 39,  -4,  13],\n",
       "        [-15, -12, -33]]),\n",
       " array([[ -8,  44, -48],\n",
       "        [ -4,  13,  45],\n",
       "        [-12, -33, -40]]),\n",
       " array([[ 44, -48,  31],\n",
       "        [ 13,  45,  -6],\n",
       "        [-33, -40,  11]]),\n",
       " array([[-48,  31,  -9],\n",
       "        [ 45,  -6, -43],\n",
       "        [-40,  11, -18]]),\n",
       " array([[ 31,  -9,  -9],\n",
       "        [ -6, -43,   6],\n",
       "        [ 11, -18,   6]]),\n",
       " array([[ -9,  -9, -43],\n",
       "        [-43,   6, -28],\n",
       "        [-18,   6, -12]]),\n",
       " array([[ -9, -43,  35],\n",
       "        [  6, -28,  33],\n",
       "        [  6, -12, -13]]),\n",
       " array([[-43,  35, -16],\n",
       "        [-28,  33,  47],\n",
       "        [-12, -13, -42]]),\n",
       " array([[ 39,  -4,  13],\n",
       "        [-15, -12, -33],\n",
       "        [ -5,   5, -48]]),\n",
       " array([[ -4,  13,  45],\n",
       "        [-12, -33, -40],\n",
       "        [  5, -48,  26]]),\n",
       " array([[ 13,  45,  -6],\n",
       "        [-33, -40,  11],\n",
       "        [-48,  26,  38]]),\n",
       " array([[ 45,  -6, -43],\n",
       "        [-40,  11, -18],\n",
       "        [ 26,  38,  10]]),\n",
       " array([[ -6, -43,   6],\n",
       "        [ 11, -18,   6],\n",
       "        [ 38,  10, -43]]),\n",
       " array([[-43,   6, -28],\n",
       "        [-18,   6, -12],\n",
       "        [ 10, -43, -31]]),\n",
       " array([[  6, -28,  33],\n",
       "        [  6, -12, -13],\n",
       "        [-43, -31,  26]]),\n",
       " array([[-28,  33,  47],\n",
       "        [-12, -13, -42],\n",
       "        [-31,  26,  49]]),\n",
       " array([[-15, -12, -33],\n",
       "        [ -5,   5, -48],\n",
       "        [ 29, -49,  31]]),\n",
       " array([[-12, -33, -40],\n",
       "        [  5, -48,  26],\n",
       "        [-49,  31,   3]]),\n",
       " array([[-33, -40,  11],\n",
       "        [-48,  26,  38],\n",
       "        [ 31,   3, -30]]),\n",
       " array([[-40,  11, -18],\n",
       "        [ 26,  38,  10],\n",
       "        [  3, -30,   8]]),\n",
       " array([[ 11, -18,   6],\n",
       "        [ 38,  10, -43],\n",
       "        [-30,   8,  44]]),\n",
       " array([[-18,   6, -12],\n",
       "        [ 10, -43, -31],\n",
       "        [  8,  44,  29]]),\n",
       " array([[  6, -12, -13],\n",
       "        [-43, -31,  26],\n",
       "        [ 44,  29, -36]]),\n",
       " array([[-12, -13, -42],\n",
       "        [-31,  26,  49],\n",
       "        [ 29, -36,  41]])]"
      ]
     },
     "execution_count": 12,
     "metadata": {},
     "output_type": "execute_result"
    }
   ],
   "source": [
    "temp"
   ]
  },
  {
   "cell_type": "markdown",
   "id": "560a7a43-86c8-459b-87c4-4bd96bb86ad1",
   "metadata": {},
   "source": [
    "## Solution 5"
   ]
  },
  {
   "cell_type": "code",
   "execution_count": 13,
   "id": "912182f2-08b8-49b0-9303-53640b66742d",
   "metadata": {},
   "outputs": [
    {
     "data": {
      "text/plain": [
       "64"
      ]
     },
     "execution_count": 13,
     "metadata": {},
     "output_type": "execute_result"
    }
   ],
   "source": [
    "len(temp)"
   ]
  },
  {
   "cell_type": "code",
   "execution_count": 14,
   "id": "6b7bfa86-9d78-4402-8d44-9e978eff7828",
   "metadata": {},
   "outputs": [],
   "source": [
    "def block_sum(array):\n",
    "    temp = []\n",
    "    temp2 = []\n",
    "    for arr in array:\n",
    "        temp.append(sum(arr))\n",
    "    for arr in temp:\n",
    "        temp2.append(sum(arr))\n",
    "    return temp2"
   ]
  },
  {
   "cell_type": "code",
   "execution_count": 15,
   "id": "06002e1f-410a-4fcc-b279-44fc99eff457",
   "metadata": {},
   "outputs": [],
   "source": [
    "temp2 = np.array(block_sum(temp))"
   ]
  },
  {
   "cell_type": "code",
   "execution_count": 16,
   "id": "4f4487c4-e71b-41e1-884f-6f2ffcc365ad",
   "metadata": {},
   "outputs": [
    {
     "data": {
      "text/plain": [
       "array([ -27,   38,   43,  -19,   14,  -14,   94,  -51,   90,   33,   53,\n",
       "        -59,   20,  -48,  133,  103,   67,   -3,  -67, -125,  -59,  -82,\n",
       "         31,  -31,   86,  -18,  -19,  -98,  -14, -107,  -18,  -37,   50,\n",
       "         19,   40,  -90,  -89, -181,  -45,  -65,   23,  -43,   17,  -77,\n",
       "        -31, -150,  -25,  -39,  -60,  -48,    6,   23,  -39, -153,  -56,\n",
       "         29,  -97, -117,  -42,    8,   26,   -7,  -30,   11])"
      ]
     },
     "execution_count": 16,
     "metadata": {},
     "output_type": "execute_result"
    }
   ],
   "source": [
    "temp2"
   ]
  },
  {
   "cell_type": "markdown",
   "id": "e4028205-237f-4991-b505-61437625618c",
   "metadata": {},
   "source": [
    "## Solution 6"
   ]
  },
  {
   "cell_type": "code",
   "execution_count": 17,
   "id": "d639f8ae-acf0-4197-8064-3467a0933277",
   "metadata": {},
   "outputs": [
    {
     "data": {
      "text/plain": [
       "array([[ 42,  41,  45],\n",
       "       [ 31,   4, -36],\n",
       "       [-19,   9, -41],\n",
       "       [ 45,  -2,  39],\n",
       "       [ -1, -16,   2],\n",
       "       [ -2,  19, -11],\n",
       "       [-14, -17,  11],\n",
       "       [-47, -19, -13],\n",
       "       [ 43,  -3, -43],\n",
       "       [ 25, -22,  23]])"
      ]
     },
     "execution_count": 17,
     "metadata": {},
     "output_type": "execute_result"
    }
   ],
   "source": [
    "array5 = np.random.randint(size = (10,3) , low = -50 , high = 50)\n",
    "array5"
   ]
  },
  {
   "cell_type": "code",
   "execution_count": 18,
   "id": "485ac961-0675-4fdc-b3bc-33a75f195711",
   "metadata": {},
   "outputs": [],
   "source": [
    "def equal_rows(array):\n",
    "    unequal_rows = array[np.any(array, axis=1)]\n",
    "    return unequal_rows"
   ]
  },
  {
   "cell_type": "code",
   "execution_count": 19,
   "id": "a49d2ddb-a767-40d0-a1ab-7d712d1a4fe1",
   "metadata": {},
   "outputs": [
    {
     "data": {
      "text/plain": [
       "array([[ 42,  41,  45],\n",
       "       [ 31,   4, -36],\n",
       "       [-19,   9, -41],\n",
       "       [ 45,  -2,  39],\n",
       "       [ -1, -16,   2],\n",
       "       [ -2,  19, -11],\n",
       "       [-14, -17,  11],\n",
       "       [-47, -19, -13],\n",
       "       [ 43,  -3, -43],\n",
       "       [ 25, -22,  23]])"
      ]
     },
     "execution_count": 19,
     "metadata": {},
     "output_type": "execute_result"
    }
   ],
   "source": [
    "ans = equal_rows(array5)\n",
    "ans"
   ]
  },
  {
   "cell_type": "markdown",
   "id": "32f6521a-0373-434b-b144-f61990fff251",
   "metadata": {},
   "source": [
    "## Solution 7"
   ]
  },
  {
   "cell_type": "code",
   "execution_count": 20,
   "id": "601b27b2-55a5-4dc8-84ce-442cea4fbf33",
   "metadata": {},
   "outputs": [],
   "source": [
    "temp_arr = [23.4,3,55534,56,546,54,76,765,7,6,46,546,5,65,564,64,5,3]\n",
    "temp = []\n",
    "for ele in temp_arr:\n",
    "    if ele < 10:\n",
    "        temp.append(10)\n",
    "    elif ele > 30:\n",
    "        temp.append(30)\n",
    "    else:\n",
    "        temp.append(ele)"
   ]
  },
  {
   "cell_type": "code",
   "execution_count": 21,
   "id": "57732cb9-356f-4046-a32b-994ae7e373fb",
   "metadata": {},
   "outputs": [
    {
     "data": {
      "text/plain": [
       "[23.4, 10, 30, 30, 30, 30, 30, 30, 10, 10, 30, 30, 10, 30, 30, 30, 10, 10]"
      ]
     },
     "execution_count": 21,
     "metadata": {},
     "output_type": "execute_result"
    }
   ],
   "source": [
    "temp"
   ]
  },
  {
   "cell_type": "code",
   "execution_count": 22,
   "id": "a43703b9-6e2b-409e-a34a-35647cb34517",
   "metadata": {},
   "outputs": [
    {
     "name": "stdout",
     "output_type": "stream",
     "text": [
      "2\n"
     ]
    }
   ],
   "source": [
    "print(np.argmax(temp_arr))"
   ]
  },
  {
   "cell_type": "markdown",
   "id": "57c3b28f-8ba7-4e9b-b2b6-89c7bd539b58",
   "metadata": {},
   "source": [
    "## Solution 8"
   ]
  },
  {
   "cell_type": "code",
   "execution_count": 23,
   "id": "142cea10-d1c5-4eff-a2eb-5ba52c491ba3",
   "metadata": {},
   "outputs": [],
   "source": [
    "def max_index(array):\n",
    "    temp = array\n",
    "    for i in range(5):\n",
    "        print(np.argmax(temp))\n",
    "        temp.pop(np.argmax(temp))"
   ]
  },
  {
   "cell_type": "code",
   "execution_count": 24,
   "id": "27bd4a8a-edbb-4e33-a500-74db0607e27f",
   "metadata": {},
   "outputs": [
    {
     "name": "stdout",
     "output_type": "stream",
     "text": [
      "2\n",
      "6\n",
      "12\n",
      "3\n",
      "8\n"
     ]
    }
   ],
   "source": [
    "max_index(temp_arr)"
   ]
  },
  {
   "cell_type": "markdown",
   "id": "aae7fa9e-7748-4f56-ac45-757a74efc1a5",
   "metadata": {},
   "source": [
    "## Solution 9"
   ]
  },
  {
   "cell_type": "code",
   "execution_count": 25,
   "id": "47e2b652-3b73-4454-b4ad-9086c8775a73",
   "metadata": {},
   "outputs": [
    {
     "data": {
      "text/plain": [
       "array([[-22,  44, -38,   2,   8, -50, -12, -17,  20,  36],\n",
       "       [ 22, -30,  47,  17, -39, -35, -50, -42,  38, -19],\n",
       "       [-24, -50,  47, -11,  13, -38, -43,   4,  29,  23],\n",
       "       [ 29, -45, -34,  21,  23,  27,  -4, -36,  21,  48],\n",
       "       [ 13,  27,  -6,  39,  21, -25, -12,   3,  23,  14],\n",
       "       [ 27, -12,  14,  39,  35, -15,  35,  -3, -48, -42],\n",
       "       [ 33,   6,  46, -33,  22,  46, -13,   3, -40, -17],\n",
       "       [ 32,   6,  45, -37, -25,  43, -33,  -9,  41,  38],\n",
       "       [-11, -41,  30, -43,  18, -32,  13,  23,  14, -13],\n",
       "       [ 36,  38,   7,  28,  19,  -9, -44,  14,  -4, -50]])"
      ]
     },
     "execution_count": 25,
     "metadata": {},
     "output_type": "execute_result"
    }
   ],
   "source": [
    "array6 = np.random.randint(high = 50 , low = -50 , size = (10,10))\n",
    "array6"
   ]
  },
  {
   "cell_type": "code",
   "execution_count": 26,
   "id": "02f216d8-607c-4a97-a204-60167e639955",
   "metadata": {},
   "outputs": [],
   "source": [
    "def unique_count(array):\n",
    "    temp  = []\n",
    "    for i in range(len(array)):\n",
    "        temp.append(len(set(array[i])))\n",
    "    return temp"
   ]
  },
  {
   "cell_type": "code",
   "execution_count": 27,
   "id": "0b50033f-d61f-4774-a3cc-9e5ef563b720",
   "metadata": {},
   "outputs": [
    {
     "data": {
      "text/plain": [
       "[10, 10, 10, 9, 10, 9, 9, 10, 10, 10]"
      ]
     },
     "execution_count": 27,
     "metadata": {},
     "output_type": "execute_result"
    }
   ],
   "source": [
    "ans = unique_count(array6)\n",
    "ans"
   ]
  },
  {
   "cell_type": "markdown",
   "id": "e13c433c-6434-468e-bc1b-1bf1e40eb3b7",
   "metadata": {},
   "source": [
    "## Solution 10"
   ]
  },
  {
   "cell_type": "code",
   "execution_count": 28,
   "id": "c8c8628d-8e52-4850-bceb-4f0579b0e968",
   "metadata": {},
   "outputs": [],
   "source": [
    "def find_duplicates(arr):\n",
    "    seen = np.zeros_like(arr)\n",
    "    return (arr >= seen) & (seen != 0)"
   ]
  },
  {
   "cell_type": "code",
   "execution_count": 29,
   "id": "06e1da9c-62a2-409b-9d85-e0113429c181",
   "metadata": {},
   "outputs": [
    {
     "data": {
      "text/plain": [
       "array([False, False, False, False, False, False, False, False, False,\n",
       "       False, False, False])"
      ]
     },
     "execution_count": 29,
     "metadata": {},
     "output_type": "execute_result"
    }
   ],
   "source": [
    "array_7 = [1,1,1,2,3,4,5,5,5,6,7,8]\n",
    "find_duplicates(array_7)"
   ]
  },
  {
   "cell_type": "markdown",
   "id": "8339b3d1-60dd-4a71-86ca-b58acec68909",
   "metadata": {},
   "source": [
    "## Solution 11"
   ]
  },
  {
   "cell_type": "code",
   "execution_count": 30,
   "id": "bbefc1e8-026c-4f7b-92c7-6905f4bb4b7e",
   "metadata": {},
   "outputs": [],
   "source": [
    "import matplotlib.pyplot as plt\n",
    "%matplotlib inline\n",
    "from pathlib import Path\n",
    "from PIL import Image\n",
    "import warnings\n",
    "warnings.filterwarnings(\"ignore\")"
   ]
  },
  {
   "cell_type": "code",
   "execution_count": 31,
   "id": "4f546520-b249-4ca3-87a8-81d84ca96cdb",
   "metadata": {},
   "outputs": [
    {
     "data": {
      "text/plain": [
       "array([[[ 64,  69, 135],\n",
       "        [ 64,  90, 123],\n",
       "        [ 67,  98, 129],\n",
       "        ...,\n",
       "        [152, 181, 195],\n",
       "        [150, 182, 195],\n",
       "        [167, 176, 193]],\n",
       "\n",
       "       [[ 65,  68, 145],\n",
       "        [ 58,  81, 131],\n",
       "        [ 66,  87, 144],\n",
       "        ...,\n",
       "        [164, 195, 200],\n",
       "        [160, 173, 189],\n",
       "        [159, 181, 194]],\n",
       "\n",
       "       [[ 61,  78, 130],\n",
       "        [ 66,  74, 123],\n",
       "        [ 68,  83, 122],\n",
       "        ...,\n",
       "        [167, 193, 192],\n",
       "        [171, 184, 193],\n",
       "        [155, 177, 191]],\n",
       "\n",
       "       ...,\n",
       "\n",
       "       [[ 23,  42,  72],\n",
       "        [ 20,  37,  65],\n",
       "        [ 23,  38,  67],\n",
       "        ...,\n",
       "        [ 89, 124, 162],\n",
       "        [ 91, 122, 166],\n",
       "        [ 83, 115, 162]],\n",
       "\n",
       "       [[ 24,  48,  74],\n",
       "        [ 24,  44,  71],\n",
       "        [ 25,  42,  68],\n",
       "        ...,\n",
       "        [ 80, 129, 169],\n",
       "        [ 87, 129, 179],\n",
       "        [ 86, 110, 170]],\n",
       "\n",
       "       [[ 19,  45,  70],\n",
       "        [ 23,  44,  71],\n",
       "        [ 22,  42,  67],\n",
       "        ...,\n",
       "        [ 65, 124, 166],\n",
       "        [ 79, 128, 186],\n",
       "        [ 87, 107, 180]]], dtype=uint8)"
      ]
     },
     "execution_count": 31,
     "metadata": {},
     "output_type": "execute_result"
    }
   ],
   "source": [
    "img_path = Path(\"F:\\independence.jpg\")\n",
    "img = Image.open(img_path)\n",
    "img_arr = np.asarray(img)\n",
    "img_arr"
   ]
  },
  {
   "cell_type": "markdown",
   "id": "baee1650-f134-4290-96bd-f32cde604856",
   "metadata": {},
   "source": [
    "## Solution 12"
   ]
  },
  {
   "cell_type": "code",
   "execution_count": 32,
   "id": "7d7173b7-cc3c-43be-b418-1ed3062bf9b3",
   "metadata": {},
   "outputs": [],
   "source": [
    "def find_peaks(arr):\n",
    "    temp = []\n",
    "    for i in range(1,len(arr)-1):\n",
    "        if (arr[i] > arr[i-1]) and (arr[i] > arr[i+1]):\n",
    "            temp.append(arr[i])\n",
    "    return temp"
   ]
  },
  {
   "cell_type": "code",
   "execution_count": 33,
   "id": "4ce5f019-d089-459b-9c37-5ae03620b043",
   "metadata": {},
   "outputs": [
    {
     "data": {
      "text/plain": [
       "[2, 5]"
      ]
     },
     "execution_count": 33,
     "metadata": {},
     "output_type": "execute_result"
    }
   ],
   "source": [
    "array_8 = [1,2,1,3,5,2]\n",
    "ans = find_peaks(array_8)\n",
    "ans"
   ]
  },
  {
   "cell_type": "markdown",
   "id": "dc14935f-708e-4a20-bc47-af7b8439f54d",
   "metadata": {},
   "source": [
    "## Solution 13"
   ]
  },
  {
   "cell_type": "code",
   "execution_count": 34,
   "id": "5be5f1b3-5545-4cdc-aef4-ba0641552729",
   "metadata": {},
   "outputs": [],
   "source": [
    "import pandas as pd"
   ]
  },
  {
   "cell_type": "code",
   "execution_count": 35,
   "id": "b9cca2a1-0adc-47ec-9cd8-89d2b9e45179",
   "metadata": {},
   "outputs": [],
   "source": [
    "def date_range(arr):\n",
    "    dates = pd.to_datetime(arr)\n",
    "    min_date = dates.min()\n",
    "    max_date = dates.max()\n",
    "    date_range = pd.date_range(start=min_date, end=max_date, freq=\"D\")\n",
    "    missing_dates = date_range.difference(dates)\n",
    "    dates = dates.append(missing_dates)\n",
    "    dates = dates.sort_values()\n",
    "    return dates"
   ]
  },
  {
   "cell_type": "code",
   "execution_count": 36,
   "id": "49ee4228-bec5-4e45-af11-fa9dcec4b699",
   "metadata": {},
   "outputs": [
    {
     "data": {
      "text/plain": [
       "DatetimeIndex(['2023-01-01', '2023-01-02', '2023-01-03', '2023-01-04',\n",
       "               '2023-01-05', '2023-01-06', '2023-01-07', '2023-01-08'],\n",
       "              dtype='datetime64[ns]', freq=None)"
      ]
     },
     "execution_count": 36,
     "metadata": {},
     "output_type": "execute_result"
    }
   ],
   "source": [
    "array_dates = [\"2023-01-01\", \"2023-01-03\", \"2023-01-05\", \"2023-01-08\"]\n",
    "ans = date_range(array_dates)\n",
    "ans"
   ]
  },
  {
   "cell_type": "markdown",
   "id": "39e6a4b0-e89c-4912-9a87-8376170c23e2",
   "metadata": {},
   "source": [
    "## Solution 14"
   ]
  },
  {
   "cell_type": "code",
   "execution_count": 37,
   "id": "1fe6aaa5-c6f4-4a21-b902-306fe0613806",
   "metadata": {},
   "outputs": [],
   "source": [
    "def stride(arr):\n",
    "    temp = []\n",
    "    for i in range(len(arr)-3):\n",
    "        temp.append([arr[i] , arr[i+1] , arr[i+2] , arr[i+3]])\n",
    "    return temp"
   ]
  },
  {
   "cell_type": "code",
   "execution_count": 38,
   "id": "6944a86b-46cd-4f64-bee1-76ff056bad5c",
   "metadata": {},
   "outputs": [
    {
     "data": {
      "text/plain": [
       "[[1, 2, 3, 4],\n",
       " [2, 3, 4, 5],\n",
       " [3, 4, 5, 6],\n",
       " [4, 5, 6, 7],\n",
       " [5, 6, 7, 8],\n",
       " [6, 7, 8, 9],\n",
       " [7, 8, 9, 10]]"
      ]
     },
     "execution_count": 38,
     "metadata": {},
     "output_type": "execute_result"
    }
   ],
   "source": [
    "array_9 = [1,2,3,4,5,6,7,8,9,10]\n",
    "ans = stride(array_9)\n",
    "ans"
   ]
  },
  {
   "cell_type": "markdown",
   "id": "faff883a-6579-4b8c-b749-3dfee247fdc9",
   "metadata": {},
   "source": [
    "## Solution 15"
   ]
  },
  {
   "cell_type": "code",
   "execution_count": 39,
   "id": "5a5a381a-ec6c-4f27-bf99-d5bb6e478dd3",
   "metadata": {},
   "outputs": [],
   "source": [
    "def avg_stride(arr):\n",
    "    temp = []\n",
    "    for i in range(len(arr)-2):\n",
    "        avg = (arr[i] + arr[i+1] + arr[i+2])/3\n",
    "        temp.append(avg)\n",
    "    return temp"
   ]
  },
  {
   "cell_type": "code",
   "execution_count": 40,
   "id": "6421c5a5-c54d-40bf-816f-15a8f08d5254",
   "metadata": {},
   "outputs": [
    {
     "data": {
      "text/plain": [
       "[2.0, 3.0, 4.0, 5.0, 6.0, 7.0, 8.0, 9.0]"
      ]
     },
     "execution_count": 40,
     "metadata": {},
     "output_type": "execute_result"
    }
   ],
   "source": [
    "ans = avg_stride(array_9)\n",
    "ans"
   ]
  }
 ],
 "metadata": {
  "kernelspec": {
   "display_name": "Python 3 (ipykernel)",
   "language": "python",
   "name": "python3"
  },
  "language_info": {
   "codemirror_mode": {
    "name": "ipython",
    "version": 3
   },
   "file_extension": ".py",
   "mimetype": "text/x-python",
   "name": "python",
   "nbconvert_exporter": "python",
   "pygments_lexer": "ipython3",
   "version": "3.11.0"
  }
 },
 "nbformat": 4,
 "nbformat_minor": 5
}
