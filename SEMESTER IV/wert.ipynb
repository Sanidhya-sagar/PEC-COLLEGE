{
 "cells": [
  {
   "cell_type": "markdown",
   "metadata": {},
   "source": [
    "# DAIR ASSIGNMENT V\n",
    "\n",
    "Name:     Sanidhya \\\n",
    "SID:    22106024 \\\n",
    "Branch: Computer Science Engineering (Data Science)"
   ]
  },
  {
   "cell_type": "markdown",
   "metadata": {},
   "source": [
    "*Scenario:* You are working for a small bookstore called &quot;Book Haven.&quot; The owner of the\n",
    "store has asked you to create a simple database to manage their inventory and sales. The\n",
    "database should include tables for storing information about books, authors, customers, and\n",
    "sales transactions."
   ]
  },
  {
   "cell_type": "code",
   "execution_count": 2,
   "metadata": {},
   "outputs": [],
   "source": [
    "import sqlite3"
   ]
  },
  {
   "cell_type": "markdown",
   "metadata": {},
   "source": [
    "## 1. Create a database named BookHaven."
   ]
  },
  {
   "cell_type": "code",
   "execution_count": 2,
   "metadata": {},
   "outputs": [],
   "source": [
    "connection = sqlite3.connect('BookHaven.db')\n",
    "cursor = connection.cursor()\n"
   ]
  },
  {
   "cell_type": "markdown",
   "metadata": {},
   "source": [
    "## 2. Create the following tables with the specified columns:"
   ]
  },
  {
   "cell_type": "code",
   "execution_count": 7,
   "metadata": {},
   "outputs": [
    {
     "ename": "OperationalError",
     "evalue": "table Authors already exists",
     "output_type": "error",
     "traceback": [
      "\u001b[1;31m---------------------------------------------------------------------------\u001b[0m",
      "\u001b[1;31mOperationalError\u001b[0m                          Traceback (most recent call last)",
      "Cell \u001b[1;32mIn[7], line 7\u001b[0m\n\u001b[0;32m      4\u001b[0m connection \u001b[38;5;241m=\u001b[39m sqlite3\u001b[38;5;241m.\u001b[39mconnect(\u001b[38;5;124m'\u001b[39m\u001b[38;5;124mBookHaven.db\u001b[39m\u001b[38;5;124m'\u001b[39m)\n\u001b[0;32m      5\u001b[0m cursor \u001b[38;5;241m=\u001b[39m connection\u001b[38;5;241m.\u001b[39mcursor()\n\u001b[1;32m----> 7\u001b[0m \u001b[43mcursor\u001b[49m\u001b[38;5;241;43m.\u001b[39;49m\u001b[43mexecute\u001b[49m\u001b[43m(\u001b[49m\u001b[38;5;124;43m'''\u001b[39;49m\u001b[38;5;124;43mCREATE TABLE Authors (\u001b[39;49m\n\u001b[0;32m      8\u001b[0m \u001b[38;5;124;43m    AuthorID INTEGER PRIMARY KEY,\u001b[39;49m\n\u001b[0;32m      9\u001b[0m \u001b[38;5;124;43m    AuthorName TEXT NOT NULL\u001b[39;49m\n\u001b[0;32m     10\u001b[0m \u001b[38;5;124;43m               )\u001b[39;49m\u001b[38;5;124;43m'''\u001b[39;49m\u001b[43m)\u001b[49m\n\u001b[0;32m     12\u001b[0m connection\u001b[38;5;241m.\u001b[39mcommit()\n\u001b[0;32m     13\u001b[0m connection\u001b[38;5;241m.\u001b[39mclose()\n",
      "\u001b[1;31mOperationalError\u001b[0m: table Authors already exists"
     ]
    }
   ],
   "source": [
    "# a. Books: book_id, title, author_id, price, quantity\n",
    "\n",
    "connection = sqlite3.connect('BookHaven.db')\n",
    "cursor = connection.cursor()\n",
    "\n",
    "cursor.execute('''CREATE TABLE Authors (\n",
    "    AuthorID INTEGER PRIMARY KEY,\n",
    "    AuthorName TEXT NOT NULL\n",
    "               )''')\n",
    "\n",
    "connection.commit()\n",
    "connection.close()\n",
    "\n"
   ]
  },
  {
   "cell_type": "code",
   "execution_count": 4,
   "metadata": {},
   "outputs": [],
   "source": [
    "# b. Authors: author_id, author_name, country\n",
    "\n",
    "connection = sqlite3.connect('BookHaven.db')\n",
    "cursor = connection.cursor()\n",
    "\n",
    "cursor.execute('''CREATE TABLE Books (\n",
    "    BookID INTEGER PRIMARY KEY,\n",
    "    Title TEXT NOT NULL,\n",
    "    AuthorID INTEGER,\n",
    "    Genre TEXT,\n",
    "    Price REAL,\n",
    "    Quantity INTEGER,\n",
    "    FOREIGN KEY (AuthorID) REFERENCES Authors(AuthorID)\n",
    "               )''')\n",
    "\n",
    "connection.commit()\n",
    "connection.close()"
   ]
  },
  {
   "cell_type": "code",
   "execution_count": null,
   "metadata": {},
   "outputs": [],
   "source": []
  },
  {
   "cell_type": "code",
   "execution_count": 8,
   "metadata": {},
   "outputs": [],
   "source": [
    "#c. Customers: customer_id, customer_name, email, phone\n",
    "\n",
    "connection = sqlite3.connect('BookHaven.db')\n",
    "cursor = connection.cursor()\n",
    "\n",
    "cursor.execute('''CREATE TABLE Customers (\n",
    "    CustomerID INTEGER PRIMARY KEY,\n",
    "    Name TEXT NOT NULL,\n",
    "    Email TEXT,\n",
    "    Phone TEXT\n",
    "               )''')\n",
    "connection.commit()\n",
    "connection.close()\n",
    "\n"
   ]
  },
  {
   "cell_type": "code",
   "execution_count": 1,
   "metadata": {},
   "outputs": [
    {
     "ename": "NameError",
     "evalue": "name 'sqlite3' is not defined",
     "output_type": "error",
     "traceback": [
      "\u001b[1;31m---------------------------------------------------------------------------\u001b[0m",
      "\u001b[1;31mNameError\u001b[0m                                 Traceback (most recent call last)",
      "Cell \u001b[1;32mIn[1], line 1\u001b[0m\n\u001b[1;32m----> 1\u001b[0m connection \u001b[38;5;241m=\u001b[39m \u001b[43msqlite3\u001b[49m\u001b[38;5;241m.\u001b[39mconnect(\u001b[38;5;124m'\u001b[39m\u001b[38;5;124mBookHaven.db\u001b[39m\u001b[38;5;124m'\u001b[39m)\n\u001b[0;32m      2\u001b[0m cursor \u001b[38;5;241m=\u001b[39m connection\u001b[38;5;241m.\u001b[39mcursor()\n\u001b[0;32m      4\u001b[0m cursor\u001b[38;5;241m.\u001b[39mexecute(\u001b[38;5;124m'''\u001b[39m\u001b[38;5;124mdrop database BookHaven\u001b[39m\u001b[38;5;124m'''\u001b[39m)\n",
      "\u001b[1;31mNameError\u001b[0m: name 'sqlite3' is not defined"
     ]
    }
   ],
   "source": [
    "connection = sqlite3.connect('BookHaven.db')\n",
    "cursor = connection.cursor()\n",
    "\n",
    "cursor.execute('''drop database BookHaven''')"
   ]
  },
  {
   "cell_type": "code",
   "execution_count": 10,
   "metadata": {},
   "outputs": [
    {
     "ename": "OperationalError",
     "evalue": "table SalesTransactions already exists",
     "output_type": "error",
     "traceback": [
      "\u001b[1;31m---------------------------------------------------------------------------\u001b[0m",
      "\u001b[1;31mOperationalError\u001b[0m                          Traceback (most recent call last)",
      "Cell \u001b[1;32mIn[10], line 6\u001b[0m\n\u001b[0;32m      3\u001b[0m connection \u001b[38;5;241m=\u001b[39m sqlite3\u001b[38;5;241m.\u001b[39mconnect(\u001b[38;5;124m'\u001b[39m\u001b[38;5;124mBookHaven.db\u001b[39m\u001b[38;5;124m'\u001b[39m)\n\u001b[0;32m      4\u001b[0m cursor \u001b[38;5;241m=\u001b[39m connection\u001b[38;5;241m.\u001b[39mcursor()\n\u001b[1;32m----> 6\u001b[0m \u001b[43mcursor\u001b[49m\u001b[38;5;241;43m.\u001b[39;49m\u001b[43mexecute\u001b[49m\u001b[43m(\u001b[49m\u001b[38;5;124;43m'''\u001b[39;49m\u001b[38;5;124;43mCREATE TABLE SalesTransactions (\u001b[39;49m\n\u001b[0;32m      7\u001b[0m \u001b[38;5;124;43m    TransactionID INTEGER PRIMARY KEY,\u001b[39;49m\n\u001b[0;32m      8\u001b[0m \u001b[38;5;124;43m    CustomerID INTEGER,\u001b[39;49m\n\u001b[0;32m      9\u001b[0m \u001b[38;5;124;43m    BookID INTEGER,\u001b[39;49m\n\u001b[0;32m     10\u001b[0m \u001b[38;5;124;43m    Quantity INTEGER,\u001b[39;49m\n\u001b[0;32m     11\u001b[0m \u001b[38;5;124;43m    TransactionDate TEXT,\u001b[39;49m\n\u001b[0;32m     12\u001b[0m \u001b[38;5;124;43m    TotalPrice REAL,\u001b[39;49m\n\u001b[0;32m     13\u001b[0m \u001b[38;5;124;43m    FOREIGN KEY (CustomerID) REFERENCES Customers(CustomerID),\u001b[39;49m\n\u001b[0;32m     14\u001b[0m \u001b[38;5;124;43m    FOREIGN KEY (BookID) REFERENCES Books(BookID)\u001b[39;49m\n\u001b[0;32m     15\u001b[0m \u001b[38;5;124;43m               )\u001b[39;49m\u001b[38;5;124;43m'''\u001b[39;49m\u001b[43m)\u001b[49m\n\u001b[0;32m     17\u001b[0m connection\u001b[38;5;241m.\u001b[39mcommit()\n\u001b[0;32m     18\u001b[0m connection\u001b[38;5;241m.\u001b[39mclose()\n",
      "\u001b[1;31mOperationalError\u001b[0m: table SalesTransactions already exists"
     ]
    }
   ],
   "source": [
    "#d. Sales: sale_id, customer_id, book_id, quantity_sold, total_price, sale_date\n",
    "\n",
    "connection = sqlite3.connect('BookHaven.db')\n",
    "cursor = connection.cursor()\n",
    "\n",
    "cursor.execute('''CREATE TABLE SalesTransactions (\n",
    "    TransactionID INTEGER PRIMARY KEY,\n",
    "    CustomerID INTEGER,\n",
    "    BookID INTEGER,\n",
    "    Quantity INTEGER,\n",
    "    TransactionDate TEXT,\n",
    "    TotalPrice REAL,\n",
    "    FOREIGN KEY (CustomerID) REFERENCES Customers(CustomerID),\n",
    "    FOREIGN KEY (BookID) REFERENCES Books(BookID)\n",
    "               )''')\n",
    "\n",
    "connection.commit()\n",
    "connection.close()\n"
   ]
  },
  {
   "cell_type": "markdown",
   "metadata": {},
   "source": [
    "## 3. Insert at least 5 records into each table with sample data."
   ]
  },
  {
   "cell_type": "code",
   "execution_count": 7,
   "metadata": {},
   "outputs": [
    {
     "data": {
      "text/plain": [
       "<sqlite3.Cursor at 0x1ecb2f87440>"
      ]
     },
     "execution_count": 7,
     "metadata": {},
     "output_type": "execute_result"
    }
   ],
   "source": [
    "connection = sqlite3.connect('BookHaven.db')\n",
    "cursor = connection.cursor()\n",
    "\n",
    "cursor.execute('''INSERT INTO Authors (AuthorID, AuthorName) VALUES\n",
    "(1, 'J.K. Rowling'),\n",
    "(2, 'George R.R. Martin'),\n",
    "(3, 'Harper Lee'),\n",
    "(4, 'Agatha Christie'),\n",
    "(5, 'Stephen King')\n",
    "               ''')"
   ]
  },
  {
   "cell_type": "code",
   "execution_count": null,
   "metadata": {},
   "outputs": [],
   "source": [
    "connection = sqlite3.connect('BookHaven.db')\n",
    "cursor = connection.cursor()\n",
    "\n",
    "cursor.execute('''INSERT INTO Books (BookID, Title, AuthorID, Price, Quantity) VALUES\n",
    "(1, 'Harry Potter and the Philosopher''s Stone', 1, 10.99, 100),\n",
    "(2, 'A Game of Thrones', 2, 12.50, 75),\n",
    "(3, 'To Kill a Mockingbird', 3, 9.75, 50),\n",
    "(4, 'Murder on the Orient Express', 4, 8.99, 60),\n",
    "(5, 'The Shining', 5, 11.25, 80)\n",
    "''')"
   ]
  }
 ],
 "metadata": {
  "kernelspec": {
   "display_name": "Python 3",
   "language": "python",
   "name": "python3"
  },
  "language_info": {
   "codemirror_mode": {
    "name": "ipython",
    "version": 3
   },
   "file_extension": ".py",
   "mimetype": "text/x-python",
   "name": "python",
   "nbconvert_exporter": "python",
   "pygments_lexer": "ipython3",
   "version": "3.11.0"
  }
 },
 "nbformat": 4,
 "nbformat_minor": 2
}
