{
 "cells": [
  {
   "cell_type": "markdown",
   "metadata": {},
   "source": [
    "#                                                         ADS LAB ASSIGNMENT III\n",
    "\n",
    "NAME:     Sanidhya, SID:    22106024 \\\n",
    "Branch: Computer Science Engineering (Data Science)"
   ]
  },
  {
   "cell_type": "code",
   "execution_count": 1,
   "metadata": {},
   "outputs": [],
   "source": [
    "import pandas"
   ]
  },
  {
   "cell_type": "markdown",
   "metadata": {},
   "source": [
    "# Solution 1"
   ]
  },
  {
   "cell_type": "code",
   "execution_count": 2,
   "metadata": {},
   "outputs": [
    {
     "name": "stderr",
     "output_type": "stream",
     "text": [
      "C:\\Users\\sksag\\AppData\\Local\\Temp\\ipykernel_12524\\3160096572.py:1: DtypeWarning: Columns (3,4,5,6,12) have mixed types. Specify dtype option on import or set low_memory=False.\n",
      "  sal = pandas.read_csv(\"Salaries.csv\")\n"
     ]
    }
   ],
   "source": [
    "sal = pandas.read_csv(\"Salaries.csv\")"
   ]
  },
  {
   "cell_type": "markdown",
   "metadata": {},
   "source": [
    "# Solution 2"
   ]
  },
  {
   "cell_type": "code",
   "execution_count": 3,
   "metadata": {},
   "outputs": [
    {
     "data": {
      "text/html": [
       "<div>\n",
       "<style scoped>\n",
       "    .dataframe tbody tr th:only-of-type {\n",
       "        vertical-align: middle;\n",
       "    }\n",
       "\n",
       "    .dataframe tbody tr th {\n",
       "        vertical-align: top;\n",
       "    }\n",
       "\n",
       "    .dataframe thead th {\n",
       "        text-align: right;\n",
       "    }\n",
       "</style>\n",
       "<table border=\"1\" class=\"dataframe\">\n",
       "  <thead>\n",
       "    <tr style=\"text-align: right;\">\n",
       "      <th></th>\n",
       "      <th>Id</th>\n",
       "      <th>EmployeeName</th>\n",
       "      <th>JobTitle</th>\n",
       "      <th>BasePay</th>\n",
       "      <th>OvertimePay</th>\n",
       "      <th>OtherPay</th>\n",
       "      <th>Benefits</th>\n",
       "      <th>TotalPay</th>\n",
       "      <th>TotalPayBenefits</th>\n",
       "      <th>Year</th>\n",
       "      <th>Notes</th>\n",
       "      <th>Agency</th>\n",
       "      <th>Status</th>\n",
       "    </tr>\n",
       "  </thead>\n",
       "  <tbody>\n",
       "    <tr>\n",
       "      <th>0</th>\n",
       "      <td>1</td>\n",
       "      <td>NATHANIEL FORD</td>\n",
       "      <td>GENERAL MANAGER-METROPOLITAN TRANSIT AUTHORITY</td>\n",
       "      <td>167411.18</td>\n",
       "      <td>0.0</td>\n",
       "      <td>400184.25</td>\n",
       "      <td>NaN</td>\n",
       "      <td>567595.43</td>\n",
       "      <td>567595.43</td>\n",
       "      <td>2011</td>\n",
       "      <td>NaN</td>\n",
       "      <td>San Francisco</td>\n",
       "      <td>NaN</td>\n",
       "    </tr>\n",
       "    <tr>\n",
       "      <th>1</th>\n",
       "      <td>2</td>\n",
       "      <td>GARY JIMENEZ</td>\n",
       "      <td>CAPTAIN III (POLICE DEPARTMENT)</td>\n",
       "      <td>155966.02</td>\n",
       "      <td>245131.88</td>\n",
       "      <td>137811.38</td>\n",
       "      <td>NaN</td>\n",
       "      <td>538909.28</td>\n",
       "      <td>538909.28</td>\n",
       "      <td>2011</td>\n",
       "      <td>NaN</td>\n",
       "      <td>San Francisco</td>\n",
       "      <td>NaN</td>\n",
       "    </tr>\n",
       "    <tr>\n",
       "      <th>2</th>\n",
       "      <td>3</td>\n",
       "      <td>ALBERT PARDINI</td>\n",
       "      <td>CAPTAIN III (POLICE DEPARTMENT)</td>\n",
       "      <td>212739.13</td>\n",
       "      <td>106088.18</td>\n",
       "      <td>16452.6</td>\n",
       "      <td>NaN</td>\n",
       "      <td>335279.91</td>\n",
       "      <td>335279.91</td>\n",
       "      <td>2011</td>\n",
       "      <td>NaN</td>\n",
       "      <td>San Francisco</td>\n",
       "      <td>NaN</td>\n",
       "    </tr>\n",
       "    <tr>\n",
       "      <th>3</th>\n",
       "      <td>4</td>\n",
       "      <td>CHRISTOPHER CHONG</td>\n",
       "      <td>WIRE ROPE CABLE MAINTENANCE MECHANIC</td>\n",
       "      <td>77916.0</td>\n",
       "      <td>56120.71</td>\n",
       "      <td>198306.9</td>\n",
       "      <td>NaN</td>\n",
       "      <td>332343.61</td>\n",
       "      <td>332343.61</td>\n",
       "      <td>2011</td>\n",
       "      <td>NaN</td>\n",
       "      <td>San Francisco</td>\n",
       "      <td>NaN</td>\n",
       "    </tr>\n",
       "    <tr>\n",
       "      <th>4</th>\n",
       "      <td>5</td>\n",
       "      <td>PATRICK GARDNER</td>\n",
       "      <td>DEPUTY CHIEF OF DEPARTMENT,(FIRE DEPARTMENT)</td>\n",
       "      <td>134401.6</td>\n",
       "      <td>9737.0</td>\n",
       "      <td>182234.59</td>\n",
       "      <td>NaN</td>\n",
       "      <td>326373.19</td>\n",
       "      <td>326373.19</td>\n",
       "      <td>2011</td>\n",
       "      <td>NaN</td>\n",
       "      <td>San Francisco</td>\n",
       "      <td>NaN</td>\n",
       "    </tr>\n",
       "  </tbody>\n",
       "</table>\n",
       "</div>"
      ],
      "text/plain": [
       "   Id       EmployeeName                                        JobTitle  \\\n",
       "0   1     NATHANIEL FORD  GENERAL MANAGER-METROPOLITAN TRANSIT AUTHORITY   \n",
       "1   2       GARY JIMENEZ                 CAPTAIN III (POLICE DEPARTMENT)   \n",
       "2   3     ALBERT PARDINI                 CAPTAIN III (POLICE DEPARTMENT)   \n",
       "3   4  CHRISTOPHER CHONG            WIRE ROPE CABLE MAINTENANCE MECHANIC   \n",
       "4   5    PATRICK GARDNER    DEPUTY CHIEF OF DEPARTMENT,(FIRE DEPARTMENT)   \n",
       "\n",
       "     BasePay OvertimePay   OtherPay Benefits   TotalPay  TotalPayBenefits  \\\n",
       "0  167411.18         0.0  400184.25      NaN  567595.43         567595.43   \n",
       "1  155966.02   245131.88  137811.38      NaN  538909.28         538909.28   \n",
       "2  212739.13   106088.18    16452.6      NaN  335279.91         335279.91   \n",
       "3    77916.0    56120.71   198306.9      NaN  332343.61         332343.61   \n",
       "4   134401.6      9737.0  182234.59      NaN  326373.19         326373.19   \n",
       "\n",
       "   Year  Notes         Agency Status  \n",
       "0  2011    NaN  San Francisco    NaN  \n",
       "1  2011    NaN  San Francisco    NaN  \n",
       "2  2011    NaN  San Francisco    NaN  \n",
       "3  2011    NaN  San Francisco    NaN  \n",
       "4  2011    NaN  San Francisco    NaN  "
      ]
     },
     "execution_count": 3,
     "metadata": {},
     "output_type": "execute_result"
    }
   ],
   "source": [
    "sal.head()"
   ]
  },
  {
   "cell_type": "markdown",
   "metadata": {},
   "source": [
    "# Solution 3"
   ]
  },
  {
   "cell_type": "code",
   "execution_count": 4,
   "metadata": {},
   "outputs": [
    {
     "name": "stdout",
     "output_type": "stream",
     "text": [
      "<class 'pandas.core.frame.DataFrame'>\n",
      "RangeIndex: 148654 entries, 0 to 148653\n",
      "Data columns (total 13 columns):\n",
      " #   Column            Non-Null Count   Dtype  \n",
      "---  ------            --------------   -----  \n",
      " 0   Id                148654 non-null  int64  \n",
      " 1   EmployeeName      148654 non-null  object \n",
      " 2   JobTitle          148654 non-null  object \n",
      " 3   BasePay           148049 non-null  object \n",
      " 4   OvertimePay       148654 non-null  object \n",
      " 5   OtherPay          148654 non-null  object \n",
      " 6   Benefits          112495 non-null  object \n",
      " 7   TotalPay          148654 non-null  float64\n",
      " 8   TotalPayBenefits  148654 non-null  float64\n",
      " 9   Year              148654 non-null  int64  \n",
      " 10  Notes             0 non-null       float64\n",
      " 11  Agency            148654 non-null  object \n",
      " 12  Status            38119 non-null   object \n",
      "dtypes: float64(3), int64(2), object(8)\n",
      "memory usage: 14.7+ MB\n"
     ]
    }
   ],
   "source": [
    "sal.info()"
   ]
  },
  {
   "cell_type": "markdown",
   "metadata": {},
   "source": [
    "# Solution 4"
   ]
  },
  {
   "cell_type": "code",
   "execution_count": 5,
   "metadata": {},
   "outputs": [
    {
     "name": "stdout",
     "output_type": "stream",
     "text": [
      "Average Base Pay: 66325.4488404877\n"
     ]
    }
   ],
   "source": [
    "base_pay = sal[\"BasePay\"]\n",
    "\n",
    "base_pay = pandas.to_numeric(base_pay, errors=\"coerce\")\n",
    "print(\"Average Base Pay:\", base_pay.mean())"
   ]
  },
  {
   "cell_type": "markdown",
   "metadata": {},
   "source": [
    "# Solution 5"
   ]
  },
  {
   "cell_type": "code",
   "execution_count": 6,
   "metadata": {},
   "outputs": [
    {
     "name": "stdout",
     "output_type": "stream",
     "text": [
      "Maximum Overtime Pay: 245131.88\n"
     ]
    }
   ],
   "source": [
    "over_pay = sal[\"OvertimePay\"]\n",
    "over_pay = pandas.to_numeric(over_pay, errors=\"coerce\")\n",
    "print(\"Maximum Overtime Pay:\", over_pay.max())"
   ]
  },
  {
   "cell_type": "markdown",
   "metadata": {},
   "source": [
    "# Solution 6"
   ]
  },
  {
   "cell_type": "code",
   "execution_count": 7,
   "metadata": {},
   "outputs": [
    {
     "name": "stdout",
     "output_type": "stream",
     "text": [
      "Job Title for JOSEPH DRISCOLL:  CAPTAIN, FIRE SUPPRESSION\n"
     ]
    }
   ],
   "source": [
    "def driscoll_get_value(column_name):\n",
    "  return sal[sal[\"EmployeeName\"] == \"JOSEPH DRISCOLL\"][column_name].values[0]\n",
    "print(\"Job Title for JOSEPH DRISCOLL: \",driscoll_get_value(\"JobTitle\"))"
   ]
  },
  {
   "cell_type": "markdown",
   "metadata": {},
   "source": [
    "# Solution 7"
   ]
  },
  {
   "cell_type": "code",
   "execution_count": 8,
   "metadata": {},
   "outputs": [
    {
     "name": "stdout",
     "output_type": "stream",
     "text": [
      "Total Pay with benefits for JOSEPH DRISCOLL: 270324.91\n"
     ]
    }
   ],
   "source": [
    "def driscoll_get_value(column_name):\n",
    "  return sal[sal[\"EmployeeName\"] == \"JOSEPH DRISCOLL\"][column_name].values[0]\n",
    "print(\"Total Pay with benefits for JOSEPH DRISCOLL:\", driscoll_get_value(\"TotalPayBenefits\"))"
   ]
  },
  {
   "cell_type": "markdown",
   "metadata": {},
   "source": [
    "# Solution 8"
   ]
  },
  {
   "cell_type": "code",
   "execution_count": 9,
   "metadata": {},
   "outputs": [
    {
     "name": "stdout",
     "output_type": "stream",
     "text": [
      "Maximum salary: 567595.43\n"
     ]
    }
   ],
   "source": [
    "max_total_salary = sal[\"TotalPayBenefits\"].max()\n",
    "print(\"Maximum salary:\", max_total_salary)"
   ]
  },
  {
   "cell_type": "markdown",
   "metadata": {},
   "source": [
    "# Solution 9"
   ]
  },
  {
   "cell_type": "code",
   "execution_count": 10,
   "metadata": {},
   "outputs": [
    {
     "name": "stdout",
     "output_type": "stream",
     "text": [
      "Minimum salary: -618.13\n"
     ]
    }
   ],
   "source": [
    "min_total_salary = sal[\"TotalPayBenefits\"].min()\n",
    "print(\"Minimum salary:\", min_total_salary)"
   ]
  },
  {
   "cell_type": "markdown",
   "metadata": {},
   "source": [
    "# Solution 10"
   ]
  },
  {
   "cell_type": "code",
   "execution_count": 11,
   "metadata": {},
   "outputs": [
    {
     "name": "stdout",
     "output_type": "stream",
     "text": [
      "Average base pay in 2011 : 63595.95651677314\n",
      "Average base pay in 2012 : 65436.40685742263\n",
      "Average base pay in 2013 : 69630.03021648065\n",
      "Average base pay in 2014 : 66564.42192449959\n"
     ]
    }
   ],
   "source": [
    "for year in range(2011, 2015):\n",
    "  avg_base_pay = pandas.to_numeric(sal[sal[\"Year\"] == year][\"BasePay\"], errors=\"coerce\").mean()\n",
    "  print(\"Average base pay in\",year , \":\", avg_base_pay)"
   ]
  },
  {
   "cell_type": "markdown",
   "metadata": {},
   "source": [
    "# Solution 11"
   ]
  },
  {
   "cell_type": "code",
   "execution_count": 12,
   "metadata": {},
   "outputs": [
    {
     "name": "stdout",
     "output_type": "stream",
     "text": [
      "Number of unique jobs:  2159\n"
     ]
    }
   ],
   "source": [
    "jobs_count = len(sal[\"JobTitle\"].unique().tolist())\n",
    "print(\"Number of unique jobs: \", jobs_count)"
   ]
  },
  {
   "cell_type": "markdown",
   "metadata": {},
   "source": [
    "# Solution 12"
   ]
  },
  {
   "cell_type": "code",
   "execution_count": 13,
   "metadata": {},
   "outputs": [
    {
     "name": "stdout",
     "output_type": "stream",
     "text": [
      "Top 5 most common jobs:\n",
      "JobTitle\n",
      "Transit Operator                7036\n",
      "Special Nurse                   4389\n",
      "Registered Nurse                3736\n",
      "Public Svc Aide-Public Works    2518\n",
      "Police Officer 3                2421\n",
      "Name: count, dtype: int64\n"
     ]
    }
   ],
   "source": [
    "print(\"Top 5 most common jobs:\\n\", sal[\"JobTitle\"].value_counts()[:5],sep=\"\")"
   ]
  },
  {
   "cell_type": "markdown",
   "metadata": {},
   "source": [
    "# Solution 13"
   ]
  },
  {
   "cell_type": "code",
   "execution_count": 14,
   "metadata": {},
   "outputs": [
    {
     "name": "stdout",
     "output_type": "stream",
     "text": [
      "Jobs with only one person representing in database:\n",
      "JobTitle\n",
      "Laboratory Technician I           1\n",
      "Sctry, Juv Probation Comm         1\n",
      "Drug Court Coordinator            1\n",
      "IS Operator-Journey               1\n",
      "Court Asst., Superior Court       1\n",
      "                                 ..\n",
      "Sr General Utility Mechanic       1\n",
      "Sprv Adult Prob Ofc (SFERS)       1\n",
      "Mayoral Staff XII                 1\n",
      "Pr Investigator, Tax Collector    1\n",
      "Senior Assessment Clerk           1\n",
      "Name: count, Length: 202, dtype: int64\n"
     ]
    }
   ],
   "source": [
    "value_cts = sal[sal[\"Year\"] == 2013][\"JobTitle\"].value_counts()\n",
    "print(\"Jobs with only one person representing in database:\\n\", value_cts[value_cts == 1],sep=\"\")"
   ]
  },
  {
   "cell_type": "markdown",
   "metadata": {},
   "source": [
    "# Solution 14"
   ]
  },
  {
   "cell_type": "code",
   "execution_count": 15,
   "metadata": {},
   "outputs": [
    {
     "name": "stdout",
     "output_type": "stream",
     "text": [
      "1, Gregory Suhr, Chief of Police\n",
      "2, Joanne Hayes-White, Chief, Fire Department\n",
      "3, Brendan Ward, Battlion Chief, Fire Suppressi\n",
      "4, Brendan Ward, Battlion Chief, Fire Suppressi\n",
      "5, Brendan Ward, Battlion Chief, Fire Suppressi\n",
      "6, Brendan Ward, Battlion Chief, Fire Suppressi\n",
      "7, Mark Kearney, Assistant Deputy Chief 2\n",
      "8, Mark Kearney, Assistant Deputy Chief 2\n",
      "9, James Dudley, Deputy Chief 3\n",
      "10, Mark Kearney, Assistant Deputy Chief 2\n",
      "11, James Dudley, Deputy Chief 3\n",
      "12, James Dudley, Deputy Chief 3\n",
      "13, Brendan Ward, Battlion Chief, Fire Suppressi\n",
      "14, James Dudley, Deputy Chief 3\n",
      "15, Brendan Ward, Battlion Chief, Fire Suppressi\n",
      "16, Brendan Ward, Battlion Chief, Fire Suppressi\n",
      "17, Brendan Ward, Battlion Chief, Fire Suppressi\n",
      "18, Brendan Ward, Battlion Chief, Fire Suppressi\n",
      "19, Brendan Ward, Battlion Chief, Fire Suppressi\n",
      "20, Brendan Ward, Battlion Chief, Fire Suppressi\n",
      "21, Brendan Ward, Battlion Chief, Fire Suppressi\n",
      "22, Brendan Ward, Battlion Chief, Fire Suppressi\n",
      "23, Mark Kearney, Assistant Deputy Chief 2\n",
      "24, Jeffrey Myers, Emergency Medical Svcs Chief\n",
      "25, James Dudley, Deputy Chief 3\n",
      "26, Brendan Ward, Battlion Chief, Fire Suppressi\n",
      "27, Brendan Ward, Battlion Chief, Fire Suppressi\n",
      "28, James Dudley, Deputy Chief 3\n",
      "29, Brendan Ward, Battlion Chief, Fire Suppressi\n",
      "30, Brendan Ward, Battlion Chief, Fire Suppressi\n",
      "31, Brendan Ward, Battlion Chief, Fire Suppressi\n",
      "32, Brendan Ward, Battlion Chief, Fire Suppressi\n",
      "33, Burk Delventhal, Chief Atty1 (Civil & Criminal)\n",
      "34, Brendan Ward, Battlion Chief, Fire Suppressi\n",
      "35, Brendan Ward, Battlion Chief, Fire Suppressi\n",
      "36, Brendan Ward, Battlion Chief, Fire Suppressi\n",
      "37, Brendan Ward, Battlion Chief, Fire Suppressi\n",
      "38, Burk Delventhal, Chief Atty1 (Civil & Criminal)\n",
      "39, Wendy Still, Chief Adult Probation Officer\n",
      "40, David Pfeifer, Assistant Chief Attorney 2\n",
      "41, David Pfeifer, Assistant Chief Attorney 2\n",
      "42, David Pfeifer, Assistant Chief Attorney 2\n",
      "43, Brendan Ward, Battlion Chief, Fire Suppressi\n",
      "44, David Pfeifer, Assistant Chief Attorney 2\n",
      "45, David Pfeifer, Assistant Chief Attorney 2\n",
      "46, Brendan Ward, Battlion Chief, Fire Suppressi\n",
      "47, James Emery, Assistant Chief Attorney 1\n",
      "48, Brendan Ward, Battlion Chief, Fire Suppressi\n",
      "49, James Emery, Assistant Chief Attorney 1\n",
      "50, James Emery, Assistant Chief Attorney 1\n",
      "51, James Emery, Assistant Chief Attorney 1\n",
      "52, James Emery, Assistant Chief Attorney 1\n",
      "53, James Emery, Assistant Chief Attorney 1\n",
      "54, James Emery, Assistant Chief Attorney 1\n",
      "55, James Emery, Assistant Chief Attorney 1\n",
      "56, James Emery, Assistant Chief Attorney 1\n",
      "57, James Emery, Assistant Chief Attorney 1\n",
      "58, James Emery, Assistant Chief Attorney 1\n",
      "59, James Emery, Assistant Chief Attorney 1\n",
      "60, James Emery, Assistant Chief Attorney 1\n",
      "61, James Emery, Assistant Chief Attorney 1\n",
      "62, James Emery, Assistant Chief Attorney 1\n",
      "63, David Pfeifer, Assistant Chief Attorney 2\n",
      "64, Brendan Ward, Battlion Chief, Fire Suppressi\n",
      "65, James Emery, Assistant Chief Attorney 1\n",
      "66, Brendan Ward, Battlion Chief, Fire Suppressi\n",
      "67, Brendan Ward, Battlion Chief, Fire Suppressi\n",
      "68, James Emery, Assistant Chief Attorney 1\n",
      "69, Brendan Ward, Battlion Chief, Fire Suppressi\n",
      "70, James Emery, Assistant Chief Attorney 1\n",
      "71, Burk Delventhal, Chief Atty1 (Civil & Criminal)\n",
      "72, Brendan Ward, Battlion Chief, Fire Suppressi\n",
      "73, Burk Delventhal, Chief Atty1 (Civil & Criminal)\n",
      "74, Burk Delventhal, Chief Atty1 (Civil & Criminal)\n",
      "75, Albert Waters II, Chief Deputy Sheriff\n",
      "76, Brendan Ward, Battlion Chief, Fire Suppressi\n",
      "77, Albert Waters II, Chief Deputy Sheriff\n"
     ]
    },
    {
     "name": "stdout",
     "output_type": "stream",
     "text": [
      "78, Perry Bonelli, Chief Stationary Engineer\n",
      "79, James Emery, Assistant Chief Attorney 1\n",
      "80, Albert Waters II, Chief Deputy Sheriff\n",
      "81, Kenneth Payne, Chief Water Service Inspector\n",
      "82, Perry Bonelli, Chief Stationary Engineer\n",
      "83, Mark Kearney, Assistant Deputy Chief 2\n",
      "84, Daniel Lowrey, Chief Building Inspector\n",
      "85, Brendan Ward, Battlion Chief, Fire Suppressi\n",
      "86, Steven Panelli, Chief Plumbing Inspector\n",
      "87, Daniel Lowrey, Chief Building Inspector\n",
      "88, Daniel Lowrey, Chief Building Inspector\n",
      "89, Perry Bonelli, Chief Stationary Engineer\n",
      "90, Kenneth Payne, Chief Water Service Inspector\n",
      "91, James Emery, Assistant Chief Attorney 1\n",
      "92, Ron Allen, Chief Electrical Inspector\n",
      "93, Perry Bonelli, Chief Stationary Engineer\n",
      "94, Rosemary Bosque, Chief Housing Inspector\n",
      "95, Martin Krizay, Chief Dep Adlt Prob Of (SFERS)\n",
      "96, Nerivaldo Santos, Chief Fire Alarm Dispatcher\n",
      "97, Robert Peterson, Chief Surveyor\n",
      "98, Perry Bonelli, Chief Stationary Engineer\n",
      "99, Kenneth Payne, Chief Water Service Inspector\n",
      "100, Robert Peterson, Chief Surveyor\n",
      "101, Robert Peterson, Chief Surveyor\n",
      "102, Perry Bonelli, Chief Stationary Engineer\n",
      "103, Perry Bonelli, Chief Stationary Engineer\n",
      "104, Perry Bonelli, Chief Stationary Engineer\n",
      "105, Perry Bonelli, Chief Stationary Engineer\n",
      "106, Robert Peterson, Chief Surveyor\n",
      "107, Perry Bonelli, Chief Stationary Engineer\n",
      "108, Perry Bonelli, Chief Stationary Engineer\n",
      "109, Perry Bonelli, Chief Stationary Engineer\n",
      "110, Brendan Ward, Battlion Chief, Fire Suppressi\n",
      "111, Perry Bonelli, Chief Stationary Engineer\n",
      "112, George Vaughan, Chief Nursery Specialist\n",
      "113, Loretta Cecconi, Chief Dietitian\n",
      "114, Loretta Cecconi, Chief Dietitian\n",
      "115, Albert Waters II, Chief Deputy Sheriff\n",
      "116, Sogra Kadir, Chief Clerk\n",
      "117, Sogra Kadir, Chief Clerk\n",
      "118, Sogra Kadir, Chief Clerk\n",
      "119, Sogra Kadir, Chief Clerk\n",
      "120, Sogra Kadir, Chief Clerk\n",
      "121, Sogra Kadir, Chief Clerk\n",
      "122, Sogra Kadir, Chief Clerk\n",
      "123, Sogra Kadir, Chief Clerk\n",
      "124, Sogra Kadir, Chief Clerk\n",
      "125, Sogra Kadir, Chief Clerk\n",
      "126, Sara Bennett, Chief Preparator\n",
      "127, Sogra Kadir, Chief Clerk\n",
      "128, Sogra Kadir, Chief Clerk\n",
      "129, Ann Castillo, Chief Telephone Operator\n",
      "130, Sogra Kadir, Chief Clerk\n",
      "131, Sogra Kadir, Chief Clerk\n",
      "132, James Emery, Assistant Chief Attorney 1\n",
      "133, Sharon Jackson, Chief Deputy Adlt Probation Of\n",
      "134, David Pfeifer, Assistant Chief Attorney 2\n",
      "135, James Emery, Assistant Chief Attorney 1\n",
      "136, Sogra Kadir, Chief Clerk\n",
      "137, Robert Peterson, Chief Surveyor\n",
      "138, Brendan Ward, Battlion Chief, Fire Suppressi\n",
      "139, Sharon Jackson, Chief Deputy Adlt Probation Of\n",
      "140, Sogra Kadir, Chief Clerk\n",
      "141, Brendan Ward, Battlion Chief, Fire Suppressi\n",
      "142, Gregory Suhr, Chief of Police\n",
      "143, Joanne Hayes-White, Chief, Fire Department\n",
      "144, Samson  Lai, Battalion Chief, Fire Suppress\n",
      "145, James Dudley, Deputy Chief 3\n",
      "146, Samson  Lai, Battalion Chief, Fire Suppress\n",
      "147, Samson  Lai, Battalion Chief, Fire Suppress\n",
      "148, Samson  Lai, Battalion Chief, Fire Suppress\n",
      "149, James Dudley, Deputy Chief 3\n",
      "150, Mark Kearney, Assistant Deputy Chief 2\n",
      "151, James Dudley, Deputy Chief 3\n",
      "152, Samson  Lai, Battalion Chief, Fire Suppress\n",
      "153, James Dudley, Deputy Chief 3\n",
      "154, James Dudley, Deputy Chief 3\n",
      "155, Samson  Lai, Battalion Chief, Fire Suppress\n",
      "156, Samson  Lai, Battalion Chief, Fire Suppress\n",
      "157, Samson  Lai, Battalion Chief, Fire Suppress\n",
      "158, Samson  Lai, Battalion Chief, Fire Suppress\n",
      "159, Samson  Lai, Battalion Chief, Fire Suppress\n",
      "160, Samson  Lai, Battalion Chief, Fire Suppress\n",
      "161, Samson  Lai, Battalion Chief, Fire Suppress\n",
      "162, Samson  Lai, Battalion Chief, Fire Suppress\n",
      "163, Samson  Lai, Battalion Chief, Fire Suppress\n",
      "164, Mark Kearney, Assistant Deputy Chief 2\n",
      "165, Samson  Lai, Battalion Chief, Fire Suppress\n",
      "166, Mark Kearney, Assistant Deputy Chief 2\n",
      "167, Jeffrey Myers, Emergency Medical Svcs Chief\n",
      "168, Mark Kearney, Assistant Deputy Chief 2\n",
      "169, Samson  Lai, Battalion Chief, Fire Suppress\n",
      "170, Samson  Lai, Battalion Chief, Fire Suppress\n",
      "171, Samson  Lai, Battalion Chief, Fire Suppress\n",
      "172, Samson  Lai, Battalion Chief, Fire Suppress\n",
      "173, Samson  Lai, Battalion Chief, Fire Suppress\n",
      "174, Samson  Lai, Battalion Chief, Fire Suppress\n",
      "175, Samson  Lai, Battalion Chief, Fire Suppress\n",
      "176, Samson  Lai, Battalion Chief, Fire Suppress\n",
      "177, Mark Kearney, Assistant Deputy Chief 2\n",
      "178, Samson  Lai, Battalion Chief, Fire Suppress\n",
      "179, Samson  Lai, Battalion Chief, Fire Suppress\n",
      "180, Samson  Lai, Battalion Chief, Fire Suppress\n",
      "181, Samson  Lai, Battalion Chief, Fire Suppress\n",
      "182, Burk Delventhal, Chief Atty1 (Civil & Criminal)\n",
      "183, Samson  Lai, Battalion Chief, Fire Suppress\n",
      "184, Burk Delventhal, Chief Atty1 (Civil & Criminal)\n",
      "185, Samson  Lai, Battalion Chief, Fire Suppress\n",
      "186, Burk Delventhal, Chief Atty1 (Civil & Criminal)\n",
      "187, David Pfeifer, Assistant Chief Attorney 2\n",
      "188, Wendy Still, Chief Adult Probation Officer\n",
      "189, David Pfeifer, Assistant Chief Attorney 2\n",
      "190, David Pfeifer, Assistant Chief Attorney 2\n",
      "191, David Pfeifer, Assistant Chief Attorney 2\n",
      "192, David Pfeifer, Assistant Chief Attorney 2\n",
      "193, David Pfeifer, Assistant Chief Attorney 2\n",
      "194, Samson  Lai, Battalion Chief, Fire Suppress\n",
      "195, Burk Delventhal, Chief Atty1 (Civil & Criminal)\n",
      "196, James Emery, Assistant Chief Attorney 1\n",
      "197, James Emery, Assistant Chief Attorney 1\n",
      "198, James Emery, Assistant Chief Attorney 1\n",
      "199, James Emery, Assistant Chief Attorney 1\n",
      "200, James Emery, Assistant Chief Attorney 1\n",
      "201, James Emery, Assistant Chief Attorney 1\n",
      "202, James Emery, Assistant Chief Attorney 1\n",
      "203, James Emery, Assistant Chief Attorney 1\n",
      "204, James Emery, Assistant Chief Attorney 1\n",
      "205, James Emery, Assistant Chief Attorney 1\n",
      "206, James Emery, Assistant Chief Attorney 1\n",
      "207, James Emery, Assistant Chief Attorney 1\n",
      "208, James Emery, Assistant Chief Attorney 1\n",
      "209, James Emery, Assistant Chief Attorney 1\n",
      "210, Samson  Lai, Battalion Chief, Fire Suppress\n",
      "211, James Emery, Assistant Chief Attorney 1\n",
      "212, James Emery, Assistant Chief Attorney 1\n",
      "213, James Emery, Assistant Chief Attorney 1\n",
      "214, Samson  Lai, Battalion Chief, Fire Suppress\n",
      "215, James Emery, Assistant Chief Attorney 1\n",
      "216, James Emery, Assistant Chief Attorney 1\n",
      "217, James Emery, Assistant Chief Attorney 1\n",
      "218, James Emery, Assistant Chief Attorney 1\n",
      "219, Albert Waters II, Chief Deputy Sheriff\n",
      "220, Albert Waters II, Chief Deputy Sheriff\n",
      "221, Albert Waters II, Chief Deputy Sheriff\n",
      "222, Martin Krizay, Chief Dep Adlt Prob Of (SFERS)\n",
      "223, Perry Bonelli, Chief Stationary Engineer\n",
      "224, James Dudley, Deputy Chief 3\n",
      "225, Kenneth Payne, Chief Water Service Inspector\n",
      "226, Perry Bonelli, Chief Stationary Engineer\n",
      "227, Steven Panelli, Chief Plumbing Inspector\n",
      "228, Daniel Lowrey, Chief Building Inspector\n",
      "229, Daniel Lowrey, Chief Building Inspector\n",
      "230, Daniel Lowrey, Chief Building Inspector\n",
      "231, Kenneth Payne, Chief Water Service Inspector\n",
      "232, Ron Allen, Chief Electrical Inspector\n",
      "233, Daniel Lowrey, Chief Building Inspector\n",
      "234, Perry Bonelli, Chief Stationary Engineer\n",
      "235, Kenneth Payne, Chief Water Service Inspector\n",
      "236, Rosemary Bosque, Chief Housing Inspector\n",
      "237, Nerivaldo Santos, Chief Fire Alarm Dispatcher\n",
      "238, Perry Bonelli, Chief Stationary Engineer\n",
      "239, Robert Peterson, Chief Surveyor\n",
      "240, Robert Peterson, Chief Surveyor\n",
      "241, Robert Peterson, Chief Surveyor\n",
      "242, Perry Bonelli, Chief Stationary Engineer\n",
      "243, Perry Bonelli, Chief Stationary Engineer\n",
      "244, Perry Bonelli, Chief Stationary Engineer\n",
      "245, Robert Peterson, Chief Surveyor\n",
      "246, James Dudley, Deputy Chief 3\n",
      "247, Perry Bonelli, Chief Stationary Engineer\n",
      "248, Perry Bonelli, Chief Stationary Engineer\n",
      "249, Perry Bonelli, Chief Stationary Engineer\n",
      "250, Loretta Cecconi, Chief Dietitian\n",
      "251, George Vaughan, Chief Nursery Specialist\n",
      "252, Daniel Lowrey, Chief Building Inspector\n",
      "253, Perry Bonelli, Chief Stationary Engineer\n",
      "254, Loretta Cecconi, Chief Dietitian\n",
      "255, Sogra Kadir, Chief Clerk\n",
      "256, Sogra Kadir, Chief Clerk\n",
      "257, Sogra Kadir, Chief Clerk\n",
      "258, Sogra Kadir, Chief Clerk\n",
      "259, Sogra Kadir, Chief Clerk\n",
      "260, Sogra Kadir, Chief Clerk\n",
      "261, Sogra Kadir, Chief Clerk\n",
      "262, Sogra Kadir, Chief Clerk\n",
      "263, Sogra Kadir, Chief Clerk\n",
      "264, Sogra Kadir, Chief Clerk\n",
      "265, Sogra Kadir, Chief Clerk\n",
      "266, Sogra Kadir, Chief Clerk\n",
      "267, Sara Bennett, Chief Preparator\n",
      "268, Sogra Kadir, Chief Clerk\n",
      "269, Ann Castillo, Chief Telephone Operator\n",
      "270, Perry Bonelli, Chief Stationary Engineer\n",
      "271, Perry Bonelli, Chief Stationary Engineer\n",
      "272, James Emery, Assistant Chief Attorney 1\n",
      "273, James Emery, Assistant Chief Attorney 1\n",
      "274, Samson  Lai, Battalion Chief, Fire Suppress\n",
      "275, Sharon Jackson, Chief Deputy Adlt Probation Of\n",
      "276, Perry Bonelli, Chief Stationary Engineer\n",
      "277, James Emery, Assistant Chief Attorney 1\n",
      "278, Robert Peterson, Chief Surveyor\n",
      "279, Sogra Kadir, Chief Clerk\n",
      "280, Samson  Lai, Battalion Chief, Fire Suppress\n",
      "281, Sara Bennett, Chief Preparator\n",
      "282, Sogra Kadir, Chief Clerk\n",
      "283, Sogra Kadir, Chief Clerk\n",
      "284, James Dudley, Deputy Chief 3\n",
      "285, William J Coaker Jr., Chief Investment Officer\n",
      "286, Gregory Suhr, Chief of Police\n",
      "287, Joanne Hayes-White, Chief, Fire Department\n",
      "288, Samson  Lai, Battalion Chief, Fire Suppress\n",
      "289, Samson  Lai, Battalion Chief, Fire Suppress\n",
      "290, Samson  Lai, Battalion Chief, Fire Suppress\n",
      "291, James Dudley, Deputy Chief 3\n",
      "292, James Dudley, Deputy Chief 3\n",
      "293, James Dudley, Deputy Chief 3\n",
      "294, James Dudley, Deputy Chief 3\n",
      "295, Samson  Lai, Battalion Chief, Fire Suppress\n",
      "296, Samson  Lai, Battalion Chief, Fire Suppress\n",
      "297, Samson  Lai, Battalion Chief, Fire Suppress\n",
      "298, James Dudley, Deputy Chief 3\n",
      "299, Samson  Lai, Battalion Chief, Fire Suppress\n",
      "300, Samson  Lai, Battalion Chief, Fire Suppress\n",
      "301, Samson  Lai, Battalion Chief, Fire Suppress\n",
      "302, Mark Kearney, Assistant Deputy Chief 2\n",
      "303, Samson  Lai, Battalion Chief, Fire Suppress\n",
      "304, Samson  Lai, Battalion Chief, Fire Suppress\n",
      "305, Jeffrey Myers, Emergency Medical Svcs Chief\n",
      "306, Samson  Lai, Battalion Chief, Fire Suppress\n",
      "307, Samson  Lai, Battalion Chief, Fire Suppress\n",
      "308, Samson  Lai, Battalion Chief, Fire Suppress\n",
      "309, Samson  Lai, Battalion Chief, Fire Suppress\n",
      "310, Samson  Lai, Battalion Chief, Fire Suppress\n",
      "311, Samson  Lai, Battalion Chief, Fire Suppress\n",
      "312, Samson  Lai, Battalion Chief, Fire Suppress\n",
      "313, Samson  Lai, Battalion Chief, Fire Suppress\n",
      "314, Samson  Lai, Battalion Chief, Fire Suppress\n",
      "315, Samson  Lai, Battalion Chief, Fire Suppress\n",
      "316, Samson  Lai, Battalion Chief, Fire Suppress\n",
      "317, Samson  Lai, Battalion Chief, Fire Suppress\n",
      "318, Samson  Lai, Battalion Chief, Fire Suppress\n",
      "319, Samson  Lai, Battalion Chief, Fire Suppress\n",
      "320, Samson  Lai, Battalion Chief, Fire Suppress\n",
      "321, Burk Delventhal, Chief Atty1 (Civil & Criminal)\n",
      "322, Nikolas P Lemos, Chief Forensic Toxicologist\n",
      "323, Burk Delventhal, Chief Atty1 (Civil & Criminal)\n",
      "324, Burk Delventhal, Chief Atty1 (Civil & Criminal)\n",
      "325, Samson  Lai, Battalion Chief, Fire Suppress\n",
      "326, Burk Delventhal, Chief Atty1 (Civil & Criminal)\n",
      "327, Wendy Still, Chief Adult Probation Officer\n",
      "328, David Pfeifer, Assistant Chief Attorney 2\n",
      "329, David Pfeifer, Assistant Chief Attorney 2\n",
      "330, David Pfeifer, Assistant Chief Attorney 2\n",
      "331, David Pfeifer, Assistant Chief Attorney 2\n",
      "332, David Pfeifer, Assistant Chief Attorney 2\n",
      "333, Samson  Lai, Battalion Chief, Fire Suppress\n",
      "334, James Emery, Assistant Chief Attorney 1\n",
      "335, James Emery, Assistant Chief Attorney 1\n",
      "336, James Emery, Assistant Chief Attorney 1\n",
      "337, James Emery, Assistant Chief Attorney 1\n",
      "338, James Emery, Assistant Chief Attorney 1\n",
      "339, James Emery, Assistant Chief Attorney 1\n",
      "340, James Emery, Assistant Chief Attorney 1\n",
      "341, James Emery, Assistant Chief Attorney 1\n",
      "342, Samson  Lai, Battalion Chief, Fire Suppress\n",
      "343, James Emery, Assistant Chief Attorney 1\n",
      "344, James Emery, Assistant Chief Attorney 1\n",
      "345, James Emery, Assistant Chief Attorney 1\n",
      "346, James Emery, Assistant Chief Attorney 1\n",
      "347, James Emery, Assistant Chief Attorney 1\n",
      "348, James Emery, Assistant Chief Attorney 1\n",
      "349, James Emery, Assistant Chief Attorney 1\n",
      "350, James Emery, Assistant Chief Attorney 1\n",
      "351, James Emery, Assistant Chief Attorney 1\n",
      "352, James Emery, Assistant Chief Attorney 1\n",
      "353, James Emery, Assistant Chief Attorney 1\n",
      "354, James Emery, Assistant Chief Attorney 1\n",
      "355, Samson  Lai, Battalion Chief, Fire Suppress\n",
      "356, Samson  Lai, Battalion Chief, Fire Suppress\n",
      "357, James Dudley, Deputy Chief 3\n",
      "358, James Emery, Assistant Chief Attorney 1\n",
      "359, James Emery, Assistant Chief Attorney 1\n",
      "360, Albert Waters II, Chief Deputy Sheriff\n",
      "361, Albert Waters II, Chief Deputy Sheriff\n",
      "362, Albert Waters II, Chief Deputy Sheriff\n",
      "363, Martin Krizay, Chief Dep Adlt Prob Of (SFERS)\n",
      "364, James Dudley, Deputy Chief 3\n",
      "365, Kenneth Payne, Chief Water Service Inspector\n",
      "366, Perry Bonelli, Chief Stationary Engineer\n",
      "367, Daniel Lowrey, Chief Building Inspector\n",
      "368, Kenneth Payne, Chief Water Service Inspector\n",
      "369, Daniel Lowrey, Chief Building Inspector\n",
      "370, Steven Panelli, Chief Plumbing Inspector\n",
      "371, Daniel Lowrey, Chief Building Inspector\n",
      "372, Daniel Lowrey, Chief Building Inspector\n",
      "373, Ron Allen, Chief Electrical Inspector\n",
      "374, Perry Bonelli, Chief Stationary Engineer\n",
      "375, Perry Bonelli, Chief Stationary Engineer\n",
      "376, Perry Bonelli, Chief Stationary Engineer\n",
      "377, Perry Bonelli, Chief Stationary Engineer\n",
      "378, Kenneth Payne, Chief Water Service Inspector\n",
      "379, Robert Peterson, Chief Surveyor\n",
      "380, Robert Peterson, Chief Surveyor\n",
      "381, Robert Peterson, Chief Surveyor\n",
      "382, Robert Peterson, Chief Surveyor\n",
      "383, Perry Bonelli, Chief Stationary Engineer\n",
      "384, Robert Peterson, Chief Surveyor\n",
      "385, Robert Peterson, Chief Surveyor\n",
      "386, Perry Bonelli, Chief Stationary Engineer\n",
      "387, Perry Bonelli, Chief Stationary Engineer\n",
      "388, Perry Bonelli, Chief Stationary Engineer\n",
      "389, Burk Delventhal, Chief Atty1 (Civil & Criminal)\n",
      "390, Perry Bonelli, Chief Stationary Engineer\n",
      "391, Perry Bonelli, Chief Stationary Engineer\n",
      "392, Rosemary Bosque, Chief Housing Inspector\n",
      "393, Perry Bonelli, Chief Stationary Engineer\n",
      "394, Perry Bonelli, Chief Stationary Engineer\n",
      "395, Perry Bonelli, Chief Stationary Engineer\n",
      "396, Nerivaldo Santos, Chief Fire Alarm Dispatcher\n",
      "397, Robert Peterson, Chief Surveyor\n",
      "398, Loretta Cecconi, Chief Dietitian\n",
      "399, Perry Bonelli, Chief Stationary Engineer\n",
      "400, Robert Peterson, Chief Surveyor\n",
      "401, Sogra Kadir, Chief Clerk\n",
      "402, Sogra Kadir, Chief Clerk\n",
      "403, Sogra Kadir, Chief Clerk\n",
      "404, Sogra Kadir, Chief Clerk\n",
      "405, Sogra Kadir, Chief Clerk\n",
      "406, Sogra Kadir, Chief Clerk\n",
      "407, Sogra Kadir, Chief Clerk\n",
      "408, Sogra Kadir, Chief Clerk\n",
      "409, James Emery, Assistant Chief Attorney 1\n",
      "410, Sogra Kadir, Chief Clerk\n",
      "411, Sogra Kadir, Chief Clerk\n",
      "412, Sogra Kadir, Chief Clerk\n",
      "413, Ann Castillo, Chief Telephone Operator\n",
      "414, James Emery, Assistant Chief Attorney 1\n",
      "415, Sogra Kadir, Chief Clerk\n",
      "416, Sara Bennett, Chief Preparator\n",
      "417, Robert Peterson, Chief Surveyor\n",
      "418, James Emery, Assistant Chief Attorney 1\n",
      "419, Sharon Jackson, Chief Deputy Adlt Probation Of\n",
      "420, Sogra Kadir, Chief Clerk\n",
      "421, George Vaughan, Chief Nursery Specialist\n",
      "422, Sara Bennett, Chief Preparator\n",
      "423, Perry Bonelli, Chief Stationary Engineer\n"
     ]
    }
   ],
   "source": [
    "count = 0\n",
    "for title in sal[\"JobTitle\"].values:\n",
    "  if \"Chief\" in title:\n",
    "    count += 1\n",
    "    print(count, sal[sal[\"JobTitle\"] == title][\"EmployeeName\"].values[0], title, sep=\", \")"
   ]
  },
  {
   "cell_type": "markdown",
   "metadata": {},
   "source": [
    "# Solution 15"
   ]
  },
  {
   "cell_type": "code",
   "execution_count": 16,
   "metadata": {},
   "outputs": [
    {
     "data": {
      "text/html": [
       "<div>\n",
       "<style scoped>\n",
       "    .dataframe tbody tr th:only-of-type {\n",
       "        vertical-align: middle;\n",
       "    }\n",
       "\n",
       "    .dataframe tbody tr th {\n",
       "        vertical-align: top;\n",
       "    }\n",
       "\n",
       "    .dataframe thead th {\n",
       "        text-align: right;\n",
       "    }\n",
       "</style>\n",
       "<table border=\"1\" class=\"dataframe\">\n",
       "  <thead>\n",
       "    <tr style=\"text-align: right;\">\n",
       "      <th></th>\n",
       "      <th>Job</th>\n",
       "      <th>TotalPayBenefits</th>\n",
       "    </tr>\n",
       "  </thead>\n",
       "  <tbody>\n",
       "    <tr>\n",
       "      <th>Job</th>\n",
       "      <td>1.000000</td>\n",
       "      <td>-0.036878</td>\n",
       "    </tr>\n",
       "    <tr>\n",
       "      <th>TotalPayBenefits</th>\n",
       "      <td>-0.036878</td>\n",
       "      <td>1.000000</td>\n",
       "    </tr>\n",
       "  </tbody>\n",
       "</table>\n",
       "</div>"
      ],
      "text/plain": [
       "                       Job  TotalPayBenefits\n",
       "Job               1.000000         -0.036878\n",
       "TotalPayBenefits -0.036878          1.000000"
      ]
     },
     "execution_count": 16,
     "metadata": {},
     "output_type": "execute_result"
    }
   ],
   "source": [
    "sal[\"Job\"] = sal[\"JobTitle\"].apply(len)\n",
    "sal[[\"Job\", \"TotalPayBenefits\"]].corr()"
   ]
  }
 ],
 "metadata": {
  "kernelspec": {
   "display_name": "ADS",
   "language": "python",
   "name": "python3"
  },
  "language_info": {
   "codemirror_mode": {
    "name": "ipython",
    "version": 3
   },
   "file_extension": ".py",
   "mimetype": "text/x-python",
   "name": "python",
   "nbconvert_exporter": "python",
   "pygments_lexer": "ipython3",
   "version": "3.11.0"
  }
 },
 "nbformat": 4,
 "nbformat_minor": 2
}
