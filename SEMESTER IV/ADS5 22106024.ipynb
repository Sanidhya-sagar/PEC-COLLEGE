{
 "cells": [
  {
   "cell_type": "markdown",
   "id": "f17f377e",
   "metadata": {},
   "source": [
    "# ADS ASSIGNMENT V\n",
    "\n",
    "Name:     Sanidhya \\\n",
    "SID:    22106024 \\\n",
    "Branch: Computer Science Engineering (Data Science)"
   ]
  },
  {
   "cell_type": "markdown",
   "id": "5e488fc1",
   "metadata": {},
   "source": [
    "The Marketing department of Adventure Works Cycles wants to increase sales by targeting specific\n",
    "customers for a mailing campaign. The company's database contains a list of past customers and a list of\n",
    "potential new customers. By investigating the attributes of previous bike buyers, the company hopes to\n",
    "discover patterns that they can then apply to potential customers. They hope to use the discovered patterns\n",
    "to predict which potential customers are most likely to purchase a bike from Adventure Works Cycles."
   ]
  },
  {
   "cell_type": "code",
   "execution_count": 2,
   "id": "53fb66f6",
   "metadata": {
    "_cell_guid": "b1076dfc-b9ad-4769-8c92-a6c4dae69d19",
    "_uuid": "8f2839f25d086af736a60e9eeb907d3b93b6e0e5",
    "execution": {
     "iopub.execute_input": "2024-01-26T18:52:08.673337Z",
     "iopub.status.busy": "2024-01-26T18:52:08.672487Z",
     "iopub.status.idle": "2024-01-26T18:52:09.449795Z",
     "shell.execute_reply": "2024-01-26T18:52:09.448486Z"
    },
    "papermill": {
     "duration": 0.793933,
     "end_time": "2024-01-26T18:52:09.453215",
     "exception": false,
     "start_time": "2024-01-26T18:52:08.659282",
     "status": "completed"
    },
    "tags": []
   },
   "outputs": [],
   "source": [
    "import numpy\n",
    "import pandas"
   ]
  },
  {
   "cell_type": "markdown",
   "id": "b61b4b03",
   "metadata": {
    "papermill": {
     "duration": 0.010177,
     "end_time": "2024-01-26T18:52:09.474518",
     "exception": false,
     "start_time": "2024-01-26T18:52:09.464341",
     "status": "completed"
    },
    "tags": []
   },
   "source": [
    "### Reading the dataset"
   ]
  },
  {
   "cell_type": "code",
   "execution_count": 3,
   "id": "d1aac5bf",
   "metadata": {
    "execution": {
     "iopub.execute_input": "2024-01-26T18:52:09.498476Z",
     "iopub.status.busy": "2024-01-26T18:52:09.497688Z",
     "iopub.status.idle": "2024-01-26T18:52:09.720885Z",
     "shell.execute_reply": "2024-01-26T18:52:09.719791Z"
    },
    "papermill": {
     "duration": 0.237945,
     "end_time": "2024-01-26T18:52:09.723437",
     "exception": false,
     "start_time": "2024-01-26T18:52:09.485492",
     "status": "completed"
    },
    "tags": []
   },
   "outputs": [
    {
     "data": {
      "text/html": [
       "<div>\n",
       "<style scoped>\n",
       "    .dataframe tbody tr th:only-of-type {\n",
       "        vertical-align: middle;\n",
       "    }\n",
       "\n",
       "    .dataframe tbody tr th {\n",
       "        vertical-align: top;\n",
       "    }\n",
       "\n",
       "    .dataframe thead th {\n",
       "        text-align: right;\n",
       "    }\n",
       "</style>\n",
       "<table border=\"1\" class=\"dataframe\">\n",
       "  <thead>\n",
       "    <tr style=\"text-align: right;\">\n",
       "      <th></th>\n",
       "      <th>CustomerID</th>\n",
       "      <th>Title</th>\n",
       "      <th>FirstName</th>\n",
       "      <th>MiddleName</th>\n",
       "      <th>LastName</th>\n",
       "      <th>Suffix</th>\n",
       "      <th>AddressLine1</th>\n",
       "      <th>AddressLine2</th>\n",
       "      <th>City</th>\n",
       "      <th>StateProvinceName</th>\n",
       "      <th>...</th>\n",
       "      <th>Education</th>\n",
       "      <th>Occupation</th>\n",
       "      <th>Gender</th>\n",
       "      <th>MaritalStatus</th>\n",
       "      <th>HomeOwnerFlag</th>\n",
       "      <th>NumberCarsOwned</th>\n",
       "      <th>NumberChildrenAtHome</th>\n",
       "      <th>TotalChildren</th>\n",
       "      <th>YearlyIncome</th>\n",
       "      <th>LastUpdated</th>\n",
       "    </tr>\n",
       "  </thead>\n",
       "  <tbody>\n",
       "    <tr>\n",
       "      <th>0</th>\n",
       "      <td>21173</td>\n",
       "      <td>NaN</td>\n",
       "      <td>Chad</td>\n",
       "      <td>C</td>\n",
       "      <td>Yuan</td>\n",
       "      <td>NaN</td>\n",
       "      <td>7090 C. Mount Hood</td>\n",
       "      <td>NaN</td>\n",
       "      <td>Wollongong</td>\n",
       "      <td>New South Wales</td>\n",
       "      <td>...</td>\n",
       "      <td>Bachelors</td>\n",
       "      <td>Clerical</td>\n",
       "      <td>M</td>\n",
       "      <td>M</td>\n",
       "      <td>1</td>\n",
       "      <td>3</td>\n",
       "      <td>0</td>\n",
       "      <td>1</td>\n",
       "      <td>81916</td>\n",
       "      <td>2017-03-06</td>\n",
       "    </tr>\n",
       "    <tr>\n",
       "      <th>1</th>\n",
       "      <td>13249</td>\n",
       "      <td>NaN</td>\n",
       "      <td>Ryan</td>\n",
       "      <td>NaN</td>\n",
       "      <td>Perry</td>\n",
       "      <td>NaN</td>\n",
       "      <td>3651 Willow Lake Rd</td>\n",
       "      <td>NaN</td>\n",
       "      <td>Shawnee</td>\n",
       "      <td>British Columbia</td>\n",
       "      <td>...</td>\n",
       "      <td>Partial College</td>\n",
       "      <td>Clerical</td>\n",
       "      <td>M</td>\n",
       "      <td>M</td>\n",
       "      <td>1</td>\n",
       "      <td>2</td>\n",
       "      <td>1</td>\n",
       "      <td>2</td>\n",
       "      <td>81076</td>\n",
       "      <td>2017-03-06</td>\n",
       "    </tr>\n",
       "    <tr>\n",
       "      <th>2</th>\n",
       "      <td>29350</td>\n",
       "      <td>NaN</td>\n",
       "      <td>Julia</td>\n",
       "      <td>NaN</td>\n",
       "      <td>Thompson</td>\n",
       "      <td>NaN</td>\n",
       "      <td>1774 Tice Valley Blvd.</td>\n",
       "      <td>NaN</td>\n",
       "      <td>West Covina</td>\n",
       "      <td>California</td>\n",
       "      <td>...</td>\n",
       "      <td>Bachelors</td>\n",
       "      <td>Clerical</td>\n",
       "      <td>F</td>\n",
       "      <td>S</td>\n",
       "      <td>0</td>\n",
       "      <td>3</td>\n",
       "      <td>0</td>\n",
       "      <td>0</td>\n",
       "      <td>86387</td>\n",
       "      <td>2017-03-06</td>\n",
       "    </tr>\n",
       "    <tr>\n",
       "      <th>3</th>\n",
       "      <td>13503</td>\n",
       "      <td>NaN</td>\n",
       "      <td>Theodore</td>\n",
       "      <td>NaN</td>\n",
       "      <td>Gomez</td>\n",
       "      <td>NaN</td>\n",
       "      <td>2103 Baldwin Dr</td>\n",
       "      <td>NaN</td>\n",
       "      <td>Liverpool</td>\n",
       "      <td>England</td>\n",
       "      <td>...</td>\n",
       "      <td>Partial College</td>\n",
       "      <td>Skilled Manual</td>\n",
       "      <td>M</td>\n",
       "      <td>M</td>\n",
       "      <td>1</td>\n",
       "      <td>2</td>\n",
       "      <td>1</td>\n",
       "      <td>2</td>\n",
       "      <td>61481</td>\n",
       "      <td>2017-03-06</td>\n",
       "    </tr>\n",
       "    <tr>\n",
       "      <th>4</th>\n",
       "      <td>22803</td>\n",
       "      <td>NaN</td>\n",
       "      <td>Marshall</td>\n",
       "      <td>J</td>\n",
       "      <td>Shan</td>\n",
       "      <td>NaN</td>\n",
       "      <td>Am Gallberg 234</td>\n",
       "      <td>NaN</td>\n",
       "      <td>Werne</td>\n",
       "      <td>Nordrhein-Westfalen</td>\n",
       "      <td>...</td>\n",
       "      <td>Partial College</td>\n",
       "      <td>Skilled Manual</td>\n",
       "      <td>M</td>\n",
       "      <td>S</td>\n",
       "      <td>1</td>\n",
       "      <td>1</td>\n",
       "      <td>0</td>\n",
       "      <td>0</td>\n",
       "      <td>51804</td>\n",
       "      <td>2017-03-06</td>\n",
       "    </tr>\n",
       "  </tbody>\n",
       "</table>\n",
       "<p>5 rows × 24 columns</p>\n",
       "</div>"
      ],
      "text/plain": [
       "   CustomerID Title FirstName MiddleName  LastName Suffix  \\\n",
       "0       21173   NaN      Chad          C      Yuan    NaN   \n",
       "1       13249   NaN      Ryan        NaN     Perry    NaN   \n",
       "2       29350   NaN     Julia        NaN  Thompson    NaN   \n",
       "3       13503   NaN  Theodore        NaN     Gomez    NaN   \n",
       "4       22803   NaN  Marshall          J      Shan    NaN   \n",
       "\n",
       "             AddressLine1 AddressLine2         City    StateProvinceName  ...  \\\n",
       "0      7090 C. Mount Hood          NaN   Wollongong      New South Wales  ...   \n",
       "1     3651 Willow Lake Rd          NaN      Shawnee     British Columbia  ...   \n",
       "2  1774 Tice Valley Blvd.          NaN  West Covina           California  ...   \n",
       "3         2103 Baldwin Dr          NaN    Liverpool              England  ...   \n",
       "4         Am Gallberg 234          NaN        Werne  Nordrhein-Westfalen  ...   \n",
       "\n",
       "         Education      Occupation Gender MaritalStatus HomeOwnerFlag  \\\n",
       "0        Bachelors        Clerical      M             M             1   \n",
       "1  Partial College        Clerical      M             M             1   \n",
       "2        Bachelors        Clerical      F             S             0   \n",
       "3  Partial College  Skilled Manual      M             M             1   \n",
       "4  Partial College  Skilled Manual      M             S             1   \n",
       "\n",
       "  NumberCarsOwned NumberChildrenAtHome TotalChildren  YearlyIncome  \\\n",
       "0               3                    0             1         81916   \n",
       "1               2                    1             2         81076   \n",
       "2               3                    0             0         86387   \n",
       "3               2                    1             2         61481   \n",
       "4               1                    0             0         51804   \n",
       "\n",
       "   LastUpdated  \n",
       "0   2017-03-06  \n",
       "1   2017-03-06  \n",
       "2   2017-03-06  \n",
       "3   2017-03-06  \n",
       "4   2017-03-06  \n",
       "\n",
       "[5 rows x 24 columns]"
      ]
     },
     "execution_count": 3,
     "metadata": {},
     "output_type": "execute_result"
    }
   ],
   "source": [
    "cust_raw = pandas.read_csv('AWCustomers.csv')\n",
    "sales_raw = pandas.read_csv('AWSales.csv')\n",
    "\n",
    "cust_raw.head()"
   ]
  },
  {
   "cell_type": "code",
   "execution_count": 4,
   "id": "ac1a30fc",
   "metadata": {
    "execution": {
     "iopub.execute_input": "2024-01-26T18:52:09.760008Z",
     "iopub.status.busy": "2024-01-26T18:52:09.758859Z",
     "iopub.status.idle": "2024-01-26T18:52:09.770900Z",
     "shell.execute_reply": "2024-01-26T18:52:09.769758Z"
    },
    "papermill": {
     "duration": 0.038605,
     "end_time": "2024-01-26T18:52:09.773353",
     "exception": false,
     "start_time": "2024-01-26T18:52:09.734748",
     "status": "completed"
    },
    "tags": []
   },
   "outputs": [
    {
     "data": {
      "text/html": [
       "<div>\n",
       "<style scoped>\n",
       "    .dataframe tbody tr th:only-of-type {\n",
       "        vertical-align: middle;\n",
       "    }\n",
       "\n",
       "    .dataframe tbody tr th {\n",
       "        vertical-align: top;\n",
       "    }\n",
       "\n",
       "    .dataframe thead th {\n",
       "        text-align: right;\n",
       "    }\n",
       "</style>\n",
       "<table border=\"1\" class=\"dataframe\">\n",
       "  <thead>\n",
       "    <tr style=\"text-align: right;\">\n",
       "      <th></th>\n",
       "      <th>CustomerID</th>\n",
       "      <th>BikeBuyer</th>\n",
       "      <th>AvgMonthSpend</th>\n",
       "    </tr>\n",
       "  </thead>\n",
       "  <tbody>\n",
       "    <tr>\n",
       "      <th>0</th>\n",
       "      <td>21173</td>\n",
       "      <td>1</td>\n",
       "      <td>50.97</td>\n",
       "    </tr>\n",
       "    <tr>\n",
       "      <th>1</th>\n",
       "      <td>13249</td>\n",
       "      <td>1</td>\n",
       "      <td>53.11</td>\n",
       "    </tr>\n",
       "    <tr>\n",
       "      <th>2</th>\n",
       "      <td>29350</td>\n",
       "      <td>1</td>\n",
       "      <td>54.08</td>\n",
       "    </tr>\n",
       "    <tr>\n",
       "      <th>3</th>\n",
       "      <td>13503</td>\n",
       "      <td>1</td>\n",
       "      <td>56.93</td>\n",
       "    </tr>\n",
       "    <tr>\n",
       "      <th>4</th>\n",
       "      <td>22803</td>\n",
       "      <td>1</td>\n",
       "      <td>55.41</td>\n",
       "    </tr>\n",
       "  </tbody>\n",
       "</table>\n",
       "</div>"
      ],
      "text/plain": [
       "   CustomerID  BikeBuyer  AvgMonthSpend\n",
       "0       21173          1          50.97\n",
       "1       13249          1          53.11\n",
       "2       29350          1          54.08\n",
       "3       13503          1          56.93\n",
       "4       22803          1          55.41"
      ]
     },
     "execution_count": 4,
     "metadata": {},
     "output_type": "execute_result"
    }
   ],
   "source": [
    "sales_raw.head()"
   ]
  },
  {
   "cell_type": "markdown",
   "id": "f68cb3a3",
   "metadata": {
    "papermill": {
     "duration": 0.011765,
     "end_time": "2024-01-26T18:52:09.796226",
     "exception": false,
     "start_time": "2024-01-26T18:52:09.784461",
     "status": "completed"
    },
    "tags": []
   },
   "source": [
    "## Examining each feature of customers data"
   ]
  },
  {
   "cell_type": "code",
   "execution_count": 5,
   "id": "e6c927a1",
   "metadata": {
    "execution": {
     "iopub.execute_input": "2024-01-26T18:52:09.820505Z",
     "iopub.status.busy": "2024-01-26T18:52:09.819566Z",
     "iopub.status.idle": "2024-01-26T18:52:09.827138Z",
     "shell.execute_reply": "2024-01-26T18:52:09.825891Z"
    },
    "papermill": {
     "duration": 0.022359,
     "end_time": "2024-01-26T18:52:09.829457",
     "exception": false,
     "start_time": "2024-01-26T18:52:09.807098",
     "status": "completed"
    },
    "tags": []
   },
   "outputs": [
    {
     "data": {
      "text/plain": [
       "(18361, 24)"
      ]
     },
     "execution_count": 5,
     "metadata": {},
     "output_type": "execute_result"
    }
   ],
   "source": [
    "cust_raw.shape"
   ]
  },
  {
   "cell_type": "code",
   "execution_count": 6,
   "id": "499b9034",
   "metadata": {
    "execution": {
     "iopub.execute_input": "2024-01-26T18:52:09.854254Z",
     "iopub.status.busy": "2024-01-26T18:52:09.853402Z",
     "iopub.status.idle": "2024-01-26T18:52:09.878275Z",
     "shell.execute_reply": "2024-01-26T18:52:09.876975Z"
    },
    "papermill": {
     "duration": 0.040005,
     "end_time": "2024-01-26T18:52:09.880708",
     "exception": false,
     "start_time": "2024-01-26T18:52:09.840703",
     "status": "completed"
    },
    "tags": []
   },
   "outputs": [
    {
     "data": {
      "text/plain": [
       "CustomerID                  0\n",
       "Title                   18260\n",
       "FirstName                   0\n",
       "MiddleName               7789\n",
       "LastName                    0\n",
       "Suffix                  18358\n",
       "AddressLine1                0\n",
       "AddressLine2            18050\n",
       "City                        0\n",
       "StateProvinceName           0\n",
       "CountryRegionName           0\n",
       "PostalCode                  0\n",
       "PhoneNumber                 0\n",
       "BirthDate                   0\n",
       "Education                   0\n",
       "Occupation                  0\n",
       "Gender                      0\n",
       "MaritalStatus               0\n",
       "HomeOwnerFlag               0\n",
       "NumberCarsOwned             0\n",
       "NumberChildrenAtHome        0\n",
       "TotalChildren               0\n",
       "YearlyIncome                0\n",
       "LastUpdated                 0\n",
       "dtype: int64"
      ]
     },
     "execution_count": 6,
     "metadata": {},
     "output_type": "execute_result"
    }
   ],
   "source": [
    "#checking for null values in dataset\n",
    "cust_raw.isna().sum()"
   ]
  },
  {
   "cell_type": "code",
   "execution_count": 7,
   "id": "a82b2cbb",
   "metadata": {
    "execution": {
     "iopub.execute_input": "2024-01-26T18:52:09.905432Z",
     "iopub.status.busy": "2024-01-26T18:52:09.904990Z",
     "iopub.status.idle": "2024-01-26T18:52:09.916675Z",
     "shell.execute_reply": "2024-01-26T18:52:09.915603Z"
    },
    "papermill": {
     "duration": 0.026912,
     "end_time": "2024-01-26T18:52:09.919098",
     "exception": false,
     "start_time": "2024-01-26T18:52:09.892186",
     "status": "completed"
    },
    "tags": []
   },
   "outputs": [],
   "source": [
    "# Columns with null values dropped.\n",
    "cust = cust_raw.drop(['Title','MiddleName','Suffix','AddressLine2'],axis=1)"
   ]
  },
  {
   "cell_type": "code",
   "execution_count": 8,
   "id": "558c5783",
   "metadata": {
    "execution": {
     "iopub.execute_input": "2024-01-26T18:52:09.943701Z",
     "iopub.status.busy": "2024-01-26T18:52:09.943205Z",
     "iopub.status.idle": "2024-01-26T18:52:09.964144Z",
     "shell.execute_reply": "2024-01-26T18:52:09.963034Z"
    },
    "papermill": {
     "duration": 0.036074,
     "end_time": "2024-01-26T18:52:09.966465",
     "exception": false,
     "start_time": "2024-01-26T18:52:09.930391",
     "status": "completed"
    },
    "tags": []
   },
   "outputs": [
    {
     "data": {
      "text/html": [
       "<div>\n",
       "<style scoped>\n",
       "    .dataframe tbody tr th:only-of-type {\n",
       "        vertical-align: middle;\n",
       "    }\n",
       "\n",
       "    .dataframe tbody tr th {\n",
       "        vertical-align: top;\n",
       "    }\n",
       "\n",
       "    .dataframe thead th {\n",
       "        text-align: right;\n",
       "    }\n",
       "</style>\n",
       "<table border=\"1\" class=\"dataframe\">\n",
       "  <thead>\n",
       "    <tr style=\"text-align: right;\">\n",
       "      <th></th>\n",
       "      <th>CustomerID</th>\n",
       "      <th>FirstName</th>\n",
       "      <th>LastName</th>\n",
       "      <th>AddressLine1</th>\n",
       "      <th>City</th>\n",
       "      <th>StateProvinceName</th>\n",
       "      <th>CountryRegionName</th>\n",
       "      <th>PostalCode</th>\n",
       "      <th>PhoneNumber</th>\n",
       "      <th>BirthDate</th>\n",
       "      <th>Education</th>\n",
       "      <th>Occupation</th>\n",
       "      <th>Gender</th>\n",
       "      <th>MaritalStatus</th>\n",
       "      <th>HomeOwnerFlag</th>\n",
       "      <th>NumberCarsOwned</th>\n",
       "      <th>NumberChildrenAtHome</th>\n",
       "      <th>TotalChildren</th>\n",
       "      <th>YearlyIncome</th>\n",
       "      <th>LastUpdated</th>\n",
       "    </tr>\n",
       "  </thead>\n",
       "  <tbody>\n",
       "    <tr>\n",
       "      <th>0</th>\n",
       "      <td>21173</td>\n",
       "      <td>Chad</td>\n",
       "      <td>Yuan</td>\n",
       "      <td>7090 C. Mount Hood</td>\n",
       "      <td>Wollongong</td>\n",
       "      <td>New South Wales</td>\n",
       "      <td>Australia</td>\n",
       "      <td>2500</td>\n",
       "      <td>1 (11) 500 555-0115</td>\n",
       "      <td>1987-11-13</td>\n",
       "      <td>Bachelors</td>\n",
       "      <td>Clerical</td>\n",
       "      <td>M</td>\n",
       "      <td>M</td>\n",
       "      <td>1</td>\n",
       "      <td>3</td>\n",
       "      <td>0</td>\n",
       "      <td>1</td>\n",
       "      <td>81916</td>\n",
       "      <td>2017-03-06</td>\n",
       "    </tr>\n",
       "    <tr>\n",
       "      <th>1</th>\n",
       "      <td>13249</td>\n",
       "      <td>Ryan</td>\n",
       "      <td>Perry</td>\n",
       "      <td>3651 Willow Lake Rd</td>\n",
       "      <td>Shawnee</td>\n",
       "      <td>British Columbia</td>\n",
       "      <td>Canada</td>\n",
       "      <td>V9B 2C3</td>\n",
       "      <td>787-555-0136</td>\n",
       "      <td>1972-07-21</td>\n",
       "      <td>Partial College</td>\n",
       "      <td>Clerical</td>\n",
       "      <td>M</td>\n",
       "      <td>M</td>\n",
       "      <td>1</td>\n",
       "      <td>2</td>\n",
       "      <td>1</td>\n",
       "      <td>2</td>\n",
       "      <td>81076</td>\n",
       "      <td>2017-03-06</td>\n",
       "    </tr>\n",
       "    <tr>\n",
       "      <th>2</th>\n",
       "      <td>29350</td>\n",
       "      <td>Julia</td>\n",
       "      <td>Thompson</td>\n",
       "      <td>1774 Tice Valley Blvd.</td>\n",
       "      <td>West Covina</td>\n",
       "      <td>California</td>\n",
       "      <td>United States</td>\n",
       "      <td>91791</td>\n",
       "      <td>120-555-0111</td>\n",
       "      <td>1985-11-09</td>\n",
       "      <td>Bachelors</td>\n",
       "      <td>Clerical</td>\n",
       "      <td>F</td>\n",
       "      <td>S</td>\n",
       "      <td>0</td>\n",
       "      <td>3</td>\n",
       "      <td>0</td>\n",
       "      <td>0</td>\n",
       "      <td>86387</td>\n",
       "      <td>2017-03-06</td>\n",
       "    </tr>\n",
       "    <tr>\n",
       "      <th>3</th>\n",
       "      <td>13503</td>\n",
       "      <td>Theodore</td>\n",
       "      <td>Gomez</td>\n",
       "      <td>2103 Baldwin Dr</td>\n",
       "      <td>Liverpool</td>\n",
       "      <td>England</td>\n",
       "      <td>United Kingdom</td>\n",
       "      <td>L4 4HB</td>\n",
       "      <td>1 (11) 500 555-0167</td>\n",
       "      <td>1977-10-18</td>\n",
       "      <td>Partial College</td>\n",
       "      <td>Skilled Manual</td>\n",
       "      <td>M</td>\n",
       "      <td>M</td>\n",
       "      <td>1</td>\n",
       "      <td>2</td>\n",
       "      <td>1</td>\n",
       "      <td>2</td>\n",
       "      <td>61481</td>\n",
       "      <td>2017-03-06</td>\n",
       "    </tr>\n",
       "    <tr>\n",
       "      <th>4</th>\n",
       "      <td>22803</td>\n",
       "      <td>Marshall</td>\n",
       "      <td>Shan</td>\n",
       "      <td>Am Gallberg 234</td>\n",
       "      <td>Werne</td>\n",
       "      <td>Nordrhein-Westfalen</td>\n",
       "      <td>Germany</td>\n",
       "      <td>59368</td>\n",
       "      <td>1 (11) 500 555-0113</td>\n",
       "      <td>1975-02-05</td>\n",
       "      <td>Partial College</td>\n",
       "      <td>Skilled Manual</td>\n",
       "      <td>M</td>\n",
       "      <td>S</td>\n",
       "      <td>1</td>\n",
       "      <td>1</td>\n",
       "      <td>0</td>\n",
       "      <td>0</td>\n",
       "      <td>51804</td>\n",
       "      <td>2017-03-06</td>\n",
       "    </tr>\n",
       "  </tbody>\n",
       "</table>\n",
       "</div>"
      ],
      "text/plain": [
       "   CustomerID FirstName  LastName            AddressLine1         City  \\\n",
       "0       21173      Chad      Yuan      7090 C. Mount Hood   Wollongong   \n",
       "1       13249      Ryan     Perry     3651 Willow Lake Rd      Shawnee   \n",
       "2       29350     Julia  Thompson  1774 Tice Valley Blvd.  West Covina   \n",
       "3       13503  Theodore     Gomez         2103 Baldwin Dr    Liverpool   \n",
       "4       22803  Marshall      Shan         Am Gallberg 234        Werne   \n",
       "\n",
       "     StateProvinceName CountryRegionName PostalCode          PhoneNumber  \\\n",
       "0      New South Wales         Australia       2500  1 (11) 500 555-0115   \n",
       "1     British Columbia            Canada    V9B 2C3         787-555-0136   \n",
       "2           California     United States      91791         120-555-0111   \n",
       "3              England    United Kingdom     L4 4HB  1 (11) 500 555-0167   \n",
       "4  Nordrhein-Westfalen           Germany      59368  1 (11) 500 555-0113   \n",
       "\n",
       "    BirthDate        Education      Occupation Gender MaritalStatus  \\\n",
       "0  1987-11-13        Bachelors        Clerical      M             M   \n",
       "1  1972-07-21  Partial College        Clerical      M             M   \n",
       "2  1985-11-09        Bachelors        Clerical      F             S   \n",
       "3  1977-10-18  Partial College  Skilled Manual      M             M   \n",
       "4  1975-02-05  Partial College  Skilled Manual      M             S   \n",
       "\n",
       "   HomeOwnerFlag  NumberCarsOwned  NumberChildrenAtHome  TotalChildren  \\\n",
       "0              1                3                     0              1   \n",
       "1              1                2                     1              2   \n",
       "2              0                3                     0              0   \n",
       "3              1                2                     1              2   \n",
       "4              1                1                     0              0   \n",
       "\n",
       "   YearlyIncome LastUpdated  \n",
       "0         81916  2017-03-06  \n",
       "1         81076  2017-03-06  \n",
       "2         86387  2017-03-06  \n",
       "3         61481  2017-03-06  \n",
       "4         51804  2017-03-06  "
      ]
     },
     "execution_count": 8,
     "metadata": {},
     "output_type": "execute_result"
    }
   ],
   "source": [
    "cust.head()"
   ]
  },
  {
   "cell_type": "code",
   "execution_count": 9,
   "id": "f9e8d493",
   "metadata": {
    "execution": {
     "iopub.execute_input": "2024-01-26T18:52:09.992032Z",
     "iopub.status.busy": "2024-01-26T18:52:09.991549Z",
     "iopub.status.idle": "2024-01-26T18:52:10.013586Z",
     "shell.execute_reply": "2024-01-26T18:52:10.012515Z"
    },
    "papermill": {
     "duration": 0.037515,
     "end_time": "2024-01-26T18:52:10.015789",
     "exception": false,
     "start_time": "2024-01-26T18:52:09.978274",
     "status": "completed"
    },
    "tags": []
   },
   "outputs": [
    {
     "data": {
      "text/plain": [
       "CustomerID              0\n",
       "FirstName               0\n",
       "LastName                0\n",
       "AddressLine1            0\n",
       "City                    0\n",
       "StateProvinceName       0\n",
       "CountryRegionName       0\n",
       "PostalCode              0\n",
       "PhoneNumber             0\n",
       "BirthDate               0\n",
       "Education               0\n",
       "Occupation              0\n",
       "Gender                  0\n",
       "MaritalStatus           0\n",
       "HomeOwnerFlag           0\n",
       "NumberCarsOwned         0\n",
       "NumberChildrenAtHome    0\n",
       "TotalChildren           0\n",
       "YearlyIncome            0\n",
       "LastUpdated             0\n",
       "dtype: int64"
      ]
     },
     "execution_count": 9,
     "metadata": {},
     "output_type": "execute_result"
    }
   ],
   "source": [
    "cust.isna().sum()"
   ]
  },
  {
   "cell_type": "code",
   "execution_count": 10,
   "id": "09f47bac",
   "metadata": {
    "execution": {
     "iopub.execute_input": "2024-01-26T18:52:10.042536Z",
     "iopub.status.busy": "2024-01-26T18:52:10.042088Z",
     "iopub.status.idle": "2024-01-26T18:52:10.049328Z",
     "shell.execute_reply": "2024-01-26T18:52:10.047984Z"
    },
    "papermill": {
     "duration": 0.023836,
     "end_time": "2024-01-26T18:52:10.051601",
     "exception": false,
     "start_time": "2024-01-26T18:52:10.027765",
     "status": "completed"
    },
    "tags": []
   },
   "outputs": [
    {
     "data": {
      "text/plain": [
       "(18355, 3)"
      ]
     },
     "execution_count": 10,
     "metadata": {},
     "output_type": "execute_result"
    }
   ],
   "source": [
    "sales_raw.shape"
   ]
  },
  {
   "cell_type": "code",
   "execution_count": 11,
   "id": "65dc2653",
   "metadata": {
    "execution": {
     "iopub.execute_input": "2024-01-26T18:52:10.166194Z",
     "iopub.status.busy": "2024-01-26T18:52:10.165253Z",
     "iopub.status.idle": "2024-01-26T18:52:10.174421Z",
     "shell.execute_reply": "2024-01-26T18:52:10.173554Z"
    },
    "papermill": {
     "duration": 0.024954,
     "end_time": "2024-01-26T18:52:10.176521",
     "exception": false,
     "start_time": "2024-01-26T18:52:10.151567",
     "status": "completed"
    },
    "tags": []
   },
   "outputs": [
    {
     "data": {
      "text/plain": [
       "CustomerID       0\n",
       "BikeBuyer        0\n",
       "AvgMonthSpend    0\n",
       "dtype: int64"
      ]
     },
     "execution_count": 11,
     "metadata": {},
     "output_type": "execute_result"
    }
   ],
   "source": [
    "sales_raw.isna().sum()"
   ]
  },
  {
   "cell_type": "markdown",
   "id": "1740bd4c",
   "metadata": {
    "papermill": {
     "duration": 0.012124,
     "end_time": "2024-01-26T18:52:10.200999",
     "exception": false,
     "start_time": "2024-01-26T18:52:10.188875",
     "status": "completed"
    },
    "tags": []
   },
   "source": [
    "### Joining the databases based on CustomerID"
   ]
  },
  {
   "cell_type": "code",
   "execution_count": 12,
   "id": "9c847930",
   "metadata": {
    "execution": {
     "iopub.execute_input": "2024-01-26T18:52:10.227539Z",
     "iopub.status.busy": "2024-01-26T18:52:10.227063Z",
     "iopub.status.idle": "2024-01-26T18:52:10.251870Z",
     "shell.execute_reply": "2024-01-26T18:52:10.250461Z"
    },
    "papermill": {
     "duration": 0.042421,
     "end_time": "2024-01-26T18:52:10.255756",
     "exception": false,
     "start_time": "2024-01-26T18:52:10.213335",
     "status": "completed"
    },
    "tags": []
   },
   "outputs": [],
   "source": [
    "data = pandas.merge(cust,sales_raw,on=\"CustomerID\")"
   ]
  },
  {
   "cell_type": "code",
   "execution_count": 13,
   "id": "be5319b5",
   "metadata": {
    "execution": {
     "iopub.execute_input": "2024-01-26T18:52:10.284118Z",
     "iopub.status.busy": "2024-01-26T18:52:10.282783Z",
     "iopub.status.idle": "2024-01-26T18:52:10.288007Z",
     "shell.execute_reply": "2024-01-26T18:52:10.287245Z"
    },
    "papermill": {
     "duration": 0.02096,
     "end_time": "2024-01-26T18:52:10.290115",
     "exception": false,
     "start_time": "2024-01-26T18:52:10.269155",
     "status": "completed"
    },
    "tags": []
   },
   "outputs": [],
   "source": [
    "avg_month_spend = data['AvgMonthSpend']\n",
    "yearly_income = data['YearlyIncome']"
   ]
  },
  {
   "cell_type": "code",
   "execution_count": 14,
   "id": "8bedfcf2",
   "metadata": {
    "execution": {
     "iopub.execute_input": "2024-01-26T18:52:10.317067Z",
     "iopub.status.busy": "2024-01-26T18:52:10.316243Z",
     "iopub.status.idle": "2024-01-26T18:52:10.322210Z",
     "shell.execute_reply": "2024-01-26T18:52:10.321266Z"
    },
    "papermill": {
     "duration": 0.021759,
     "end_time": "2024-01-26T18:52:10.324205",
     "exception": false,
     "start_time": "2024-01-26T18:52:10.302446",
     "status": "completed"
    },
    "tags": []
   },
   "outputs": [
    {
     "data": {
      "text/plain": [
       "(18361, 22)"
      ]
     },
     "execution_count": 14,
     "metadata": {},
     "output_type": "execute_result"
    }
   ],
   "source": [
    "data.shape"
   ]
  },
  {
   "cell_type": "code",
   "execution_count": 15,
   "id": "877b5349",
   "metadata": {
    "execution": {
     "iopub.execute_input": "2024-01-26T18:52:10.351383Z",
     "iopub.status.busy": "2024-01-26T18:52:10.350502Z",
     "iopub.status.idle": "2024-01-26T18:52:10.372240Z",
     "shell.execute_reply": "2024-01-26T18:52:10.371092Z"
    },
    "papermill": {
     "duration": 0.038281,
     "end_time": "2024-01-26T18:52:10.374983",
     "exception": false,
     "start_time": "2024-01-26T18:52:10.336702",
     "status": "completed"
    },
    "tags": []
   },
   "outputs": [
    {
     "data": {
      "text/html": [
       "<div>\n",
       "<style scoped>\n",
       "    .dataframe tbody tr th:only-of-type {\n",
       "        vertical-align: middle;\n",
       "    }\n",
       "\n",
       "    .dataframe tbody tr th {\n",
       "        vertical-align: top;\n",
       "    }\n",
       "\n",
       "    .dataframe thead th {\n",
       "        text-align: right;\n",
       "    }\n",
       "</style>\n",
       "<table border=\"1\" class=\"dataframe\">\n",
       "  <thead>\n",
       "    <tr style=\"text-align: right;\">\n",
       "      <th></th>\n",
       "      <th>CustomerID</th>\n",
       "      <th>FirstName</th>\n",
       "      <th>LastName</th>\n",
       "      <th>AddressLine1</th>\n",
       "      <th>City</th>\n",
       "      <th>StateProvinceName</th>\n",
       "      <th>CountryRegionName</th>\n",
       "      <th>PostalCode</th>\n",
       "      <th>PhoneNumber</th>\n",
       "      <th>BirthDate</th>\n",
       "      <th>...</th>\n",
       "      <th>Gender</th>\n",
       "      <th>MaritalStatus</th>\n",
       "      <th>HomeOwnerFlag</th>\n",
       "      <th>NumberCarsOwned</th>\n",
       "      <th>NumberChildrenAtHome</th>\n",
       "      <th>TotalChildren</th>\n",
       "      <th>YearlyIncome</th>\n",
       "      <th>LastUpdated</th>\n",
       "      <th>BikeBuyer</th>\n",
       "      <th>AvgMonthSpend</th>\n",
       "    </tr>\n",
       "  </thead>\n",
       "  <tbody>\n",
       "    <tr>\n",
       "      <th>0</th>\n",
       "      <td>21173</td>\n",
       "      <td>Chad</td>\n",
       "      <td>Yuan</td>\n",
       "      <td>7090 C. Mount Hood</td>\n",
       "      <td>Wollongong</td>\n",
       "      <td>New South Wales</td>\n",
       "      <td>Australia</td>\n",
       "      <td>2500</td>\n",
       "      <td>1 (11) 500 555-0115</td>\n",
       "      <td>1987-11-13</td>\n",
       "      <td>...</td>\n",
       "      <td>M</td>\n",
       "      <td>M</td>\n",
       "      <td>1</td>\n",
       "      <td>3</td>\n",
       "      <td>0</td>\n",
       "      <td>1</td>\n",
       "      <td>81916</td>\n",
       "      <td>2017-03-06</td>\n",
       "      <td>1</td>\n",
       "      <td>50.97</td>\n",
       "    </tr>\n",
       "    <tr>\n",
       "      <th>1</th>\n",
       "      <td>13249</td>\n",
       "      <td>Ryan</td>\n",
       "      <td>Perry</td>\n",
       "      <td>3651 Willow Lake Rd</td>\n",
       "      <td>Shawnee</td>\n",
       "      <td>British Columbia</td>\n",
       "      <td>Canada</td>\n",
       "      <td>V9B 2C3</td>\n",
       "      <td>787-555-0136</td>\n",
       "      <td>1972-07-21</td>\n",
       "      <td>...</td>\n",
       "      <td>M</td>\n",
       "      <td>M</td>\n",
       "      <td>1</td>\n",
       "      <td>2</td>\n",
       "      <td>1</td>\n",
       "      <td>2</td>\n",
       "      <td>81076</td>\n",
       "      <td>2017-03-06</td>\n",
       "      <td>1</td>\n",
       "      <td>53.11</td>\n",
       "    </tr>\n",
       "    <tr>\n",
       "      <th>2</th>\n",
       "      <td>29350</td>\n",
       "      <td>Julia</td>\n",
       "      <td>Thompson</td>\n",
       "      <td>1774 Tice Valley Blvd.</td>\n",
       "      <td>West Covina</td>\n",
       "      <td>California</td>\n",
       "      <td>United States</td>\n",
       "      <td>91791</td>\n",
       "      <td>120-555-0111</td>\n",
       "      <td>1985-11-09</td>\n",
       "      <td>...</td>\n",
       "      <td>F</td>\n",
       "      <td>S</td>\n",
       "      <td>0</td>\n",
       "      <td>3</td>\n",
       "      <td>0</td>\n",
       "      <td>0</td>\n",
       "      <td>86387</td>\n",
       "      <td>2017-03-06</td>\n",
       "      <td>1</td>\n",
       "      <td>54.08</td>\n",
       "    </tr>\n",
       "    <tr>\n",
       "      <th>3</th>\n",
       "      <td>13503</td>\n",
       "      <td>Theodore</td>\n",
       "      <td>Gomez</td>\n",
       "      <td>2103 Baldwin Dr</td>\n",
       "      <td>Liverpool</td>\n",
       "      <td>England</td>\n",
       "      <td>United Kingdom</td>\n",
       "      <td>L4 4HB</td>\n",
       "      <td>1 (11) 500 555-0167</td>\n",
       "      <td>1977-10-18</td>\n",
       "      <td>...</td>\n",
       "      <td>M</td>\n",
       "      <td>M</td>\n",
       "      <td>1</td>\n",
       "      <td>2</td>\n",
       "      <td>1</td>\n",
       "      <td>2</td>\n",
       "      <td>61481</td>\n",
       "      <td>2017-03-06</td>\n",
       "      <td>1</td>\n",
       "      <td>56.93</td>\n",
       "    </tr>\n",
       "    <tr>\n",
       "      <th>4</th>\n",
       "      <td>22803</td>\n",
       "      <td>Marshall</td>\n",
       "      <td>Shan</td>\n",
       "      <td>Am Gallberg 234</td>\n",
       "      <td>Werne</td>\n",
       "      <td>Nordrhein-Westfalen</td>\n",
       "      <td>Germany</td>\n",
       "      <td>59368</td>\n",
       "      <td>1 (11) 500 555-0113</td>\n",
       "      <td>1975-02-05</td>\n",
       "      <td>...</td>\n",
       "      <td>M</td>\n",
       "      <td>S</td>\n",
       "      <td>1</td>\n",
       "      <td>1</td>\n",
       "      <td>0</td>\n",
       "      <td>0</td>\n",
       "      <td>51804</td>\n",
       "      <td>2017-03-06</td>\n",
       "      <td>1</td>\n",
       "      <td>55.41</td>\n",
       "    </tr>\n",
       "  </tbody>\n",
       "</table>\n",
       "<p>5 rows × 22 columns</p>\n",
       "</div>"
      ],
      "text/plain": [
       "   CustomerID FirstName  LastName            AddressLine1         City  \\\n",
       "0       21173      Chad      Yuan      7090 C. Mount Hood   Wollongong   \n",
       "1       13249      Ryan     Perry     3651 Willow Lake Rd      Shawnee   \n",
       "2       29350     Julia  Thompson  1774 Tice Valley Blvd.  West Covina   \n",
       "3       13503  Theodore     Gomez         2103 Baldwin Dr    Liverpool   \n",
       "4       22803  Marshall      Shan         Am Gallberg 234        Werne   \n",
       "\n",
       "     StateProvinceName CountryRegionName PostalCode          PhoneNumber  \\\n",
       "0      New South Wales         Australia       2500  1 (11) 500 555-0115   \n",
       "1     British Columbia            Canada    V9B 2C3         787-555-0136   \n",
       "2           California     United States      91791         120-555-0111   \n",
       "3              England    United Kingdom     L4 4HB  1 (11) 500 555-0167   \n",
       "4  Nordrhein-Westfalen           Germany      59368  1 (11) 500 555-0113   \n",
       "\n",
       "    BirthDate  ... Gender MaritalStatus HomeOwnerFlag NumberCarsOwned  \\\n",
       "0  1987-11-13  ...      M             M             1               3   \n",
       "1  1972-07-21  ...      M             M             1               2   \n",
       "2  1985-11-09  ...      F             S             0               3   \n",
       "3  1977-10-18  ...      M             M             1               2   \n",
       "4  1975-02-05  ...      M             S             1               1   \n",
       "\n",
       "   NumberChildrenAtHome  TotalChildren  YearlyIncome  LastUpdated  BikeBuyer  \\\n",
       "0                     0              1         81916   2017-03-06          1   \n",
       "1                     1              2         81076   2017-03-06          1   \n",
       "2                     0              0         86387   2017-03-06          1   \n",
       "3                     1              2         61481   2017-03-06          1   \n",
       "4                     0              0         51804   2017-03-06          1   \n",
       "\n",
       "  AvgMonthSpend  \n",
       "0         50.97  \n",
       "1         53.11  \n",
       "2         54.08  \n",
       "3         56.93  \n",
       "4         55.41  \n",
       "\n",
       "[5 rows x 22 columns]"
      ]
     },
     "execution_count": 15,
     "metadata": {},
     "output_type": "execute_result"
    }
   ],
   "source": [
    "data.head()"
   ]
  },
  {
   "cell_type": "code",
   "execution_count": 16,
   "id": "f028733a",
   "metadata": {
    "execution": {
     "iopub.execute_input": "2024-01-26T18:52:10.427053Z",
     "iopub.status.busy": "2024-01-26T18:52:10.426561Z",
     "iopub.status.idle": "2024-01-26T18:52:10.435539Z",
     "shell.execute_reply": "2024-01-26T18:52:10.434421Z"
    },
    "papermill": {
     "duration": 0.025142,
     "end_time": "2024-01-26T18:52:10.437801",
     "exception": false,
     "start_time": "2024-01-26T18:52:10.412659",
     "status": "completed"
    },
    "tags": []
   },
   "outputs": [
    {
     "data": {
      "text/plain": [
       "CustomerID                int64\n",
       "FirstName                object\n",
       "LastName                 object\n",
       "AddressLine1             object\n",
       "City                     object\n",
       "StateProvinceName        object\n",
       "CountryRegionName        object\n",
       "PostalCode               object\n",
       "PhoneNumber              object\n",
       "BirthDate                object\n",
       "Education                object\n",
       "Occupation               object\n",
       "Gender                   object\n",
       "MaritalStatus            object\n",
       "HomeOwnerFlag             int64\n",
       "NumberCarsOwned           int64\n",
       "NumberChildrenAtHome      int64\n",
       "TotalChildren             int64\n",
       "YearlyIncome              int64\n",
       "LastUpdated              object\n",
       "BikeBuyer                 int64\n",
       "AvgMonthSpend           float64\n",
       "dtype: object"
      ]
     },
     "execution_count": 16,
     "metadata": {},
     "output_type": "execute_result"
    }
   ],
   "source": [
    "data.dtypes"
   ]
  },
  {
   "cell_type": "markdown",
   "id": "415f27fb",
   "metadata": {},
   "source": [
    "### Categorising data as Ordinal, Continuous or Categorical Data"
   ]
  },
  {
   "cell_type": "code",
   "execution_count": 17,
   "id": "9e92df79",
   "metadata": {
    "execution": {
     "iopub.execute_input": "2024-01-26T18:52:10.465902Z",
     "iopub.status.busy": "2024-01-26T18:52:10.465426Z",
     "iopub.status.idle": "2024-01-26T18:52:10.474492Z",
     "shell.execute_reply": "2024-01-26T18:52:10.472867Z"
    },
    "papermill": {
     "duration": 0.025695,
     "end_time": "2024-01-26T18:52:10.476876",
     "exception": false,
     "start_time": "2024-01-26T18:52:10.451181",
     "status": "completed"
    },
    "tags": []
   },
   "outputs": [
    {
     "name": "stdout",
     "output_type": "stream",
     "text": [
      "Ordinal (rank based) features : []\n",
      "Continous features : ['AvgMonthSpend']\n",
      "Categorical features : ['CustomerID', 'FirstName', 'LastName', 'AddressLine1', 'City', 'StateProvinceName', 'CountryRegionName', 'PostalCode', 'PhoneNumber', 'BirthDate', 'Education', 'Occupation', 'Gender', 'MaritalStatus', 'HomeOwnerFlag', 'NumberCarsOwned', 'NumberChildrenAtHome', 'TotalChildren', 'YearlyIncome', 'LastUpdated', 'BikeBuyer']\n"
     ]
    }
   ],
   "source": [
    "ordinal = []\n",
    "continous = []\n",
    "categorical = []\n",
    "\n",
    "for col, dtype in data.dtypes.items():\n",
    "    if dtype==int:\n",
    "        ordinal.append(col)\n",
    "    elif dtype==float:\n",
    "        continous.append(col)\n",
    "    else:\n",
    "        categorical.append(col)\n",
    "        \n",
    "print(\"Ordinal (rank based) features :\", ordinal)\n",
    "print(\"Continous features :\", continous)\n",
    "print(\"Categorical features :\", categorical)"
   ]
  },
  {
   "cell_type": "code",
   "execution_count": 18,
   "id": "60cd69c8",
   "metadata": {
    "execution": {
     "iopub.execute_input": "2024-01-26T18:52:10.505470Z",
     "iopub.status.busy": "2024-01-26T18:52:10.504956Z",
     "iopub.status.idle": "2024-01-26T18:52:10.546680Z",
     "shell.execute_reply": "2024-01-26T18:52:10.545381Z"
    },
    "papermill": {
     "duration": 0.058975,
     "end_time": "2024-01-26T18:52:10.549216",
     "exception": false,
     "start_time": "2024-01-26T18:52:10.490241",
     "status": "completed"
    },
    "tags": []
   },
   "outputs": [
    {
     "data": {
      "text/html": [
       "<div>\n",
       "<style scoped>\n",
       "    .dataframe tbody tr th:only-of-type {\n",
       "        vertical-align: middle;\n",
       "    }\n",
       "\n",
       "    .dataframe tbody tr th {\n",
       "        vertical-align: top;\n",
       "    }\n",
       "\n",
       "    .dataframe thead th {\n",
       "        text-align: right;\n",
       "    }\n",
       "</style>\n",
       "<table border=\"1\" class=\"dataframe\">\n",
       "  <thead>\n",
       "    <tr style=\"text-align: right;\">\n",
       "      <th></th>\n",
       "      <th>CustomerID</th>\n",
       "      <th>HomeOwnerFlag</th>\n",
       "      <th>NumberCarsOwned</th>\n",
       "      <th>NumberChildrenAtHome</th>\n",
       "      <th>TotalChildren</th>\n",
       "      <th>YearlyIncome</th>\n",
       "      <th>BikeBuyer</th>\n",
       "      <th>AvgMonthSpend</th>\n",
       "    </tr>\n",
       "  </thead>\n",
       "  <tbody>\n",
       "    <tr>\n",
       "      <th>count</th>\n",
       "      <td>18361.000000</td>\n",
       "      <td>18361.000000</td>\n",
       "      <td>18361.000000</td>\n",
       "      <td>18361.000000</td>\n",
       "      <td>18361.000000</td>\n",
       "      <td>18361.000000</td>\n",
       "      <td>18361.000000</td>\n",
       "      <td>18361.000000</td>\n",
       "    </tr>\n",
       "    <tr>\n",
       "      <th>mean</th>\n",
       "      <td>20241.987092</td>\n",
       "      <td>0.610588</td>\n",
       "      <td>1.270301</td>\n",
       "      <td>0.338162</td>\n",
       "      <td>0.850389</td>\n",
       "      <td>72754.779642</td>\n",
       "      <td>0.551767</td>\n",
       "      <td>51.766744</td>\n",
       "    </tr>\n",
       "    <tr>\n",
       "      <th>std</th>\n",
       "      <td>5336.332731</td>\n",
       "      <td>0.487630</td>\n",
       "      <td>0.913989</td>\n",
       "      <td>0.568957</td>\n",
       "      <td>0.927315</td>\n",
       "      <td>30686.014313</td>\n",
       "      <td>0.497326</td>\n",
       "      <td>3.437684</td>\n",
       "    </tr>\n",
       "    <tr>\n",
       "      <th>min</th>\n",
       "      <td>11000.000000</td>\n",
       "      <td>0.000000</td>\n",
       "      <td>0.000000</td>\n",
       "      <td>0.000000</td>\n",
       "      <td>0.000000</td>\n",
       "      <td>25435.000000</td>\n",
       "      <td>0.000000</td>\n",
       "      <td>44.100000</td>\n",
       "    </tr>\n",
       "    <tr>\n",
       "      <th>25%</th>\n",
       "      <td>15621.000000</td>\n",
       "      <td>0.000000</td>\n",
       "      <td>1.000000</td>\n",
       "      <td>0.000000</td>\n",
       "      <td>0.000000</td>\n",
       "      <td>53312.000000</td>\n",
       "      <td>0.000000</td>\n",
       "      <td>49.410000</td>\n",
       "    </tr>\n",
       "    <tr>\n",
       "      <th>50%</th>\n",
       "      <td>20248.000000</td>\n",
       "      <td>1.000000</td>\n",
       "      <td>1.000000</td>\n",
       "      <td>0.000000</td>\n",
       "      <td>0.000000</td>\n",
       "      <td>61851.000000</td>\n",
       "      <td>1.000000</td>\n",
       "      <td>51.420000</td>\n",
       "    </tr>\n",
       "    <tr>\n",
       "      <th>75%</th>\n",
       "      <td>24863.000000</td>\n",
       "      <td>1.000000</td>\n",
       "      <td>2.000000</td>\n",
       "      <td>1.000000</td>\n",
       "      <td>2.000000</td>\n",
       "      <td>87410.000000</td>\n",
       "      <td>1.000000</td>\n",
       "      <td>53.590000</td>\n",
       "    </tr>\n",
       "    <tr>\n",
       "      <th>max</th>\n",
       "      <td>29483.000000</td>\n",
       "      <td>1.000000</td>\n",
       "      <td>5.000000</td>\n",
       "      <td>3.000000</td>\n",
       "      <td>3.000000</td>\n",
       "      <td>139115.000000</td>\n",
       "      <td>1.000000</td>\n",
       "      <td>65.290000</td>\n",
       "    </tr>\n",
       "  </tbody>\n",
       "</table>\n",
       "</div>"
      ],
      "text/plain": [
       "         CustomerID  HomeOwnerFlag  NumberCarsOwned  NumberChildrenAtHome  \\\n",
       "count  18361.000000   18361.000000     18361.000000          18361.000000   \n",
       "mean   20241.987092       0.610588         1.270301              0.338162   \n",
       "std     5336.332731       0.487630         0.913989              0.568957   \n",
       "min    11000.000000       0.000000         0.000000              0.000000   \n",
       "25%    15621.000000       0.000000         1.000000              0.000000   \n",
       "50%    20248.000000       1.000000         1.000000              0.000000   \n",
       "75%    24863.000000       1.000000         2.000000              1.000000   \n",
       "max    29483.000000       1.000000         5.000000              3.000000   \n",
       "\n",
       "       TotalChildren   YearlyIncome     BikeBuyer  AvgMonthSpend  \n",
       "count   18361.000000   18361.000000  18361.000000   18361.000000  \n",
       "mean        0.850389   72754.779642      0.551767      51.766744  \n",
       "std         0.927315   30686.014313      0.497326       3.437684  \n",
       "min         0.000000   25435.000000      0.000000      44.100000  \n",
       "25%         0.000000   53312.000000      0.000000      49.410000  \n",
       "50%         0.000000   61851.000000      1.000000      51.420000  \n",
       "75%         2.000000   87410.000000      1.000000      53.590000  \n",
       "max         3.000000  139115.000000      1.000000      65.290000  "
      ]
     },
     "execution_count": 18,
     "metadata": {},
     "output_type": "execute_result"
    }
   ],
   "source": [
    "data.describe()"
   ]
  },
  {
   "cell_type": "markdown",
   "id": "d1c9e399",
   "metadata": {
    "papermill": {
     "duration": 0.012752,
     "end_time": "2024-01-26T18:52:10.575124",
     "exception": false,
     "start_time": "2024-01-26T18:52:10.562372",
     "status": "completed"
    },
    "tags": []
   },
   "source": [
    "## Categorising the features according to their data type"
   ]
  },
  {
   "cell_type": "code",
   "execution_count": 19,
   "id": "3d9bd2fa",
   "metadata": {
    "execution": {
     "iopub.execute_input": "2024-01-26T18:52:10.603873Z",
     "iopub.status.busy": "2024-01-26T18:52:10.603122Z",
     "iopub.status.idle": "2024-01-26T18:52:10.613074Z",
     "shell.execute_reply": "2024-01-26T18:52:10.611939Z"
    },
    "papermill": {
     "duration": 0.026734,
     "end_time": "2024-01-26T18:52:10.615338",
     "exception": false,
     "start_time": "2024-01-26T18:52:10.588604",
     "status": "completed"
    },
    "tags": []
   },
   "outputs": [
    {
     "data": {
      "text/plain": [
       "array(['M', 'F'], dtype=object)"
      ]
     },
     "execution_count": 19,
     "metadata": {},
     "output_type": "execute_result"
    }
   ],
   "source": [
    "data['Gender'].unique()"
   ]
  },
  {
   "cell_type": "code",
   "execution_count": 20,
   "id": "821b34a6",
   "metadata": {
    "execution": {
     "iopub.execute_input": "2024-01-26T18:52:10.643767Z",
     "iopub.status.busy": "2024-01-26T18:52:10.643333Z",
     "iopub.status.idle": "2024-01-26T18:52:10.657255Z",
     "shell.execute_reply": "2024-01-26T18:52:10.656117Z"
    },
    "papermill": {
     "duration": 0.03133,
     "end_time": "2024-01-26T18:52:10.659944",
     "exception": false,
     "start_time": "2024-01-26T18:52:10.628614",
     "status": "completed"
    },
    "tags": []
   },
   "outputs": [],
   "source": [
    "data['Gender'] = data['Gender'].apply(lambda x : 1 if x=='M' else 0)"
   ]
  },
  {
   "cell_type": "code",
   "execution_count": 21,
   "id": "ff415c61",
   "metadata": {
    "execution": {
     "iopub.execute_input": "2024-01-26T18:52:10.689499Z",
     "iopub.status.busy": "2024-01-26T18:52:10.689019Z",
     "iopub.status.idle": "2024-01-26T18:52:10.696834Z",
     "shell.execute_reply": "2024-01-26T18:52:10.696052Z"
    },
    "papermill": {
     "duration": 0.025029,
     "end_time": "2024-01-26T18:52:10.698735",
     "exception": false,
     "start_time": "2024-01-26T18:52:10.673706",
     "status": "completed"
    },
    "tags": []
   },
   "outputs": [
    {
     "data": {
      "text/plain": [
       "array(['M', 'S'], dtype=object)"
      ]
     },
     "execution_count": 21,
     "metadata": {},
     "output_type": "execute_result"
    }
   ],
   "source": [
    "data['MaritalStatus'].unique()"
   ]
  },
  {
   "cell_type": "code",
   "execution_count": 22,
   "id": "6fd740b7",
   "metadata": {
    "execution": {
     "iopub.execute_input": "2024-01-26T18:52:10.728153Z",
     "iopub.status.busy": "2024-01-26T18:52:10.727341Z",
     "iopub.status.idle": "2024-01-26T18:52:10.741023Z",
     "shell.execute_reply": "2024-01-26T18:52:10.739702Z"
    },
    "papermill": {
     "duration": 0.031707,
     "end_time": "2024-01-26T18:52:10.744061",
     "exception": false,
     "start_time": "2024-01-26T18:52:10.712354",
     "status": "completed"
    },
    "tags": []
   },
   "outputs": [],
   "source": [
    "data['MaritalStatus'] = data['MaritalStatus'].apply(lambda x : 1 if x=='M' else 0)"
   ]
  },
  {
   "cell_type": "code",
   "execution_count": 23,
   "id": "639400d5",
   "metadata": {
    "execution": {
     "iopub.execute_input": "2024-01-26T18:52:10.773099Z",
     "iopub.status.busy": "2024-01-26T18:52:10.772618Z",
     "iopub.status.idle": "2024-01-26T18:52:10.781454Z",
     "shell.execute_reply": "2024-01-26T18:52:10.780343Z"
    },
    "papermill": {
     "duration": 0.02611,
     "end_time": "2024-01-26T18:52:10.783749",
     "exception": false,
     "start_time": "2024-01-26T18:52:10.757639",
     "status": "completed"
    },
    "tags": []
   },
   "outputs": [
    {
     "data": {
      "text/plain": [
       "array(['2017-03-06', '2017-03-07'], dtype=object)"
      ]
     },
     "execution_count": 23,
     "metadata": {},
     "output_type": "execute_result"
    }
   ],
   "source": [
    "data['LastUpdated'].unique()"
   ]
  },
  {
   "cell_type": "code",
   "execution_count": 24,
   "id": "601c96a3",
   "metadata": {
    "execution": {
     "iopub.execute_input": "2024-01-26T18:52:10.813579Z",
     "iopub.status.busy": "2024-01-26T18:52:10.812494Z",
     "iopub.status.idle": "2024-01-26T18:52:10.827331Z",
     "shell.execute_reply": "2024-01-26T18:52:10.825786Z"
    },
    "papermill": {
     "duration": 0.032499,
     "end_time": "2024-01-26T18:52:10.829956",
     "exception": false,
     "start_time": "2024-01-26T18:52:10.797457",
     "status": "completed"
    },
    "tags": []
   },
   "outputs": [],
   "source": [
    "data['LastUpdated'] = data['LastUpdated'].apply(lambda x : 1 if x=='2017-03-06' else 2)"
   ]
  },
  {
   "cell_type": "code",
   "execution_count": 25,
   "id": "4f941ccd",
   "metadata": {
    "execution": {
     "iopub.execute_input": "2024-01-26T18:52:10.859513Z",
     "iopub.status.busy": "2024-01-26T18:52:10.859027Z",
     "iopub.status.idle": "2024-01-26T18:52:10.864712Z",
     "shell.execute_reply": "2024-01-26T18:52:10.863243Z"
    },
    "papermill": {
     "duration": 0.023569,
     "end_time": "2024-01-26T18:52:10.867236",
     "exception": false,
     "start_time": "2024-01-26T18:52:10.843667",
     "status": "completed"
    },
    "tags": []
   },
   "outputs": [],
   "source": [
    "categorical.remove('MaritalStatus')\n",
    "categorical.remove('LastUpdated')\n",
    "categorical.remove('Gender')"
   ]
  },
  {
   "cell_type": "code",
   "execution_count": 26,
   "id": "ace60309",
   "metadata": {
    "execution": {
     "iopub.execute_input": "2024-01-26T18:52:10.896692Z",
     "iopub.status.busy": "2024-01-26T18:52:10.896243Z",
     "iopub.status.idle": "2024-01-26T18:52:15.583802Z",
     "shell.execute_reply": "2024-01-26T18:52:15.582561Z"
    },
    "papermill": {
     "duration": 4.707078,
     "end_time": "2024-01-26T18:52:15.588144",
     "exception": false,
     "start_time": "2024-01-26T18:52:10.881066",
     "status": "completed"
    },
    "tags": []
   },
   "outputs": [],
   "source": [
    "encoded_data = pandas.get_dummies(data,columns=categorical)"
   ]
  },
  {
   "cell_type": "code",
   "execution_count": 27,
   "id": "4340d70a",
   "metadata": {
    "execution": {
     "iopub.execute_input": "2024-01-26T18:52:15.617505Z",
     "iopub.status.busy": "2024-01-26T18:52:15.616461Z",
     "iopub.status.idle": "2024-01-26T18:52:15.644700Z",
     "shell.execute_reply": "2024-01-26T18:52:15.643614Z"
    },
    "papermill": {
     "duration": 0.045256,
     "end_time": "2024-01-26T18:52:15.646830",
     "exception": false,
     "start_time": "2024-01-26T18:52:15.601574",
     "status": "completed"
    },
    "tags": []
   },
   "outputs": [
    {
     "data": {
      "text/html": [
       "<div>\n",
       "<style scoped>\n",
       "    .dataframe tbody tr th:only-of-type {\n",
       "        vertical-align: middle;\n",
       "    }\n",
       "\n",
       "    .dataframe tbody tr th {\n",
       "        vertical-align: top;\n",
       "    }\n",
       "\n",
       "    .dataframe thead th {\n",
       "        text-align: right;\n",
       "    }\n",
       "</style>\n",
       "<table border=\"1\" class=\"dataframe\">\n",
       "  <thead>\n",
       "    <tr style=\"text-align: right;\">\n",
       "      <th></th>\n",
       "      <th>Gender</th>\n",
       "      <th>MaritalStatus</th>\n",
       "      <th>LastUpdated</th>\n",
       "      <th>AvgMonthSpend</th>\n",
       "      <th>CustomerID_11000</th>\n",
       "      <th>CustomerID_11001</th>\n",
       "      <th>CustomerID_11002</th>\n",
       "      <th>CustomerID_11003</th>\n",
       "      <th>CustomerID_11004</th>\n",
       "      <th>CustomerID_11005</th>\n",
       "      <th>...</th>\n",
       "      <th>YearlyIncome_139018</th>\n",
       "      <th>YearlyIncome_139031</th>\n",
       "      <th>YearlyIncome_139032</th>\n",
       "      <th>YearlyIncome_139071</th>\n",
       "      <th>YearlyIncome_139082</th>\n",
       "      <th>YearlyIncome_139099</th>\n",
       "      <th>YearlyIncome_139109</th>\n",
       "      <th>YearlyIncome_139115</th>\n",
       "      <th>BikeBuyer_0</th>\n",
       "      <th>BikeBuyer_1</th>\n",
       "    </tr>\n",
       "  </thead>\n",
       "  <tbody>\n",
       "    <tr>\n",
       "      <th>0</th>\n",
       "      <td>1</td>\n",
       "      <td>1</td>\n",
       "      <td>1</td>\n",
       "      <td>50.97</td>\n",
       "      <td>False</td>\n",
       "      <td>False</td>\n",
       "      <td>False</td>\n",
       "      <td>False</td>\n",
       "      <td>False</td>\n",
       "      <td>False</td>\n",
       "      <td>...</td>\n",
       "      <td>False</td>\n",
       "      <td>False</td>\n",
       "      <td>False</td>\n",
       "      <td>False</td>\n",
       "      <td>False</td>\n",
       "      <td>False</td>\n",
       "      <td>False</td>\n",
       "      <td>False</td>\n",
       "      <td>False</td>\n",
       "      <td>True</td>\n",
       "    </tr>\n",
       "    <tr>\n",
       "      <th>1</th>\n",
       "      <td>1</td>\n",
       "      <td>1</td>\n",
       "      <td>1</td>\n",
       "      <td>53.11</td>\n",
       "      <td>False</td>\n",
       "      <td>False</td>\n",
       "      <td>False</td>\n",
       "      <td>False</td>\n",
       "      <td>False</td>\n",
       "      <td>False</td>\n",
       "      <td>...</td>\n",
       "      <td>False</td>\n",
       "      <td>False</td>\n",
       "      <td>False</td>\n",
       "      <td>False</td>\n",
       "      <td>False</td>\n",
       "      <td>False</td>\n",
       "      <td>False</td>\n",
       "      <td>False</td>\n",
       "      <td>False</td>\n",
       "      <td>True</td>\n",
       "    </tr>\n",
       "    <tr>\n",
       "      <th>2</th>\n",
       "      <td>0</td>\n",
       "      <td>0</td>\n",
       "      <td>1</td>\n",
       "      <td>54.08</td>\n",
       "      <td>False</td>\n",
       "      <td>False</td>\n",
       "      <td>False</td>\n",
       "      <td>False</td>\n",
       "      <td>False</td>\n",
       "      <td>False</td>\n",
       "      <td>...</td>\n",
       "      <td>False</td>\n",
       "      <td>False</td>\n",
       "      <td>False</td>\n",
       "      <td>False</td>\n",
       "      <td>False</td>\n",
       "      <td>False</td>\n",
       "      <td>False</td>\n",
       "      <td>False</td>\n",
       "      <td>False</td>\n",
       "      <td>True</td>\n",
       "    </tr>\n",
       "    <tr>\n",
       "      <th>3</th>\n",
       "      <td>1</td>\n",
       "      <td>1</td>\n",
       "      <td>1</td>\n",
       "      <td>56.93</td>\n",
       "      <td>False</td>\n",
       "      <td>False</td>\n",
       "      <td>False</td>\n",
       "      <td>False</td>\n",
       "      <td>False</td>\n",
       "      <td>False</td>\n",
       "      <td>...</td>\n",
       "      <td>False</td>\n",
       "      <td>False</td>\n",
       "      <td>False</td>\n",
       "      <td>False</td>\n",
       "      <td>False</td>\n",
       "      <td>False</td>\n",
       "      <td>False</td>\n",
       "      <td>False</td>\n",
       "      <td>False</td>\n",
       "      <td>True</td>\n",
       "    </tr>\n",
       "    <tr>\n",
       "      <th>4</th>\n",
       "      <td>1</td>\n",
       "      <td>0</td>\n",
       "      <td>1</td>\n",
       "      <td>55.41</td>\n",
       "      <td>False</td>\n",
       "      <td>False</td>\n",
       "      <td>False</td>\n",
       "      <td>False</td>\n",
       "      <td>False</td>\n",
       "      <td>False</td>\n",
       "      <td>...</td>\n",
       "      <td>False</td>\n",
       "      <td>False</td>\n",
       "      <td>False</td>\n",
       "      <td>False</td>\n",
       "      <td>False</td>\n",
       "      <td>False</td>\n",
       "      <td>False</td>\n",
       "      <td>False</td>\n",
       "      <td>False</td>\n",
       "      <td>True</td>\n",
       "    </tr>\n",
       "  </tbody>\n",
       "</table>\n",
       "<p>5 rows × 65248 columns</p>\n",
       "</div>"
      ],
      "text/plain": [
       "   Gender  MaritalStatus  LastUpdated  AvgMonthSpend  CustomerID_11000  \\\n",
       "0       1              1            1          50.97             False   \n",
       "1       1              1            1          53.11             False   \n",
       "2       0              0            1          54.08             False   \n",
       "3       1              1            1          56.93             False   \n",
       "4       1              0            1          55.41             False   \n",
       "\n",
       "   CustomerID_11001  CustomerID_11002  CustomerID_11003  CustomerID_11004  \\\n",
       "0             False             False             False             False   \n",
       "1             False             False             False             False   \n",
       "2             False             False             False             False   \n",
       "3             False             False             False             False   \n",
       "4             False             False             False             False   \n",
       "\n",
       "   CustomerID_11005  ...  YearlyIncome_139018  YearlyIncome_139031  \\\n",
       "0             False  ...                False                False   \n",
       "1             False  ...                False                False   \n",
       "2             False  ...                False                False   \n",
       "3             False  ...                False                False   \n",
       "4             False  ...                False                False   \n",
       "\n",
       "   YearlyIncome_139032  YearlyIncome_139071  YearlyIncome_139082  \\\n",
       "0                False                False                False   \n",
       "1                False                False                False   \n",
       "2                False                False                False   \n",
       "3                False                False                False   \n",
       "4                False                False                False   \n",
       "\n",
       "   YearlyIncome_139099  YearlyIncome_139109  YearlyIncome_139115  BikeBuyer_0  \\\n",
       "0                False                False                False        False   \n",
       "1                False                False                False        False   \n",
       "2                False                False                False        False   \n",
       "3                False                False                False        False   \n",
       "4                False                False                False        False   \n",
       "\n",
       "   BikeBuyer_1  \n",
       "0         True  \n",
       "1         True  \n",
       "2         True  \n",
       "3         True  \n",
       "4         True  \n",
       "\n",
       "[5 rows x 65248 columns]"
      ]
     },
     "execution_count": 27,
     "metadata": {},
     "output_type": "execute_result"
    }
   ],
   "source": [
    "encoded_data.head()"
   ]
  },
  {
   "cell_type": "code",
   "execution_count": 28,
   "id": "2b351289",
   "metadata": {
    "execution": {
     "iopub.execute_input": "2024-01-26T18:52:15.676348Z",
     "iopub.status.busy": "2024-01-26T18:52:15.675887Z",
     "iopub.status.idle": "2024-01-26T18:52:15.686379Z",
     "shell.execute_reply": "2024-01-26T18:52:15.685426Z"
    },
    "papermill": {
     "duration": 0.02779,
     "end_time": "2024-01-26T18:52:15.688535",
     "exception": false,
     "start_time": "2024-01-26T18:52:15.660745",
     "status": "completed"
    },
    "tags": []
   },
   "outputs": [
    {
     "data": {
      "text/plain": [
       "array([dtype('int64'), dtype('float64'), dtype('bool')], dtype=object)"
      ]
     },
     "execution_count": 28,
     "metadata": {},
     "output_type": "execute_result"
    }
   ],
   "source": [
    "# we are now left with the following data types in our dataframe\n",
    "\n",
    "encoded_data.dtypes.unique()"
   ]
  },
  {
   "cell_type": "markdown",
   "id": "8e200110",
   "metadata": {
    "papermill": {
     "duration": 0.013523,
     "end_time": "2024-01-26T18:52:15.716439",
     "exception": false,
     "start_time": "2024-01-26T18:52:15.702916",
     "status": "completed"
    },
    "tags": []
   },
   "source": [
    "### Applying binning methods to continous and categorical data types to reduce noise in data"
   ]
  },
  {
   "cell_type": "code",
   "execution_count": 29,
   "id": "d58dfae8",
   "metadata": {
    "execution": {
     "iopub.execute_input": "2024-01-26T18:52:15.745617Z",
     "iopub.status.busy": "2024-01-26T18:52:15.745166Z",
     "iopub.status.idle": "2024-01-26T18:52:15.764819Z",
     "shell.execute_reply": "2024-01-26T18:52:15.763981Z"
    },
    "papermill": {
     "duration": 0.037205,
     "end_time": "2024-01-26T18:52:15.767339",
     "exception": false,
     "start_time": "2024-01-26T18:52:15.730134",
     "status": "completed"
    },
    "tags": []
   },
   "outputs": [
    {
     "ename": "KeyError",
     "evalue": "'YearlyIncome'",
     "output_type": "error",
     "traceback": [
      "\u001b[1;31m---------------------------------------------------------------------------\u001b[0m",
      "\u001b[1;31mKeyError\u001b[0m                                  Traceback (most recent call last)",
      "File \u001b[1;32mc:\\Users\\sksag\\AppData\\Local\\Programs\\Python\\Python311\\Lib\\site-packages\\pandas\\core\\indexes\\base.py:3653\u001b[0m, in \u001b[0;36mIndex.get_loc\u001b[1;34m(self, key)\u001b[0m\n\u001b[0;32m   3652\u001b[0m \u001b[38;5;28;01mtry\u001b[39;00m:\n\u001b[1;32m-> 3653\u001b[0m     \u001b[38;5;28;01mreturn\u001b[39;00m \u001b[38;5;28;43mself\u001b[39;49m\u001b[38;5;241;43m.\u001b[39;49m\u001b[43m_engine\u001b[49m\u001b[38;5;241;43m.\u001b[39;49m\u001b[43mget_loc\u001b[49m\u001b[43m(\u001b[49m\u001b[43mcasted_key\u001b[49m\u001b[43m)\u001b[49m\n\u001b[0;32m   3654\u001b[0m \u001b[38;5;28;01mexcept\u001b[39;00m \u001b[38;5;167;01mKeyError\u001b[39;00m \u001b[38;5;28;01mas\u001b[39;00m err:\n",
      "File \u001b[1;32mc:\\Users\\sksag\\AppData\\Local\\Programs\\Python\\Python311\\Lib\\site-packages\\pandas\\_libs\\index.pyx:147\u001b[0m, in \u001b[0;36mpandas._libs.index.IndexEngine.get_loc\u001b[1;34m()\u001b[0m\n",
      "File \u001b[1;32mc:\\Users\\sksag\\AppData\\Local\\Programs\\Python\\Python311\\Lib\\site-packages\\pandas\\_libs\\index.pyx:176\u001b[0m, in \u001b[0;36mpandas._libs.index.IndexEngine.get_loc\u001b[1;34m()\u001b[0m\n",
      "File \u001b[1;32mpandas\\_libs\\hashtable_class_helper.pxi:7080\u001b[0m, in \u001b[0;36mpandas._libs.hashtable.PyObjectHashTable.get_item\u001b[1;34m()\u001b[0m\n",
      "File \u001b[1;32mpandas\\_libs\\hashtable_class_helper.pxi:7088\u001b[0m, in \u001b[0;36mpandas._libs.hashtable.PyObjectHashTable.get_item\u001b[1;34m()\u001b[0m\n",
      "\u001b[1;31mKeyError\u001b[0m: 'YearlyIncome'",
      "\nThe above exception was the direct cause of the following exception:\n",
      "\u001b[1;31mKeyError\u001b[0m                                  Traceback (most recent call last)",
      "Cell \u001b[1;32mIn[29], line 3\u001b[0m\n\u001b[0;32m      1\u001b[0m \u001b[38;5;66;03m# Yearly income and AvgMonthlyIncome are 2 features with high variance, which require binning\u001b[39;00m\n\u001b[0;32m      2\u001b[0m \u001b[38;5;66;03m# methods\u001b[39;00m\n\u001b[1;32m----> 3\u001b[0m encoded_data[\u001b[38;5;124m'\u001b[39m\u001b[38;5;124mYearlyIncome\u001b[39m\u001b[38;5;124m'\u001b[39m] \u001b[38;5;241m=\u001b[39m pandas\u001b[38;5;241m.\u001b[39mcut(\u001b[43mencoded_data\u001b[49m\u001b[43m[\u001b[49m\u001b[38;5;124;43m'\u001b[39;49m\u001b[38;5;124;43mYearlyIncome\u001b[39;49m\u001b[38;5;124;43m'\u001b[39;49m\u001b[43m]\u001b[49m,bins\u001b[38;5;241m=\u001b[39m\u001b[38;5;241m5\u001b[39m)\u001b[38;5;241m.\u001b[39mapply(\u001b[38;5;28;01mlambda\u001b[39;00m x : (x\u001b[38;5;241m.\u001b[39mleft\u001b[38;5;241m+\u001b[39mx\u001b[38;5;241m.\u001b[39mright)\u001b[38;5;241m/\u001b[39m\u001b[38;5;241m2.0\u001b[39m)\n\u001b[0;32m      4\u001b[0m encoded_data[\u001b[38;5;124m'\u001b[39m\u001b[38;5;124mAvgMonthSpend\u001b[39m\u001b[38;5;124m'\u001b[39m] \u001b[38;5;241m=\u001b[39m pandas\u001b[38;5;241m.\u001b[39mcut(encoded_data[\u001b[38;5;124m'\u001b[39m\u001b[38;5;124mAvgMonthSpend\u001b[39m\u001b[38;5;124m'\u001b[39m],bins\u001b[38;5;241m=\u001b[39m\u001b[38;5;241m5\u001b[39m)\u001b[38;5;241m.\u001b[39mapply(\u001b[38;5;28;01mlambda\u001b[39;00m x : (x\u001b[38;5;241m.\u001b[39mleft\u001b[38;5;241m+\u001b[39mx\u001b[38;5;241m.\u001b[39mright)\u001b[38;5;241m/\u001b[39m\u001b[38;5;241m2.0\u001b[39m)\n",
      "File \u001b[1;32mc:\\Users\\sksag\\AppData\\Local\\Programs\\Python\\Python311\\Lib\\site-packages\\pandas\\core\\frame.py:3761\u001b[0m, in \u001b[0;36mDataFrame.__getitem__\u001b[1;34m(self, key)\u001b[0m\n\u001b[0;32m   3759\u001b[0m \u001b[38;5;28;01mif\u001b[39;00m \u001b[38;5;28mself\u001b[39m\u001b[38;5;241m.\u001b[39mcolumns\u001b[38;5;241m.\u001b[39mnlevels \u001b[38;5;241m>\u001b[39m \u001b[38;5;241m1\u001b[39m:\n\u001b[0;32m   3760\u001b[0m     \u001b[38;5;28;01mreturn\u001b[39;00m \u001b[38;5;28mself\u001b[39m\u001b[38;5;241m.\u001b[39m_getitem_multilevel(key)\n\u001b[1;32m-> 3761\u001b[0m indexer \u001b[38;5;241m=\u001b[39m \u001b[38;5;28;43mself\u001b[39;49m\u001b[38;5;241;43m.\u001b[39;49m\u001b[43mcolumns\u001b[49m\u001b[38;5;241;43m.\u001b[39;49m\u001b[43mget_loc\u001b[49m\u001b[43m(\u001b[49m\u001b[43mkey\u001b[49m\u001b[43m)\u001b[49m\n\u001b[0;32m   3762\u001b[0m \u001b[38;5;28;01mif\u001b[39;00m is_integer(indexer):\n\u001b[0;32m   3763\u001b[0m     indexer \u001b[38;5;241m=\u001b[39m [indexer]\n",
      "File \u001b[1;32mc:\\Users\\sksag\\AppData\\Local\\Programs\\Python\\Python311\\Lib\\site-packages\\pandas\\core\\indexes\\base.py:3655\u001b[0m, in \u001b[0;36mIndex.get_loc\u001b[1;34m(self, key)\u001b[0m\n\u001b[0;32m   3653\u001b[0m     \u001b[38;5;28;01mreturn\u001b[39;00m \u001b[38;5;28mself\u001b[39m\u001b[38;5;241m.\u001b[39m_engine\u001b[38;5;241m.\u001b[39mget_loc(casted_key)\n\u001b[0;32m   3654\u001b[0m \u001b[38;5;28;01mexcept\u001b[39;00m \u001b[38;5;167;01mKeyError\u001b[39;00m \u001b[38;5;28;01mas\u001b[39;00m err:\n\u001b[1;32m-> 3655\u001b[0m     \u001b[38;5;28;01mraise\u001b[39;00m \u001b[38;5;167;01mKeyError\u001b[39;00m(key) \u001b[38;5;28;01mfrom\u001b[39;00m \u001b[38;5;21;01merr\u001b[39;00m\n\u001b[0;32m   3656\u001b[0m \u001b[38;5;28;01mexcept\u001b[39;00m \u001b[38;5;167;01mTypeError\u001b[39;00m:\n\u001b[0;32m   3657\u001b[0m     \u001b[38;5;66;03m# If we have a listlike key, _check_indexing_error will raise\u001b[39;00m\n\u001b[0;32m   3658\u001b[0m     \u001b[38;5;66;03m#  InvalidIndexError. Otherwise we fall through and re-raise\u001b[39;00m\n\u001b[0;32m   3659\u001b[0m     \u001b[38;5;66;03m#  the TypeError.\u001b[39;00m\n\u001b[0;32m   3660\u001b[0m     \u001b[38;5;28mself\u001b[39m\u001b[38;5;241m.\u001b[39m_check_indexing_error(key)\n",
      "\u001b[1;31mKeyError\u001b[0m: 'YearlyIncome'"
     ]
    }
   ],
   "source": [
    "# Yearly income and AvgMonthlyIncome are 2 features with high variance, which require binning\n",
    "# methods\n",
    "encoded_data['YearlyIncome'] = pandas.cut(encoded_data['YearlyIncome'],bins=5).apply(lambda x : (x.left+x.right)/2.0)\n",
    "encoded_data['AvgMonthSpend'] = pandas.cut(encoded_data['AvgMonthSpend'],bins=5).apply(lambda x : (x.left+x.right)/2.0)"
   ]
  },
  {
   "cell_type": "code",
   "execution_count": null,
   "id": "6798f557",
   "metadata": {
    "execution": {
     "iopub.execute_input": "2024-01-26T18:52:15.797471Z",
     "iopub.status.busy": "2024-01-26T18:52:15.797046Z",
     "iopub.status.idle": "2024-01-26T18:52:15.805868Z",
     "shell.execute_reply": "2024-01-26T18:52:15.804739Z"
    },
    "papermill": {
     "duration": 0.02648,
     "end_time": "2024-01-26T18:52:15.808000",
     "exception": false,
     "start_time": "2024-01-26T18:52:15.781520",
     "status": "completed"
    },
    "tags": []
   },
   "outputs": [
    {
     "data": {
      "text/plain": [
       "0        50.97\n",
       "1        53.11\n",
       "2        54.08\n",
       "3        56.93\n",
       "4        55.41\n",
       "         ...  \n",
       "18356    48.14\n",
       "18357    50.23\n",
       "18358    49.56\n",
       "18359    51.42\n",
       "18360    52.27\n",
       "Name: AvgMonthSpend, Length: 18361, dtype: float64"
      ]
     },
     "execution_count": 62,
     "metadata": {},
     "output_type": "execute_result"
    }
   ],
   "source": [
    "data['AvgMonthSpend']"
   ]
  },
  {
   "cell_type": "code",
   "execution_count": null,
   "id": "f9d7b958",
   "metadata": {
    "execution": {
     "iopub.execute_input": "2024-01-26T18:52:15.838039Z",
     "iopub.status.busy": "2024-01-26T18:52:15.837565Z",
     "iopub.status.idle": "2024-01-26T18:52:15.863363Z",
     "shell.execute_reply": "2024-01-26T18:52:15.862234Z"
    },
    "papermill": {
     "duration": 0.044142,
     "end_time": "2024-01-26T18:52:15.866368",
     "exception": false,
     "start_time": "2024-01-26T18:52:15.822226",
     "status": "completed"
    },
    "tags": []
   },
   "outputs": [
    {
     "data": {
      "text/html": [
       "<div>\n",
       "<style scoped>\n",
       "    .dataframe tbody tr th:only-of-type {\n",
       "        vertical-align: middle;\n",
       "    }\n",
       "\n",
       "    .dataframe tbody tr th {\n",
       "        vertical-align: top;\n",
       "    }\n",
       "\n",
       "    .dataframe thead th {\n",
       "        text-align: right;\n",
       "    }\n",
       "</style>\n",
       "<table border=\"1\" class=\"dataframe\">\n",
       "  <thead>\n",
       "    <tr style=\"text-align: right;\">\n",
       "      <th></th>\n",
       "      <th>CustomerID</th>\n",
       "      <th>Gender</th>\n",
       "      <th>MaritalStatus</th>\n",
       "      <th>HomeOwnerFlag</th>\n",
       "      <th>NumberCarsOwned</th>\n",
       "      <th>NumberChildrenAtHome</th>\n",
       "      <th>TotalChildren</th>\n",
       "      <th>YearlyIncome</th>\n",
       "      <th>LastUpdated</th>\n",
       "      <th>BikeBuyer</th>\n",
       "      <th>...</th>\n",
       "      <th>Education_Bachelors</th>\n",
       "      <th>Education_Graduate Degree</th>\n",
       "      <th>Education_High School</th>\n",
       "      <th>Education_Partial College</th>\n",
       "      <th>Education_Partial High School</th>\n",
       "      <th>Occupation_Clerical</th>\n",
       "      <th>Occupation_Management</th>\n",
       "      <th>Occupation_Manual</th>\n",
       "      <th>Occupation_Professional</th>\n",
       "      <th>Occupation_Skilled Manual</th>\n",
       "    </tr>\n",
       "  </thead>\n",
       "  <tbody>\n",
       "    <tr>\n",
       "      <th>0</th>\n",
       "      <td>21173</td>\n",
       "      <td>1</td>\n",
       "      <td>1</td>\n",
       "      <td>1</td>\n",
       "      <td>3</td>\n",
       "      <td>0</td>\n",
       "      <td>1</td>\n",
       "      <td>82275.0</td>\n",
       "      <td>1</td>\n",
       "      <td>1</td>\n",
       "      <td>...</td>\n",
       "      <td>True</td>\n",
       "      <td>False</td>\n",
       "      <td>False</td>\n",
       "      <td>False</td>\n",
       "      <td>False</td>\n",
       "      <td>True</td>\n",
       "      <td>False</td>\n",
       "      <td>False</td>\n",
       "      <td>False</td>\n",
       "      <td>False</td>\n",
       "    </tr>\n",
       "    <tr>\n",
       "      <th>1</th>\n",
       "      <td>13249</td>\n",
       "      <td>1</td>\n",
       "      <td>1</td>\n",
       "      <td>1</td>\n",
       "      <td>2</td>\n",
       "      <td>1</td>\n",
       "      <td>2</td>\n",
       "      <td>82275.0</td>\n",
       "      <td>1</td>\n",
       "      <td>1</td>\n",
       "      <td>...</td>\n",
       "      <td>False</td>\n",
       "      <td>False</td>\n",
       "      <td>False</td>\n",
       "      <td>True</td>\n",
       "      <td>False</td>\n",
       "      <td>True</td>\n",
       "      <td>False</td>\n",
       "      <td>False</td>\n",
       "      <td>False</td>\n",
       "      <td>False</td>\n",
       "    </tr>\n",
       "    <tr>\n",
       "      <th>2</th>\n",
       "      <td>29350</td>\n",
       "      <td>0</td>\n",
       "      <td>0</td>\n",
       "      <td>0</td>\n",
       "      <td>3</td>\n",
       "      <td>0</td>\n",
       "      <td>0</td>\n",
       "      <td>82275.0</td>\n",
       "      <td>1</td>\n",
       "      <td>1</td>\n",
       "      <td>...</td>\n",
       "      <td>True</td>\n",
       "      <td>False</td>\n",
       "      <td>False</td>\n",
       "      <td>False</td>\n",
       "      <td>False</td>\n",
       "      <td>True</td>\n",
       "      <td>False</td>\n",
       "      <td>False</td>\n",
       "      <td>False</td>\n",
       "      <td>False</td>\n",
       "    </tr>\n",
       "    <tr>\n",
       "      <th>3</th>\n",
       "      <td>13503</td>\n",
       "      <td>1</td>\n",
       "      <td>1</td>\n",
       "      <td>1</td>\n",
       "      <td>2</td>\n",
       "      <td>1</td>\n",
       "      <td>2</td>\n",
       "      <td>59539.0</td>\n",
       "      <td>1</td>\n",
       "      <td>1</td>\n",
       "      <td>...</td>\n",
       "      <td>False</td>\n",
       "      <td>False</td>\n",
       "      <td>False</td>\n",
       "      <td>True</td>\n",
       "      <td>False</td>\n",
       "      <td>False</td>\n",
       "      <td>False</td>\n",
       "      <td>False</td>\n",
       "      <td>False</td>\n",
       "      <td>True</td>\n",
       "    </tr>\n",
       "    <tr>\n",
       "      <th>4</th>\n",
       "      <td>22803</td>\n",
       "      <td>1</td>\n",
       "      <td>0</td>\n",
       "      <td>1</td>\n",
       "      <td>1</td>\n",
       "      <td>0</td>\n",
       "      <td>0</td>\n",
       "      <td>59539.0</td>\n",
       "      <td>1</td>\n",
       "      <td>1</td>\n",
       "      <td>...</td>\n",
       "      <td>False</td>\n",
       "      <td>False</td>\n",
       "      <td>False</td>\n",
       "      <td>True</td>\n",
       "      <td>False</td>\n",
       "      <td>False</td>\n",
       "      <td>False</td>\n",
       "      <td>False</td>\n",
       "      <td>False</td>\n",
       "      <td>True</td>\n",
       "    </tr>\n",
       "  </tbody>\n",
       "</table>\n",
       "<p>5 rows × 31526 columns</p>\n",
       "</div>"
      ],
      "text/plain": [
       "   CustomerID  Gender  MaritalStatus  HomeOwnerFlag  NumberCarsOwned  \\\n",
       "0       21173       1              1              1                3   \n",
       "1       13249       1              1              1                2   \n",
       "2       29350       0              0              0                3   \n",
       "3       13503       1              1              1                2   \n",
       "4       22803       1              0              1                1   \n",
       "\n",
       "   NumberChildrenAtHome  TotalChildren YearlyIncome  LastUpdated  BikeBuyer  \\\n",
       "0                     0              1      82275.0            1          1   \n",
       "1                     1              2      82275.0            1          1   \n",
       "2                     0              0      82275.0            1          1   \n",
       "3                     1              2      59539.0            1          1   \n",
       "4                     0              0      59539.0            1          1   \n",
       "\n",
       "   ... Education_Bachelors  Education_Graduate Degree  Education_High School  \\\n",
       "0  ...                True                      False                  False   \n",
       "1  ...               False                      False                  False   \n",
       "2  ...                True                      False                  False   \n",
       "3  ...               False                      False                  False   \n",
       "4  ...               False                      False                  False   \n",
       "\n",
       "   Education_Partial College  Education_Partial High School  \\\n",
       "0                      False                          False   \n",
       "1                       True                          False   \n",
       "2                      False                          False   \n",
       "3                       True                          False   \n",
       "4                       True                          False   \n",
       "\n",
       "   Occupation_Clerical  Occupation_Management  Occupation_Manual  \\\n",
       "0                 True                  False              False   \n",
       "1                 True                  False              False   \n",
       "2                 True                  False              False   \n",
       "3                False                  False              False   \n",
       "4                False                  False              False   \n",
       "\n",
       "   Occupation_Professional  Occupation_Skilled Manual  \n",
       "0                    False                      False  \n",
       "1                    False                      False  \n",
       "2                    False                      False  \n",
       "3                    False                       True  \n",
       "4                    False                       True  \n",
       "\n",
       "[5 rows x 31526 columns]"
      ]
     },
     "execution_count": 63,
     "metadata": {},
     "output_type": "execute_result"
    }
   ],
   "source": [
    "encoded_data.head()"
   ]
  },
  {
   "cell_type": "markdown",
   "id": "737dcd62",
   "metadata": {
    "papermill": {
     "duration": 0.014062,
     "end_time": "2024-01-26T18:52:15.895551",
     "exception": false,
     "start_time": "2024-01-26T18:52:15.881489",
     "status": "completed"
    },
    "tags": []
   },
   "source": [
    "## Normalisation of data"
   ]
  },
  {
   "cell_type": "code",
   "execution_count": null,
   "id": "5448301a",
   "metadata": {
    "execution": {
     "iopub.execute_input": "2024-01-26T18:52:15.926739Z",
     "iopub.status.busy": "2024-01-26T18:52:15.925795Z",
     "iopub.status.idle": "2024-01-26T18:52:16.974303Z",
     "shell.execute_reply": "2024-01-26T18:52:16.973229Z"
    },
    "papermill": {
     "duration": 1.067159,
     "end_time": "2024-01-26T18:52:16.977050",
     "exception": false,
     "start_time": "2024-01-26T18:52:15.909891",
     "status": "completed"
    },
    "tags": []
   },
   "outputs": [],
   "source": [
    "from sklearn.preprocessing import MinMaxScaler\n",
    "\n",
    "scaler = MinMaxScaler()"
   ]
  },
  {
   "cell_type": "code",
   "execution_count": null,
   "id": "183c876b",
   "metadata": {
    "execution": {
     "iopub.execute_input": "2024-01-26T18:52:17.009980Z",
     "iopub.status.busy": "2024-01-26T18:52:17.009508Z",
     "iopub.status.idle": "2024-01-26T18:52:17.018222Z",
     "shell.execute_reply": "2024-01-26T18:52:17.017363Z"
    },
    "papermill": {
     "duration": 0.027542,
     "end_time": "2024-01-26T18:52:17.020326",
     "exception": false,
     "start_time": "2024-01-26T18:52:16.992784",
     "status": "completed"
    },
    "tags": []
   },
   "outputs": [],
   "source": [
    "income = scaler.fit_transform(encoded_data['YearlyIncome'].values.reshape(-1,1))\n",
    "monthly_spend = scaler.fit_transform(encoded_data['AvgMonthSpend'].values.reshape(-1,1))"
   ]
  },
  {
   "cell_type": "code",
   "execution_count": null,
   "id": "b951eecd",
   "metadata": {
    "execution": {
     "iopub.execute_input": "2024-01-26T18:52:17.052209Z",
     "iopub.status.busy": "2024-01-26T18:52:17.051031Z",
     "iopub.status.idle": "2024-01-26T18:52:50.881611Z",
     "shell.execute_reply": "2024-01-26T18:52:50.880210Z"
    },
    "papermill": {
     "duration": 33.849645,
     "end_time": "2024-01-26T18:52:50.884818",
     "exception": false,
     "start_time": "2024-01-26T18:52:17.035173",
     "status": "completed"
    },
    "tags": []
   },
   "outputs": [],
   "source": [
    "data = scaler.fit_transform(encoded_data)"
   ]
  },
  {
   "cell_type": "code",
   "execution_count": null,
   "id": "1f74dfc9",
   "metadata": {
    "execution": {
     "iopub.execute_input": "2024-01-26T18:52:50.916434Z",
     "iopub.status.busy": "2024-01-26T18:52:50.915928Z",
     "iopub.status.idle": "2024-01-26T18:52:50.921294Z",
     "shell.execute_reply": "2024-01-26T18:52:50.920166Z"
    },
    "papermill": {
     "duration": 0.023876,
     "end_time": "2024-01-26T18:52:50.923568",
     "exception": false,
     "start_time": "2024-01-26T18:52:50.899692",
     "status": "completed"
    },
    "tags": []
   },
   "outputs": [],
   "source": [
    "data = pandas.DataFrame(data)"
   ]
  },
  {
   "cell_type": "markdown",
   "id": "49a59b33",
   "metadata": {
    "papermill": {
     "duration": 0.013872,
     "end_time": "2024-01-26T18:52:50.951988",
     "exception": false,
     "start_time": "2024-01-26T18:52:50.938116",
     "status": "completed"
    },
    "tags": []
   },
   "source": [
    "## Calculating similarity between yearly income and average monthly spend"
   ]
  },
  {
   "cell_type": "code",
   "execution_count": null,
   "id": "387e5b3c",
   "metadata": {
    "execution": {
     "iopub.execute_input": "2024-01-26T18:52:50.983780Z",
     "iopub.status.busy": "2024-01-26T18:52:50.982843Z",
     "iopub.status.idle": "2024-01-26T18:52:50.987996Z",
     "shell.execute_reply": "2024-01-26T18:52:50.987270Z"
    },
    "papermill": {
     "duration": 0.02377,
     "end_time": "2024-01-26T18:52:50.990035",
     "exception": false,
     "start_time": "2024-01-26T18:52:50.966265",
     "status": "completed"
    },
    "tags": []
   },
   "outputs": [],
   "source": [
    "income = pandas.Series(income.flatten())\n",
    "monthly_spend = pandas.Series(monthly_spend.flatten())"
   ]
  },
  {
   "cell_type": "code",
   "execution_count": null,
   "id": "808185bb",
   "metadata": {
    "execution": {
     "iopub.execute_input": "2024-01-26T18:52:51.022124Z",
     "iopub.status.busy": "2024-01-26T18:52:51.020870Z",
     "iopub.status.idle": "2024-01-26T18:52:51.027032Z",
     "shell.execute_reply": "2024-01-26T18:52:51.026018Z"
    },
    "papermill": {
     "duration": 0.024749,
     "end_time": "2024-01-26T18:52:51.029478",
     "exception": false,
     "start_time": "2024-01-26T18:52:51.004729",
     "status": "completed"
    },
    "tags": []
   },
   "outputs": [],
   "source": [
    "#simple matching similarity\n",
    "\n",
    "SMS = numpy.sum(income==monthly_spend)/(len(income))"
   ]
  },
  {
   "cell_type": "code",
   "execution_count": null,
   "id": "2115b420",
   "metadata": {
    "execution": {
     "iopub.execute_input": "2024-01-26T18:52:51.061824Z",
     "iopub.status.busy": "2024-01-26T18:52:51.061341Z",
     "iopub.status.idle": "2024-01-26T18:52:51.068031Z",
     "shell.execute_reply": "2024-01-26T18:52:51.067022Z"
    },
    "papermill": {
     "duration": 0.025189,
     "end_time": "2024-01-26T18:52:51.070143",
     "exception": false,
     "start_time": "2024-01-26T18:52:51.044954",
     "status": "completed"
    },
    "tags": []
   },
   "outputs": [],
   "source": [
    "SMS"
   ]
  },
  {
   "cell_type": "code",
   "execution_count": null,
   "id": "a1d99850",
   "metadata": {
    "execution": {
     "iopub.execute_input": "2024-01-26T18:52:51.101626Z",
     "iopub.status.busy": "2024-01-26T18:52:51.100818Z",
     "iopub.status.idle": "2024-01-26T18:52:51.116465Z",
     "shell.execute_reply": "2024-01-26T18:52:51.115274Z"
    },
    "papermill": {
     "duration": 0.034398,
     "end_time": "2024-01-26T18:52:51.119192",
     "exception": false,
     "start_time": "2024-01-26T18:52:51.084794",
     "status": "completed"
    },
    "tags": []
   },
   "outputs": [],
   "source": [
    "# Jaccard similarity\n",
    "\n",
    "JS = len(set((income)).intersection(monthly_spend))/(len(set(income).union(monthly_spend)))"
   ]
  },
  {
   "cell_type": "code",
   "execution_count": null,
   "id": "1dfba5a8",
   "metadata": {
    "execution": {
     "iopub.execute_input": "2024-01-26T18:52:51.151863Z",
     "iopub.status.busy": "2024-01-26T18:52:51.150987Z",
     "iopub.status.idle": "2024-01-26T18:52:51.157312Z",
     "shell.execute_reply": "2024-01-26T18:52:51.156377Z"
    },
    "papermill": {
     "duration": 0.02499,
     "end_time": "2024-01-26T18:52:51.159481",
     "exception": false,
     "start_time": "2024-01-26T18:52:51.134491",
     "status": "completed"
    },
    "tags": []
   },
   "outputs": [],
   "source": [
    "JS"
   ]
  },
  {
   "cell_type": "code",
   "execution_count": null,
   "id": "dedb219d",
   "metadata": {
    "execution": {
     "iopub.execute_input": "2024-01-26T18:52:51.191134Z",
     "iopub.status.busy": "2024-01-26T18:52:51.190614Z",
     "iopub.status.idle": "2024-01-26T18:52:51.201085Z",
     "shell.execute_reply": "2024-01-26T18:52:51.199631Z"
    },
    "papermill": {
     "duration": 0.030731,
     "end_time": "2024-01-26T18:52:51.204689",
     "exception": false,
     "start_time": "2024-01-26T18:52:51.173958",
     "status": "completed"
    },
    "tags": []
   },
   "outputs": [],
   "source": [
    "#cosine similarity\n",
    "\n",
    "def cosine_similarity(a,b):\n",
    "    return numpy.dot(a,b)/(numpy.linalg.norm(a)*numpy.linalg.norm(b))\n",
    "\n",
    "CS = cosine_similarity(income,monthly_spend)"
   ]
  },
  {
   "cell_type": "markdown",
   "id": "f9716b8c",
   "metadata": {
    "papermill": {
     "duration": 0.02427,
     "end_time": "2024-01-26T18:52:51.254266",
     "exception": false,
     "start_time": "2024-01-26T18:52:51.229996",
     "status": "completed"
    },
    "tags": []
   },
   "source": []
  },
  {
   "cell_type": "code",
   "execution_count": null,
   "id": "34b8614f",
   "metadata": {
    "execution": {
     "iopub.execute_input": "2024-01-26T18:52:51.306298Z",
     "iopub.status.busy": "2024-01-26T18:52:51.305616Z",
     "iopub.status.idle": "2024-01-26T18:52:51.313857Z",
     "shell.execute_reply": "2024-01-26T18:52:51.312731Z"
    },
    "papermill": {
     "duration": 0.041459,
     "end_time": "2024-01-26T18:52:51.320114",
     "exception": false,
     "start_time": "2024-01-26T18:52:51.278655",
     "status": "completed"
    },
    "tags": []
   },
   "outputs": [
    {
     "ename": "NameError",
     "evalue": "name 'CS' is not defined",
     "output_type": "error",
     "traceback": [
      "\u001b[1;31m---------------------------------------------------------------------------\u001b[0m",
      "\u001b[1;31mNameError\u001b[0m                                 Traceback (most recent call last)",
      "Cell \u001b[1;32mIn[1], line 1\u001b[0m\n\u001b[1;32m----> 1\u001b[0m \u001b[43mCS\u001b[49m\n",
      "\u001b[1;31mNameError\u001b[0m: name 'CS' is not defined"
     ]
    }
   ],
   "source": [
    "CS"
   ]
  }
 ],
 "metadata": {
  "kaggle": {
   "accelerator": "none",
   "dataSources": [
    {
     "datasetId": 28601,
     "sourceId": 36449,
     "sourceType": "datasetVersion"
    }
   ],
   "dockerImageVersionId": 30635,
   "isGpuEnabled": false,
   "isInternetEnabled": true,
   "language": "python",
   "sourceType": "notebook"
  },
  "kernelspec": {
   "display_name": "Python 3",
   "language": "python",
   "name": "python3"
  },
  "language_info": {
   "codemirror_mode": {
    "name": "ipython",
    "version": 3
   },
   "file_extension": ".py",
   "mimetype": "text/x-python",
   "name": "python",
   "nbconvert_exporter": "python",
   "pygments_lexer": "ipython3",
   "version": "3.11.0"
  },
  "papermill": {
   "default_parameters": {},
   "duration": 47.533814,
   "end_time": "2024-01-26T18:52:52.160756",
   "environment_variables": {},
   "exception": null,
   "input_path": "__notebook__.ipynb",
   "output_path": "__notebook__.ipynb",
   "parameters": {},
   "start_time": "2024-01-26T18:52:04.626942",
   "version": "2.4.0"
  }
 },
 "nbformat": 4,
 "nbformat_minor": 5
}
