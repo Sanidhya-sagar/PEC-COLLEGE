{
 "cells": [
  {
   "cell_type": "markdown",
   "metadata": {},
   "source": [
    "# DAIR ASSIGNMENT VI\n",
    "\n",
    "Name:     Sanidhya \\\n",
    "SID:    22106024 \\\n",
    "Branch: Computer Science Engineering (Data Science)"
   ]
  },
  {
   "cell_type": "code",
   "execution_count": 1,
   "metadata": {},
   "outputs": [],
   "source": [
    "import sqlite3"
   ]
  },
  {
   "cell_type": "markdown",
   "metadata": {},
   "source": [
    "## Scenario 1:\n",
    "### Let's consider a scenario where we have information about employees in a company. Each employee belongs to a department, and each department is located in a particular city. Employees have unique IDs, names, and salaries. Departments have unique IDs and names. Cities have unique IDs and names."
   ]
  },
  {
   "cell_type": "markdown",
   "metadata": {},
   "source": [
    "1. First Normal Form (1NF):\n",
    " All columns already contain atomic values, so it's already in 1NF.\n",
    "\n",
    "2. Second Normal Form (2NF):\n",
    " In 2NF, we need to ensure that there are no partial dependencies.\n",
    " In the current table, there's no composite primary key, so there's no partial dependency.\n",
    "\n",
    "3. Third Normal Form (3NF):\n",
    " In 3NF, we need to ensure there are no transitive dependencies. \n",
    " \n",
    "Normalized Tables:\n",
    "\n",
    "Employees Table:\n",
    "EmployeeID\t,EmployeeName\t,Salary\t,DepartmentID\n",
    " 1\t          John\t        50000\t    101\n",
    " 2\t          Alice\t        60000\t    102\n",
    " 3\t          Bob\t        55000\t    101\n",
    " 4\t          Sarah\t        58000\t    103\n",
    "\n",
    "Departments ,Table:\n",
    "DepartmentID\tDepartmentName\n",
    " 101\t                IT\n",
    " 102\t                HR\n",
    " 103\t                Finance\n",
    "\n",
    "Cities Table:\n",
    "CityID\t,CityName\n",
    " 201\t     New York\n",
    " 202\t     Los Angeles\n",
    " 203\t     Chicago"
   ]
  },
  {
   "cell_type": "markdown",
   "metadata": {},
   "source": [
    "## Scenario 2:\n",
    "### Consider a database schema for an online retail store. The database contains several tables including Customers, Orders, Products, and Order_Items. The schema is as follows:"
   ]
  },
  {
   "cell_type": "code",
   "execution_count": 2,
   "metadata": {},
   "outputs": [],
   "source": [
    "connection = sqlite3.connect(\"retailStore.db\")\n",
    "\n",
    "cursor = connection.cursor()\n",
    "\n",
    "cursor.execute('''CREATE TABLE IF NOT EXISTS customers(\n",
    "customer_id INT PRIMARY KEY,\n",
    "customer_name TEXT NOT NULL,\n",
    "email EMAIL,\n",
    "phone INT NOT NULL\n",
    ")''')\n",
    "\n",
    "cursor.execute('''CREATE TABLE IF NOT EXISTS products(\n",
    "product_id INT PRIMARY KEY,\n",
    "product_name TEXT,\n",
    "price INT,\n",
    "stock_quatity INT\n",
    ")''')\n",
    "\n",
    "cursor.execute('''CREATE TABLE IF NOT EXISTS orders(\n",
    "order_id PRIMARY KEY,\n",
    "customer_id INT,\n",
    "order_date DATE,\n",
    "total_amount INT,\n",
    "FOREIGN KEY (customer_id) REFERENCES customers(customer_id)\n",
    ")''')\n",
    "\n",
    "cursor.execute('''CREATE TABLE IF NOT EXISTS order_items(\n",
    "order_item_id PRIMARY KEY,\n",
    "order_id INT,\n",
    "product_id INT,\n",
    "quantity INT,\n",
    "unit_price INT,\n",
    "FOREIGN KEY (order_id) REFERENCES orders (order_id),\n",
    "FOREIGN KEY (product_id) REFERENCES products (product_id)\n",
    ")''')\n",
    "\n",
    "connection.commit()\n",
    "connection.close()"
   ]
  },
  {
   "cell_type": "code",
   "execution_count": 3,
   "metadata": {},
   "outputs": [],
   "source": [
    "connection = sqlite3.connect(\"retailStore.db\")\n",
    "cursor = connection.cursor()\n",
    "\n",
    "\n",
    "# Values into customers table\n",
    "cursor.execute('''INSERT INTO customers (customer_id , customer_name , email , phone) VALUES (1 , \"Piyush Goyal\" , \"piyush@gmail.com\" , 123456789)''')\n",
    "cursor.execute('''INSERT INTO customers (customer_id , customer_name , email , phone) VALUES (2 , \"Parth\" , \"parth@gmail.com\" , 123356789)''')\n",
    "cursor.execute('''INSERT INTO customers (customer_id , customer_name , email , phone) VALUES (3 , \"Sanidhya\" , \"sanidhya@gmail.com\" , 133456789)''')\n",
    "\n",
    "# Values into products table\n",
    "cursor.execute('''INSERT INTO products (product_id , product_name , price , stock_quatity) VALUES (1 , \"Product A\" , 10.99, 100)''')\n",
    "cursor.execute('''INSERT INTO products (product_id , product_name , price , stock_quatity) VALUES (2 , \"Product B\" , 20.49, 150)''')\n",
    "cursor.execute('''INSERT INTO products (product_id , product_name , price , stock_quatity) VALUES (3 , \"Product C\" , 15.99, 200)''')\n",
    "\n",
    "# Values in orders table\n",
    "cursor.execute('''INSERT INTO orders (order_id , customer_id , order_date , total_amount) VALUES (1 , 1 , 12/03/2024 , 55.75)''')\n",
    "cursor.execute('''INSERT INTO orders (order_id , customer_id , order_date , total_amount) VALUES (2 , 2 , 13/03/2024 , 78.50)''')\n",
    "cursor.execute('''INSERT INTO orders (order_id , customer_id , order_date , total_amount) VALUES (3 , 3 , 14/03/2024 , 92.25)''')\n",
    "\n",
    "# Values in order_itmes table\n",
    "cursor.execute('''INSERT INTO order_items (order_item_id , order_id , product_id , quantity , unit_price) VALUES (1 , 1 , 1 , 2 , 10.99)''')\n",
    "cursor.execute('''INSERT INTO order_items (order_item_id , order_id , product_id , quantity , unit_price) VALUES (2, 1, 2, 1, 20.49)''')\n",
    "cursor.execute('''INSERT INTO order_items (order_item_id , order_id , product_id , quantity , unit_price) VALUES (3, 2, 3, 3, 15.99)''')\n",
    "cursor.execute('''INSERT INTO order_items (order_item_id , order_id , product_id , quantity , unit_price) VALUES (4, 3, 1, 4, 10.99)''')\n",
    "cursor.execute('''INSERT INTO order_items (order_item_id , order_id , product_id , quantity , unit_price) VALUES (5, 3, 2, 2, 20.49)''')\n",
    "\n",
    "connection.commit()\n",
    "connection.close()"
   ]
  },
  {
   "cell_type": "code",
   "execution_count": 4,
   "metadata": {},
   "outputs": [
    {
     "name": "stdout",
     "output_type": "stream",
     "text": [
      "All Customers : \n",
      "(3, 'Sanidhya', 92.25)\n",
      "(2, 'Parth', 78.5)\n",
      "(1, 'Piyush Goyal', 55.75)\n"
     ]
    }
   ],
   "source": [
    "connection = sqlite3.connect(\"retailStore.db\")\n",
    "cursor = connection.cursor()\n",
    "\n",
    "cursor.execute('''SELECT \n",
    "                    c.customer_id,\n",
    "                    c.customer_name,\n",
    "                    SUM(o.total_amount) AS total_spent\n",
    "                FROM \n",
    "                    Customers c\n",
    "                JOIN \n",
    "                    Orders o ON c.customer_id = o.customer_id\n",
    "                GROUP BY \n",
    "                    c.customer_id,\n",
    "                    c.customer_name\n",
    "                ORDER BY \n",
    "                    total_spent DESC\n",
    "                LIMIT 5''')\n",
    "\n",
    "all_customers = cursor.fetchall()\n",
    "\n",
    "print(\"All Customers : \")\n",
    "for customer in all_customers:\n",
    "    print(customer)\n",
    "\n",
    "connection.close()"
   ]
  }
 ],
 "metadata": {
  "kernelspec": {
   "display_name": "Python 3",
   "language": "python",
   "name": "python3"
  },
  "language_info": {
   "codemirror_mode": {
    "name": "ipython",
    "version": 3
   },
   "file_extension": ".py",
   "mimetype": "text/x-python",
   "name": "python",
   "nbconvert_exporter": "python",
   "pygments_lexer": "ipython3",
   "version": "3.11.0"
  }
 },
 "nbformat": 4,
 "nbformat_minor": 2
}
