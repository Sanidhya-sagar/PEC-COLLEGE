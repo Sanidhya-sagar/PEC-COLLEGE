{
 "cells": [
  {
   "cell_type": "markdown",
   "metadata": {},
   "source": [
    "# Assignment 2\n",
    "\n",
    "*Name:*     Sanidhya \\\n",
    "*SID:*    22106024 \\\n",
    "*Branch:* Computer Science Engineering (Data Science)"
   ]
  },
  {
   "cell_type": "markdown",
   "metadata": {},
   "source": [
    "## Q1\n",
    "\n",
    "Write a program that takes an input from the user (e.g., a number, string, boolean) and\n",
    "identifies its data type using the type() function. Also extend this program to handle\n",
    "different data types like lists, dictionaries, and tuples."
   ]
  },
  {
   "cell_type": "code",
   "execution_count": 1,
   "metadata": {},
   "outputs": [],
   "source": [
    "#Q1\n",
    "\n",
    "usr_input = input(\"Enter some input: \")\n",
    "try:\n",
    "    print(usr_input, \"is of type\", type(eval(usr_input)))\n",
    "except:\n",
    "    print(usr_input, \"is of type\", type(usr_input))"
   ]
  },
  {
   "cell_type": "markdown",
   "metadata": {},
   "source": [
    "## Q2\n",
    "\n",
    "Represent an employee as a tuple containing their ID, name, department, and salary. \\\n",
    "Write a program that allows: \\\n",
    "a. Adding new employees to the database (as tuples). \\\n",
    "b. Searching for an employee by their ID. \\\n",
    "c. Calculating the average salary of a department. \\\n",
    "d. Finding the highest and lowest paid employees."
   ]
  },
  {
   "cell_type": "code",
   "execution_count": null,
   "metadata": {},
   "outputs": [
    {
     "name": "stdout",
     "output_type": "stream",
     "text": [
      "(12, 'Thom', 'HR', 3500)\n",
      "(14, 'Jonny', 'Programmer', 1600)\n",
      "[(12, 'Thom', 'HR', 3500), (13, 'Lloyd', 'Sales', 2500), (13, 'Colin', 'Sales', 2000), (14, 'Jonny', 'Programmer', 1600), (15, 'Harry', 'HR', 6500), (15, 'Ed', 'Programmer', 1700), (16, 'Philip', 'Programmer', 1800)]\n",
      "{'HR': 5000.0, 'Sales': 2250.0, 'Programmer': 1700.0}\n",
      "Highest salary employee: (15, 'Harry', 'HR', 6500)\n",
      "Lowest salary employee: (14, 'Jonny', 'Programmer', 1600)\n"
     ]
    }
   ],
   "source": [
    "#Q2\n",
    "\n",
    "employee_list = list()\n",
    "\n",
    "#a\n",
    "def add_employee(employee:tuple):\n",
    "  try:\n",
    "    employee_list.append(employee)\n",
    "  except:\n",
    "    print(\"Not a valid format for employee data.\")\n",
    "\n",
    "#b\n",
    "def find_employee(ID):\n",
    "  for employee in employee_list:\n",
    "    if ID in employee:\n",
    "      print(employee)\n",
    "      break\n",
    "\n",
    "#c\n",
    "def avg_salary():\n",
    "\n",
    "  department_list = set()\n",
    "  for employee in employee_list:\n",
    "    department_list.add(employee[2])\n",
    "\n",
    "  avg_salaries = dict().fromkeys(department_list)\n",
    "\n",
    "  for department in department_list:\n",
    "    total = 0\n",
    "    manpower = 0\n",
    "    for employee in employee_list:\n",
    "      if (employee[2] == department):\n",
    "        total += employee[3]\n",
    "        manpower += 1\n",
    "    dept_avg = total / manpower\n",
    "    avg_salaries[department] = dept_avg\n",
    "    \n",
    "  print(avg_salaries)\n",
    "  \n",
    "#d\n",
    "def high_low():\n",
    "  highest = (0, \"dummy\", \"dummy\", 0)\n",
    "  lowest = (10000000000, \"dummy\", \"dummy\", 100000000000000)\n",
    "  for employee in employee_list:\n",
    "    if (employee[3] > highest[3]):\n",
    "      highest = employee\n",
    "    elif (employee[3] < lowest[3]):\n",
    "      lowest = employee\n",
    "    \n",
    "  print(\"Highest salary employee:\" , highest) \n",
    "  print(\"Lowest salary employee:\" , lowest)\n",
    "\n",
    "\n",
    "add_employee((12, \"Thom\", \"HR\", 3500))\n",
    "add_employee((13, \"Lloyd\", \"Sales\", 2500))\n",
    "add_employee((13, \"Colin\", \"Sales\", 2000))\n",
    "add_employee((14, \"Jonny\", \"Programmer\", 1600))\n",
    "add_employee((15, \"Harry\", \"HR\", 6500))\n",
    "add_employee((15, \"Ed\", \"Programmer\", 1700))\n",
    "add_employee((16, \"Philip\", \"Programmer\", 1800))\n",
    "\n",
    "find_employee(12)\n",
    "find_employee(14)\n",
    "\n",
    "print(employee_list)\n",
    "avg_salary()\n",
    "\n",
    "high_low()"
   ]
  },
  {
   "cell_type": "markdown",
   "metadata": {},
   "source": [
    "## Q3\n",
    "\n",
    "Scenario: Imagine you're building a simple program to manage books in a library. You need to track which books are available, borrowed, and overdue.\n",
    "\n",
    "a. Use a dictionary to store information about each book, like title, author, ISBN, publication year, and availability status (available, borrowed, overdue). \\\n",
    "b. Use a list to store all the book dictionaries. This allows for easy iteration and searching. \\\n",
    "c. Add new books: Prompt the user for book information and create a new dictionary to add to the inventory list. \\\n",
    "d. Search for books: Allow users to search for books by title, author, or ISBN. Use list functions like index() or linear search to find the matching book. \\\n",
    "e. Borrow/Return books: Update the availability status of a book when borrowed or returned. You can implement a separate list to track currently borrowed books. \\\n",
    "f. Check for overdue books: Iterate through the inventory and identify books where the due date has passed (if implemented)."
   ]
  },
  {
   "cell_type": "code",
   "execution_count": null,
   "metadata": {},
   "outputs": [],
   "source": [
    "from enum import Enum\n",
    "\n",
    "class status(Enum):\n",
    "  AVAILABLE = 0\n",
    "  BORROWED = 1\n",
    "  OVERDUE = 2\n",
    "\n",
    "def make_book(title:str, author:str, isbn:int, pub_year:int, availability:status):\n",
    "  book = {\"Title\" : title,\n",
    "          \"Author\" : author,\n",
    "          \"ISBN\" : isbn,\n",
    "          \"Publication Year\" : pub_year,\n",
    "          \"Availability\" : availability}\n",
    "  return book"
   ]
  },
  {
   "cell_type": "code",
   "execution_count": null,
   "metadata": {},
   "outputs": [],
   "source": [
    "book_list = list()\n",
    "book_list.append(make_book(\"The Art of War\", \"Sun Tzu\", 1, 2017, status.AVAILABLE))\n",
    "book_list.append(make_book(\"Crime And Punishment\", \"Fyodor Dostoyevsky\", 2, 2018, status.BORROWED))\n",
    "book_list.append(make_book(\"Hamlet\", \"William Shakespeare\", 3, 2019, status.OVERDUE))\n",
    "book_list.append(make_book(\"Julius Caesar\", \"William Shakespeare\", 4, 2019, status.AVAILABLE))"
   ]
  },
  {
   "cell_type": "code",
   "execution_count": null,
   "metadata": {},
   "outputs": [
    {
     "name": "stdout",
     "output_type": "stream",
     "text": [
      "Found books corresponding to search query 2 :\n",
      "{'Title': 'Crime And Punishment', 'Author': 'Fyodor Dostoyevsky', 'ISBN': 2, 'Publication Year': 2018, 'Availability': <status.BORROWED: 1>}\n",
      "\n",
      "Found books corresponding to search query William Shakespeare :\n",
      "{'Title': 'Hamlet', 'Author': 'William Shakespeare', 'ISBN': 3, 'Publication Year': 2019, 'Availability': <status.OVERDUE: 2>}\n",
      "{'Title': 'Julius Caesar', 'Author': 'William Shakespeare', 'ISBN': 4, 'Publication Year': 2019, 'Availability': <status.AVAILABLE: 0>}\n",
      "\n"
     ]
    },
    {
     "data": {
      "text/plain": [
       "[{'Title': 'Hamlet',\n",
       "  'Author': 'William Shakespeare',\n",
       "  'ISBN': 3,\n",
       "  'Publication Year': 2019,\n",
       "  'Availability': <status.OVERDUE: 2>},\n",
       " {'Title': 'Julius Caesar',\n",
       "  'Author': 'William Shakespeare',\n",
       "  'ISBN': 4,\n",
       "  'Publication Year': 2019,\n",
       "  'Availability': <status.AVAILABLE: 0>}]"
      ]
     },
     "execution_count": 41,
     "metadata": {},
     "output_type": "execute_result"
    }
   ],
   "source": [
    "def search_book(input, print_out = False):\n",
    "  book_out_list = list()\n",
    "\n",
    "  if print_out:\n",
    "    print(\"Found books corresponding to search query\", input, \":\")\n",
    "\n",
    "  for book in book_list:\n",
    "    if input in book.values():\n",
    "      if print_out:\n",
    "        print(book)\n",
    "      book_out_list.append(book)\n",
    "\n",
    "  print()\n",
    "  return book_out_list\n",
    "\n",
    "\n",
    "search_book(2, True)\n",
    "search_book(\"William Shakespeare\", True)"
   ]
  },
  {
   "cell_type": "code",
   "execution_count": null,
   "metadata": {},
   "outputs": [
    {
     "name": "stdout",
     "output_type": "stream",
     "text": [
      "\n",
      "\n",
      "Found books corresponding to search query William Shakespeare :\n",
      "{'Title': 'Hamlet', 'Author': 'William Shakespeare', 'ISBN': 3, 'Publication Year': 2019, 'Availability': <status.AVAILABLE: 0>}\n",
      "{'Title': 'Julius Caesar', 'Author': 'William Shakespeare', 'ISBN': 4, 'Publication Year': 2019, 'Availability': <status.OVERDUE: 2>}\n",
      "\n",
      "\n"
     ]
    }
   ],
   "source": [
    "search_book(\"William Shakespeare\")[0][\"Availability\"] = status.AVAILABLE\n",
    "search_book(\"William Shakespeare\")[1][\"Availability\"] = status.OVERDUE\n",
    "search_book(\"William Shakespeare\", True)\n",
    "print()"
   ]
  },
  {
   "cell_type": "code",
   "execution_count": null,
   "metadata": {},
   "outputs": [
    {
     "name": "stdout",
     "output_type": "stream",
     "text": [
      "{'Title': 'Julius Caesar', 'Author': 'William Shakespeare', 'ISBN': 4, 'Publication Year': 2019, 'Availability': <status.OVERDUE: 2>}\n"
     ]
    }
   ],
   "source": [
    "def find_overdue():\n",
    "  for book in book_list:\n",
    "    if book[\"Availability\"] == status.OVERDUE:\n",
    "      print(book)\n",
    "\n",
    "find_overdue()"
   ]
  }
 ],
 "metadata": {
  "kernelspec": {
   "display_name": "DAIR",
   "language": "python",
   "name": "python3"
  },
  "language_info": {
   "codemirror_mode": {
    "name": "ipython",
    "version": 3
   },
   "file_extension": ".py",
   "mimetype": "text/x-python",
   "name": "python",
   "nbconvert_exporter": "python",
   "pygments_lexer": "ipython3",
   "version": "3.11.0"
  }
 },
 "nbformat": 4,
 "nbformat_minor": 2
}
