{
 "cells": [
  {
   "cell_type": "markdown",
   "metadata": {},
   "source": [
    "# DAIR ASSIGNMENT IV\n",
    "\n",
    "Name:     Sanidhya \\\n",
    "SID:    22106024 \\\n",
    "Branch: Computer Science Engineering (Data Science)\n"
   ]
  },
  {
   "cell_type": "markdown",
   "metadata": {},
   "source": [
    "## Creating a Database and Table"
   ]
  },
  {
   "cell_type": "code",
   "execution_count": 14,
   "metadata": {},
   "outputs": [],
   "source": [
    "import sqlite3"
   ]
  },
  {
   "cell_type": "code",
   "execution_count": 15,
   "metadata": {},
   "outputs": [
    {
     "ename": "OperationalError",
     "evalue": "table students already exists",
     "output_type": "error",
     "traceback": [
      "\u001b[1;31m---------------------------------------------------------------------------\u001b[0m",
      "\u001b[1;31mOperationalError\u001b[0m                          Traceback (most recent call last)",
      "Cell \u001b[1;32mIn[15], line 5\u001b[0m\n\u001b[0;32m      2\u001b[0m connection \u001b[38;5;241m=\u001b[39m sqlite3\u001b[38;5;241m.\u001b[39mconnect(\u001b[38;5;124m'\u001b[39m\u001b[38;5;124mlab_database.db\u001b[39m\u001b[38;5;124m'\u001b[39m)\n\u001b[0;32m      4\u001b[0m cursor \u001b[38;5;241m=\u001b[39m connection\u001b[38;5;241m.\u001b[39mcursor()\n\u001b[1;32m----> 5\u001b[0m \u001b[43mcursor\u001b[49m\u001b[38;5;241;43m.\u001b[39;49m\u001b[43mexecute\u001b[49m\u001b[43m(\u001b[49m\u001b[38;5;124;43m'''\u001b[39;49m\u001b[38;5;124;43mCREATE TABLE students (\u001b[39;49m\n\u001b[0;32m      6\u001b[0m \u001b[38;5;124;43m               id INTEGER PRIMARY KEY,\u001b[39;49m\n\u001b[0;32m      7\u001b[0m \u001b[38;5;124;43m               name TEXT,\u001b[39;49m\n\u001b[0;32m      8\u001b[0m \u001b[38;5;124;43m               age INTEGER,\u001b[39;49m\n\u001b[0;32m      9\u001b[0m \u001b[38;5;124;43m               grade REAL\u001b[39;49m\n\u001b[0;32m     10\u001b[0m \u001b[38;5;124;43m               )\u001b[39;49m\u001b[38;5;124;43m'''\u001b[39;49m\u001b[43m)\u001b[49m\n\u001b[0;32m     12\u001b[0m connection\u001b[38;5;241m.\u001b[39mcommit()\n\u001b[0;32m     13\u001b[0m connection\u001b[38;5;241m.\u001b[39mclose()\n",
      "\u001b[1;31mOperationalError\u001b[0m: table students already exists"
     ]
    }
   ],
   "source": [
    "\n",
    "#Connect to a new SQLite database:\n",
    "connection = sqlite3.connect('lab_database.db')\n",
    "\n",
    "cursor = connection.cursor()\n",
    "cursor.execute('''CREATE TABLE students (\n",
    "               id INTEGER PRIMARY KEY,\n",
    "               name TEXT,\n",
    "               age INTEGER,\n",
    "               grade REAL\n",
    "               )''')\n",
    "\n",
    "connection.commit()\n",
    "connection.close()"
   ]
  },
  {
   "cell_type": "markdown",
   "metadata": {},
   "source": [
    "## Inserting Data"
   ]
  },
  {
   "cell_type": "code",
   "execution_count": null,
   "metadata": {},
   "outputs": [
    {
     "ename": "NameError",
     "evalue": "name 'sqlite3' is not defined",
     "output_type": "error",
     "traceback": [
      "\u001b[1;31m---------------------------------------------------------------------------\u001b[0m",
      "\u001b[1;31mNameError\u001b[0m                                 Traceback (most recent call last)",
      "Cell \u001b[1;32mIn[4], line 1\u001b[0m\n\u001b[1;32m----> 1\u001b[0m connection \u001b[38;5;241m=\u001b[39m \u001b[43msqlite3\u001b[49m\u001b[38;5;241m.\u001b[39mconnect(\u001b[38;5;124m'\u001b[39m\u001b[38;5;124mlab_database.db\u001b[39m\u001b[38;5;124m'\u001b[39m)\n\u001b[0;32m      2\u001b[0m cursor \u001b[38;5;241m=\u001b[39m connection\u001b[38;5;241m.\u001b[39mcursor()\n\u001b[0;32m      4\u001b[0m cursor\u001b[38;5;241m.\u001b[39mexecute(\u001b[38;5;124m\"\u001b[39m\u001b[38;5;124mINSERT INTO students (name, age, grade) VALUES (\u001b[39m\u001b[38;5;124m'\u001b[39m\u001b[38;5;124mJohn Doe\u001b[39m\u001b[38;5;124m'\u001b[39m\u001b[38;5;124m, 20, 85.5)\u001b[39m\u001b[38;5;124m\"\u001b[39m)\n",
      "\u001b[1;31mNameError\u001b[0m: name 'sqlite3' is not defined"
     ]
    }
   ],
   "source": [
    "connection = sqlite3.connect('lab_database.db')\n",
    "cursor = connection.cursor()\n",
    "\n",
    "cursor.execute(\"INSERT INTO students (name, age, grade) VALUES ('John Doe', 20, 85.5)\")\n",
    "cursor.execute(\"INSERT INTO students (name, age, grade) VALUES ('Jane Smith', 22, 92.0)\")\n",
    "cursor.execute(\"INSERT INTO students (name, age, grade) VALUES ('Bob Johnson', 21, 78.5)\")\n",
    "\n",
    "connection.commit()\n",
    "connection.close()"
   ]
  },
  {
   "cell_type": "markdown",
   "metadata": {},
   "source": [
    "## Querying Data"
   ]
  },
  {
   "cell_type": "code",
   "execution_count": null,
   "metadata": {},
   "outputs": [
    {
     "name": "stdout",
     "output_type": "stream",
     "text": [
      "All Students:\n",
      "(1, 'John Doe', 20, 85.5)\n",
      "(2, 'Jane Smith', 22, 95.0)\n",
      "\n",
      "Students with Grade > 90:\n",
      "(2, 'Jane Smith', 22, 95.0)\n",
      "\n",
      "Students aged 21:\n"
     ]
    }
   ],
   "source": [
    "connection = sqlite3.connect('lab_database.db')\n",
    "cursor = connection.cursor()\n",
    "\n",
    "cursor.execute(\"SELECT * FROM students\")\n",
    "all_students = cursor.fetchall()\n",
    "print(\"All Students:\")\n",
    "for student in all_students:\n",
    "    print(student)\n",
    "\n",
    "cursor.execute(\"SELECT * FROM students WHERE grade > 90\")\n",
    "high_grade_students = cursor.fetchall()\n",
    "print(\"\\nStudents with Grade > 90:\")\n",
    "for student in high_grade_students:\n",
    "    print(student)\n",
    "\n",
    "cursor.execute(\"SELECT * FROM students WHERE age = 21\")\n",
    "age_21_students = cursor.fetchall()\n",
    "print(\"\\nStudents aged 21:\")\n",
    "for student in age_21_students:\n",
    "    print(student)\n",
    "\n",
    "connection.close()"
   ]
  },
  {
   "cell_type": "markdown",
   "metadata": {},
   "source": [
    "## Updating Data"
   ]
  },
  {
   "cell_type": "code",
   "execution_count": null,
   "metadata": {},
   "outputs": [],
   "source": [
    "connection = sqlite3.connect('lab_database.db')\n",
    "cursor = connection.cursor()\n",
    "\n",
    "cursor.execute(\"UPDATE students SET grade = 95.0 WHERE name = 'Jane Smith'\")\n",
    "\n",
    "connection.commit()\n",
    "connection.close()"
   ]
  },
  {
   "cell_type": "markdown",
   "metadata": {},
   "source": [
    "## Deleting Data"
   ]
  },
  {
   "cell_type": "code",
   "execution_count": null,
   "metadata": {},
   "outputs": [],
   "source": [
    "connection = sqlite3.connect('lab_database.db')\n",
    "cursor = connection.cursor()\n",
    "cursor.execute(\"DELETE FROM students WHERE name = 'Bob Johnson'\")\n",
    "\n",
    "connection.commit()\n",
    "connection.close()"
   ]
  },
  {
   "cell_type": "markdown",
   "metadata": {},
   "source": [
    "## Report Summary:\n",
    "\n",
    "Observations:\n",
    "\n",
    "    first we create a SQLite database file named \"lab_database.db\".\n",
    "    then defines a table named \"students\" with four columns: \"id\", \"name\", \"age\", and \"grade\".\n",
    "\n",
    "    Then we will add three new students named 'John Doe', 'Jane Smith', and 'Bob Johnson' with their respective ages and grades to the \"students\" table in the SQLite database \"lab_database.db\".\n",
    "\n",
    "    then we will fetch and print all students, students with a grade greater than 90, and students aged 21 from the \"students\" table in the SQLite database \"lab_database.db\".\n",
    "\n",
    "    then we will update the grade of the student named 'Jane Smith' to 95.0 in the \"students\" table of the SQLite database \"lab_database.db\".\n",
    "\n",
    "    At last we will delete the record of the student named 'Bob Johnson' from the \"students\" table in the SQLite database \"lab_database.db\".\n",
    "\n",
    "    \n",
    "\n",
    "Conclusion:\n",
    "\n",
    "    The script effectively creates a SQLite database file and defines a table structure within it. It demonstrates basic operations on SQLite database.\n"
   ]
  }
 ],
 "metadata": {
  "kernelspec": {
   "display_name": "Python 3",
   "language": "python",
   "name": "python3"
  },
  "language_info": {
   "codemirror_mode": {
    "name": "ipython",
    "version": 3
   },
   "file_extension": ".py",
   "mimetype": "text/x-python",
   "name": "python",
   "nbconvert_exporter": "python",
   "pygments_lexer": "ipython3",
   "version": "3.11.0"
  }
 },
 "nbformat": 4,
 "nbformat_minor": 2
}
