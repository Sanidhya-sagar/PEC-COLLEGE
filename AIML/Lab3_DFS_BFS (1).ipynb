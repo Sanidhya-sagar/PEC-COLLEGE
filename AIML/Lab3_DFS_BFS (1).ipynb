{
 "cells": [
  {
   "cell_type": "code",
   "execution_count": 23,
   "id": "221ffff0",
   "metadata": {},
   "outputs": [],
   "source": [
    "#DFS & BFS"
   ]
  },
  {
   "cell_type": "code",
   "execution_count": 24,
   "id": "fa53439f",
   "metadata": {},
   "outputs": [],
   "source": [
    "#Input Graph(g)\n",
    "\n",
    "g = {'A': set(['B', 'C']),\n",
    "         'B': set(['A', 'D', 'E']),\n",
    "         'C': set(['A', 'F']),\n",
    "         'D': set(['B']),\n",
    "         'E': set(['B', 'F']),\n",
    "         'F': set(['C', 'E'])}"
   ]
  },
  {
   "cell_type": "code",
   "execution_count": 25,
   "id": "79d0abea",
   "metadata": {},
   "outputs": [
    {
     "name": "stdout",
     "output_type": "stream",
     "text": [
      "{'A': {'B', 'C'}, 'B': {'E', 'A', 'D'}, 'C': {'A', 'F'}, 'D': {'B'}, 'E': {'F', 'B'}, 'F': {'E', 'C'}}\n"
     ]
    }
   ],
   "source": [
    "print(g)"
   ]
  },
  {
   "cell_type": "code",
   "execution_count": 26,
   "id": "7777065f",
   "metadata": {},
   "outputs": [
    {
     "data": {
      "text/plain": [
       "{'A': {'B', 'C'},\n",
       " 'B': {'A', 'D', 'E'},\n",
       " 'C': {'A', 'F'},\n",
       " 'D': {'B'},\n",
       " 'E': {'B', 'F'},\n",
       " 'F': {'C', 'E'}}"
      ]
     },
     "execution_count": 26,
     "metadata": {},
     "output_type": "execute_result"
    }
   ],
   "source": [
    "g"
   ]
  },
  {
   "cell_type": "code",
   "execution_count": 27,
   "id": "f57627b7",
   "metadata": {},
   "outputs": [
    {
     "data": {
      "text/plain": [
       "dict_values([{'B', 'C'}, {'E', 'A', 'D'}, {'A', 'F'}, {'B'}, {'F', 'B'}, {'E', 'C'}])"
      ]
     },
     "execution_count": 27,
     "metadata": {},
     "output_type": "execute_result"
    }
   ],
   "source": [
    "#values() is an inbuilt method in Python programming language that returns a view object.\n",
    "#The view object contains the values of the dictionary, as a list.  \n",
    "g.values()"
   ]
  },
  {
   "cell_type": "code",
   "execution_count": 28,
   "id": "f1ed741b",
   "metadata": {},
   "outputs": [],
   "source": [
    " #dfs"
   ]
  },
  {
   "cell_type": "code",
   "execution_count": 29,
   "id": "367a821e",
   "metadata": {},
   "outputs": [],
   "source": [
    "def dfs(graph, start):\n",
    "    visited, stack = set(), [start]\n",
    "    while stack:\n",
    "        vertex = stack.pop()\n",
    "        print(vertex)\n",
    "        if vertex not in visited:\n",
    "            visited.add(vertex)\n",
    "            stack.extend(graph[vertex] - visited)\n",
    "    return visited"
   ]
  },
  {
   "cell_type": "code",
   "execution_count": 30,
   "id": "13a63322",
   "metadata": {},
   "outputs": [
    {
     "name": "stdout",
     "output_type": "stream",
     "text": [
      "A\n",
      "C\n",
      "F\n",
      "E\n",
      "B\n",
      "D\n",
      "B\n"
     ]
    },
    {
     "data": {
      "text/plain": [
       "{'A', 'B', 'C', 'D', 'E', 'F'}"
      ]
     },
     "execution_count": 30,
     "metadata": {},
     "output_type": "execute_result"
    }
   ],
   "source": [
    "dfs(g , 'A')"
   ]
  },
  {
   "cell_type": "code",
   "execution_count": 31,
   "id": "9a55bb84",
   "metadata": {},
   "outputs": [],
   "source": [
    "#bfs "
   ]
  },
  {
   "cell_type": "code",
   "execution_count": 32,
   "id": "2bf2184d",
   "metadata": {},
   "outputs": [],
   "source": [
    "\n",
    "def bfs(graph, start):\n",
    "    visited, queue = set(), [start]\n",
    "    while queue:\n",
    "        vertex = queue.pop(0)\n",
    "        print(vertex)\n",
    "        if vertex not in visited:\n",
    "            visited.add(vertex)\n",
    "            queue.extend(graph[vertex] - visited)\n",
    "    return visited\n"
   ]
  },
  {
   "cell_type": "code",
   "execution_count": 33,
   "id": "4cdf29cf",
   "metadata": {},
   "outputs": [
    {
     "name": "stdout",
     "output_type": "stream",
     "text": [
      "A\n",
      "B\n",
      "C\n",
      "E\n",
      "D\n",
      "F\n",
      "F\n"
     ]
    },
    {
     "data": {
      "text/plain": [
       "{'A', 'B', 'C', 'D', 'E', 'F'}"
      ]
     },
     "execution_count": 33,
     "metadata": {},
     "output_type": "execute_result"
    }
   ],
   "source": [
    "bfs(g, 'A')"
   ]
  },
  {
   "cell_type": "code",
   "execution_count": null,
   "id": "edc66cd7",
   "metadata": {},
   "outputs": [],
   "source": []
  }
 ],
 "metadata": {
  "kernelspec": {
   "display_name": "Python 3 (ipykernel)",
   "language": "python",
   "name": "python3"
  },
  "language_info": {
   "codemirror_mode": {
    "name": "ipython",
    "version": 3
   },
   "file_extension": ".py",
   "mimetype": "text/x-python",
   "name": "python",
   "nbconvert_exporter": "python",
   "pygments_lexer": "ipython3",
   "version": "3.11.0"
  }
 },
 "nbformat": 4,
 "nbformat_minor": 5
}
